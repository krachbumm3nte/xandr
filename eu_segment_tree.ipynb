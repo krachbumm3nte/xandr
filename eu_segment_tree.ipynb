{
 "cells": [
  {
   "cell_type": "code",
   "execution_count": 1,
   "metadata": {},
   "outputs": [],
   "source": [
    "import pandas as pd\n",
    "import csv\n",
    "from anytree import Node, Walker\n",
    "import re\n",
    "import ast\n",
    "import swifter"
   ]
  },
  {
   "cell_type": "code",
   "execution_count": 2,
   "metadata": {},
   "outputs": [],
   "source": [
    "eu_tags = pd.read_csv(\"filtered_eu.csv\")\n",
    "eu_tags[\"name_list\"] = eu_tags[\"name_list\"].apply(lambda x: ast.literal_eval(x))"
   ]
  },
  {
   "cell_type": "code",
   "execution_count": 3,
   "metadata": {},
   "outputs": [
    {
     "data": {
      "application/vnd.jupyter.widget-view+json": {
       "model_id": "dfcce94d700f488b8359bb306d3688f1",
       "version_major": 2,
       "version_minor": 0
      },
      "text/plain": [
       "Pandas Apply:   0%|          | 0/40398 [00:00<?, ?it/s]"
      ]
     },
     "metadata": {},
     "output_type": "display_data"
    }
   ],
   "source": [
    "eu_false_positives = re.compile(\"|\".join([\"[furniture|nail] polish\",\n",
    "                                         \"irish [whiskey|cream]\",\n",
    "                                         \"speak[er|ing]\",\n",
    "                                         \"language\",\n",
    "                                         \"hispanic\",\n",
    "                                         \"tour de france\",\n",
    "                                         \"en\\w+es\\w+pt\", # uses pt and es country codes because all segments ar multilingual\n",
    "                                         ]))\n",
    "\n",
    "eu_tags_filtered = eu_tags[eu_tags.swifter.apply(lambda x: not bool(re.search(eu_false_positives, x[\"name\"])), axis = 1)]"
   ]
  },
  {
   "cell_type": "code",
   "execution_count": 4,
   "metadata": {},
   "outputs": [],
   "source": [
    "tree = {}\n",
    "\n",
    "for item, row in eu_tags_filtered.iterrows():\n",
    "    segment_list = row[\"name_list\"]\n",
    "    level = tree\n",
    "    for item in segment_list:\n",
    "        if not item in level:\n",
    "            level[item] = {}\n",
    "        level = level[item]"
   ]
  },
  {
   "cell_type": "code",
   "execution_count": 5,
   "metadata": {},
   "outputs": [],
   "source": [
    "import json\n",
    "with open(\"hierarchy.json\", \"w\") as f:\n",
    "    json.dump(tree, f)"
   ]
  },
  {
   "cell_type": "code",
   "execution_count": 6,
   "metadata": {},
   "outputs": [],
   "source": [
    "def squeeze_tree(tree, thresh):\n",
    "    items = list(tree.items())\n",
    "    if len(items) == 1:\n",
    "        k,v = items[0]\n",
    "\n",
    "        if len(v) == 0:\n",
    "            return k\n",
    "        \n",
    "        ret = squeeze_tree(v, thresh)\n",
    "        if type(ret) == str:\n",
    "            return \" - \".join([k, ret])\n",
    "        else:\n",
    "            return {k: ret}\n",
    "\n",
    "    temp = {}\n",
    "    for k, v in items:\n",
    "        temp[k] = squeeze_tree(v, thresh)\n",
    "    return temp"
   ]
  },
  {
   "cell_type": "code",
   "execution_count": 7,
   "metadata": {},
   "outputs": [],
   "source": [
    "tree_squeezed = squeeze_tree(tree, 1)\n",
    "with open(\"hierarchy.json\", \"w\") as f:\n",
    "    json.dump(tree_squeezed, f)"
   ]
  },
  {
   "cell_type": "code",
   "execution_count": null,
   "metadata": {},
   "outputs": [],
   "source": []
  }
 ],
 "metadata": {
  "kernelspec": {
   "display_name": ".venv",
   "language": "python",
   "name": "python3"
  },
  "language_info": {
   "codemirror_mode": {
    "name": "ipython",
    "version": 3
   },
   "file_extension": ".py",
   "mimetype": "text/x-python",
   "name": "python",
   "nbconvert_exporter": "python",
   "pygments_lexer": "ipython3",
   "version": "3.10.6"
  },
  "orig_nbformat": 4
 },
 "nbformat": 4,
 "nbformat_minor": 2
}
