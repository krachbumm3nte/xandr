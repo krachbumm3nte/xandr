{
 "cells": [
  {
   "cell_type": "code",
   "execution_count": 1,
   "metadata": {},
   "outputs": [],
   "source": [
    "import pandas as pd\n",
    "import os\n",
    "import numpy as np\n",
    "import utils\n",
    "import re"
   ]
  },
  {
   "cell_type": "code",
   "execution_count": 2,
   "metadata": {},
   "outputs": [],
   "source": [
    "categories_key = {\n",
    "    1: \"Gewerkschaftszugehörigkeit\",\n",
    "    2: \"rassische und ethnische Herkunft\",\n",
    "    3: \"Gesundheitsdaten\",\n",
    "    4: \"Sexualleben/sexuelle Orientierung\",\n",
    "    5: \"religiöse oder weltanschauliche Überzeugungen\",\n",
    "    6: \"Kinder\",\n",
    "    7: \"Finanzstatus\",\n",
    "    8: \"persönliche Schwächen\",\n",
    "    9: \"politische Meinungen\",\n",
    "}"
   ]
  },
  {
   "cell_type": "code",
   "execution_count": 3,
   "metadata": {},
   "outputs": [],
   "source": [
    "df_hand_filtered = pd.read_csv(\"sensitive_eu_segments_hand_filtered.csv\")"
   ]
  },
  {
   "cell_type": "markdown",
   "metadata": {},
   "source": [
    "# Join hand-filtered segments with original dataset"
   ]
  },
  {
   "cell_type": "code",
   "execution_count": 4,
   "metadata": {},
   "outputs": [],
   "source": [
    "df_orig = pd.read_csv(\"xandr_segments.csv\")\n",
    "df_orig = df_orig.rename(columns={\"Segment Name\": \"segment_name\",\n",
    "                                  \"Data Provider Name\": \"provider_name\",\n",
    "                                  \"Data Provider ID\": \"provider_id\",\n",
    "                                  \"Segment ID\": \"id\"})\n",
    "\n",
    "# set index for both datasets; required for join\n",
    "df_orig = df_orig.set_index(\"id\")\n",
    "df_hand_filtered = df_hand_filtered.set_index(\"id\")"
   ]
  },
  {
   "cell_type": "code",
   "execution_count": 5,
   "metadata": {},
   "outputs": [],
   "source": [
    "df_full = pd.concat([df_orig, df_hand_filtered], axis=1, join=\"inner\")\n",
    "df_full = df_full.rename(columns={\"name\": \"name_processed\", \"main_category\": \"category\", \"id\": \"segment_id\"})\n",
    "df_full = df_full.sort_values(by=[\"category\", \"country\", \"name_processed\"])\n",
    "\n",
    "# reorganize dataframe\n",
    "columns = ['category', 'country', 'segment_name', 'hit',\n",
    "        'provider_name', 'provider_id', 'name_processed']\n",
    "df_full = df_full[columns]\n",
    "\n"
   ]
  },
  {
   "cell_type": "markdown",
   "metadata": {},
   "source": [
    "# Filter contextual segments\n",
    "\n",
    "Since Contextual advertising is far less intrusive, decided to remove some of the better known providers of contextual advertisement. This list is not exhaustive, and some contextual segments wil most certainly remain in the dataset"
   ]
  },
  {
   "cell_type": "code",
   "execution_count": 6,
   "metadata": {},
   "outputs": [
    {
     "name": "stdout",
     "output_type": "stream",
     "text": [
      "dataset size before: 2045, after: 1900\n"
     ]
    }
   ],
   "source": [
    "old_len = len(df_full)\n",
    "contextual_names = utils.list_to_regex([\"grapeshot\", \"peer39\", \"emetriq\"])\n",
    "\n",
    "def filter_contextual(row):\n",
    "    return bool(re.search(contextual_names, row[\"provider_name\"])) or bool(re.match(contextual_names, row[\"name_processed\"]))\n",
    "\n",
    "df_full = df_full[df_full.apply(lambda x: not filter_contextual(x), axis=1)]\n",
    "print(f\"dataset size before: {old_len}, after: {len(df_full)}\")"
   ]
  },
  {
   "cell_type": "markdown",
   "metadata": {},
   "source": [
    "# Category frequency"
   ]
  },
  {
   "cell_type": "code",
   "execution_count": 7,
   "metadata": {},
   "outputs": [
    {
     "data": {
      "text/plain": [
       "category\n",
       "Finanzstatus                                     940\n",
       "Kinder                                           793\n",
       "politische Meinungen                              84\n",
       "Gesundheitsdaten                                  54\n",
       "religiöse oder weltanschauliche Überzeugungen     17\n",
       "persönliche Schwächen                             11\n",
       "Sexualleben/sexuelle Orientierung                  1\n",
       "Name: count, dtype: int64"
      ]
     },
     "execution_count": 7,
     "metadata": {},
     "output_type": "execute_result"
    }
   ],
   "source": [
    "df_full[\"category\"].value_counts()"
   ]
  },
  {
   "cell_type": "markdown",
   "metadata": {},
   "source": [
    "# Country frequency"
   ]
  },
  {
   "cell_type": "code",
   "execution_count": 8,
   "metadata": {},
   "outputs": [
    {
     "data": {
      "text/plain": [
       "country\n",
       "netherlands    376\n",
       "germany        331\n",
       "spain          317\n",
       "france         290\n",
       "sweden         183\n",
       "italy          135\n",
       "denmark        133\n",
       "finland        104\n",
       "greece          10\n",
       "austria          8\n",
       "belgium          5\n",
       "portugal         4\n",
       "croatia          2\n",
       "poland           1\n",
       "slovakia         1\n",
       "Name: count, dtype: int64"
      ]
     },
     "execution_count": 8,
     "metadata": {},
     "output_type": "execute_result"
    }
   ],
   "source": [
    "df_full[\"country\"].value_counts()"
   ]
  },
  {
   "cell_type": "markdown",
   "metadata": {},
   "source": [
    "# Data provider frequency"
   ]
  },
  {
   "cell_type": "code",
   "execution_count": 9,
   "metadata": {},
   "outputs": [
    {
     "data": {
      "text/plain": [
       "provider_name\n",
       "Audiences by Oracle (BlueKai, Datalogix, AddThis)    438\n",
       "Eyeota                                               324\n",
       "GroupM NL - GH 6924                                  235\n",
       "ZeoTap                                               221\n",
       "Adsquare (Data Provider)                             202\n",
       "Lotame                                               124\n",
       "Greenhouse Group B.V.                                 78\n",
       "digitalAudience                                       70\n",
       "Nielsen Marketing Cloud                               64\n",
       "KBM Group                                             58\n",
       "Audiens S.R.L.                                        19\n",
       "Semasio GmbH (Data Provider)                          19\n",
       "The Weather Channel, LLC                               9\n",
       "The ADEX GmbH                                          8\n",
       "LiveRamp Data Store                                    7\n",
       "Tru Optik (CTV)                                        7\n",
       "Weborama SA (Data Provider)                            6\n",
       "Datmean (Data Provider)                                3\n",
       "Dstillery                                              2\n",
       "Epsilon Data Management, LLC.                          1\n",
       "Skydeo, Inc.                                           1\n",
       "Semcasting (Data Provider)                             1\n",
       "Oracle Customs (1st, BlueKai, Datalogix, AddThis)      1\n",
       "Digiseg                                                1\n",
       "Retargetly                                             1\n",
       "Name: count, dtype: int64"
      ]
     },
     "execution_count": 9,
     "metadata": {},
     "output_type": "execute_result"
    }
   ],
   "source": [
    "df_full.value_counts(\"provider_name\")"
   ]
  },
  {
   "cell_type": "markdown",
   "metadata": {},
   "source": [
    "# Sort segments by country, broker and category\n",
    "\n",
    "This was useful for some minor analyses"
   ]
  },
  {
   "cell_type": "code",
   "execution_count": 10,
   "metadata": {},
   "outputs": [],
   "source": [
    "dirname_country = \"eu_segments_by_country\"\n",
    "\n",
    "df_grouped_country = df_full.groupby(\"country\")\n",
    "\n",
    "for name, data in df_grouped_country.__iter__():\n",
    "    data.to_csv(os.path.join(dirname_country, f\"{name}.csv\"))"
   ]
  },
  {
   "cell_type": "code",
   "execution_count": 11,
   "metadata": {},
   "outputs": [],
   "source": [
    "dirname_broker = \"eu_segments_by_broker\"\n",
    "\n",
    "len_threshold = 10\n",
    "\n",
    "df_grouped_broker = df_full.groupby(\"provider_name\")\n",
    "\n",
    "df_other = pd.DataFrame(columns=df_full.columns)\n",
    "\n",
    "for name, data in df_grouped_broker.__iter__():\n",
    "    if len(data) < len_threshold:\n",
    "        df_other = pd.concat([df_other, data])\n",
    "    else:\n",
    "        name = name.replace(\",\", \"\").replace(\".\", \"\").replace(\" \", \"_\")\n",
    "        data[[\"provider_name\", \"provider_id\", \"segment_name\", \"country\"]].to_csv(os.path.join(dirname_broker, f\"{name}.csv\"))\n",
    "\n",
    "df_other.index = df_other.index.set_names(\"id\")\n",
    "df_other.to_csv(os.path.join(dirname_broker, \"other.csv\"))"
   ]
  },
  {
   "cell_type": "code",
   "execution_count": 12,
   "metadata": {},
   "outputs": [
    {
     "name": "stdout",
     "output_type": "stream",
     "text": [
      "Finanzstatus.csv\n",
      "Gesundheitsdaten.csv\n",
      "Kinder.csv\n",
      "Sexualleben_sexuelle_Orientierung.csv\n",
      "persönliche_Schwächen.csv\n",
      "politische_Meinungen.csv\n",
      "religiöse_oder_weltanschauliche_Überzeugungen.csv\n"
     ]
    }
   ],
   "source": [
    "dirname_country = \"eu_segments_by_category\"\n",
    "\n",
    "df_grouped_country = df_full.groupby(\"category\")\n",
    "\n",
    "for name, data in df_grouped_country.__iter__():\n",
    "    filename = f\"{re.sub(r'[ /]', '_', name)}.csv\"\n",
    "    print(filename)\n",
    "    data.to_csv(os.path.join(dirname_country, filename))"
   ]
  },
  {
   "cell_type": "markdown",
   "metadata": {},
   "source": [
    "# Create csv files to be read by DataWrapper"
   ]
  },
  {
   "cell_type": "code",
   "execution_count": 13,
   "metadata": {},
   "outputs": [],
   "source": [
    "eu_countries = pd.read_json(\"eu_countries.json\")\n",
    "eu_countries = eu_countries.set_index(\"name\")\n",
    "eu_countries[\"hits\"] = np.nan"
   ]
  },
  {
   "cell_type": "code",
   "execution_count": 14,
   "metadata": {},
   "outputs": [
    {
     "name": "stdout",
     "output_type": "stream",
     "text": [
      "Finanzstatus: 940 hits in 9 countries.\n",
      "Gesundheitsdaten: 54 hits in 8 countries.\n",
      "Kinder: 793 hits in 15 countries.\n",
      "Sexualleben_sexuelle_Orientierung: 1 hits in 1 countries.\n",
      "persönliche_Schwächen: 11 hits in 5 countries.\n",
      "politische_Meinungen: 84 hits in 7 countries.\n",
      "religiöse_oder_weltanschauliche_Überzeugungen: 17 hits in 6 countries.\n"
     ]
    }
   ],
   "source": [
    "highlights = pd.read_json(\"filet.json\")\n",
    "\n",
    "for category, data in df_full.groupby(\"category\").__iter__():\n",
    "    category_df = eu_countries[[\"hits\", \"name_de\"]].reset_index()\n",
    "    for countryname, count in data[\"country\"].value_counts().items():\n",
    "        category_df.loc[category_df[\"name\"] == countryname, \"hits\"] = count\n",
    "        for highlight_idx, highlight in enumerate(highlights[(highlights[\"category\"] == category) & (highlights[\"country\"] == countryname)][\"filet\"].values):\n",
    "            category_df.loc[category_df[\"name\"] == countryname, f\"highlight_{highlight_idx}\"] = \" > \".join(highlight)\n",
    "    category = re.sub(r'[/ ]', r\"_\", category)\n",
    "\n",
    "    category_df.loc[category_df[\"name\"] == \"czechia\", \"name\"] = \"czech republic\"\n",
    "    category_df.drop(len(category_df)-1, inplace=True)\n",
    "    category_df.set_index(\"name\", drop=True, inplace=True)\n",
    "    n_hits = category_df[\"hits\"].sum()\n",
    "    n_countries = len(category_df[category_df[\"hits\"] > 0])\n",
    "    print(f\"{category}: {int(n_hits)} hits in {n_countries} countries.\")\n",
    "    category_df.to_csv(os.path.join(\"datawrapper_files\", f\"{category}.csv\"))\n"
   ]
  }
 ],
 "metadata": {
  "kernelspec": {
   "display_name": ".venv",
   "language": "python",
   "name": "python3"
  },
  "language_info": {
   "codemirror_mode": {
    "name": "ipython",
    "version": 3
   },
   "file_extension": ".py",
   "mimetype": "text/x-python",
   "name": "python",
   "nbconvert_exporter": "python",
   "pygments_lexer": "ipython3",
   "version": "3.10.12"
  },
  "orig_nbformat": 4
 },
 "nbformat": 4,
 "nbformat_minor": 2
}
