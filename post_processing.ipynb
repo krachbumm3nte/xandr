{
 "cells": [
  {
   "cell_type": "code",
   "execution_count": 4,
   "metadata": {},
   "outputs": [],
   "source": [
    "import pandas as pd\n",
    "import csv\n",
    "import re\n",
    "import ast \n",
    "import os\n",
    "dirname = \"spicy_words_manually_filtered\"\n"
   ]
  },
  {
   "cell_type": "code",
   "execution_count": 16,
   "metadata": {},
   "outputs": [],
   "source": [
    "\n",
    "df_list = []\n",
    "for f in os.listdir(dirname):\n",
    "    if not f.endswith(\".csv\"):\n",
    "        continue\n",
    "    # df_list.append(pd.read_excel(f, engine=\"odf\"))\n",
    "    df = pd.read_csv(os.path.join(dirname, f))\n",
    "    df[\"countries\"] = df[\"countries\"].apply(ast.literal_eval)\n",
    "    df_list.append(df)\n",
    "\n",
    "\n",
    "df_unified = pd.concat(df_list)"
   ]
  },
  {
   "cell_type": "code",
   "execution_count": 19,
   "metadata": {},
   "outputs": [
    {
     "data": {
      "text/html": [
       "<div>\n",
       "<style scoped>\n",
       "    .dataframe tbody tr th:only-of-type {\n",
       "        vertical-align: middle;\n",
       "    }\n",
       "\n",
       "    .dataframe tbody tr th {\n",
       "        vertical-align: top;\n",
       "    }\n",
       "\n",
       "    .dataframe thead th {\n",
       "        text-align: right;\n",
       "    }\n",
       "</style>\n",
       "<table border=\"1\" class=\"dataframe\">\n",
       "  <thead>\n",
       "    <tr style=\"text-align: right;\">\n",
       "      <th></th>\n",
       "      <th>Unnamed: 0</th>\n",
       "      <th>id</th>\n",
       "      <th>hit</th>\n",
       "      <th>name</th>\n",
       "      <th>countries</th>\n",
       "    </tr>\n",
       "  </thead>\n",
       "  <tbody>\n",
       "    <tr>\n",
       "      <th>0</th>\n",
       "      <td>611</td>\n",
       "      <td>18206584</td>\n",
       "      <td>(?!environ)mental</td>\n",
       "      <td>custom segments &gt; schober mobile data germany ...</td>\n",
       "      <td>[germany]</td>\n",
       "    </tr>\n",
       "    <tr>\n",
       "      <th>1</th>\n",
       "      <td>595</td>\n",
       "      <td>25039710</td>\n",
       "      <td>(?!environ)mental</td>\n",
       "      <td>gh-nl_gps_xandr_da_specific_demographic_mental...</td>\n",
       "      <td>[netherlands]</td>\n",
       "    </tr>\n",
       "    <tr>\n",
       "      <th>2</th>\n",
       "      <td>578</td>\n",
       "      <td>24958210</td>\n",
       "      <td>(?!environ)mental</td>\n",
       "      <td>gh-nl_gps_xandr_da_specific_demographic_mental...</td>\n",
       "      <td>[netherlands]</td>\n",
       "    </tr>\n",
       "    <tr>\n",
       "      <th>3</th>\n",
       "      <td>592</td>\n",
       "      <td>25039671</td>\n",
       "      <td>(?!environ)mental</td>\n",
       "      <td>gh-nl_gps_xandr_da_specific_demographic_mental...</td>\n",
       "      <td>[netherlands]</td>\n",
       "    </tr>\n",
       "    <tr>\n",
       "      <th>4</th>\n",
       "      <td>576</td>\n",
       "      <td>24958163</td>\n",
       "      <td>(?!environ)mental</td>\n",
       "      <td>gh-nl_gps_xandr_da_specific_demographic_mental...</td>\n",
       "      <td>[netherlands]</td>\n",
       "    </tr>\n",
       "    <tr>\n",
       "      <th>...</th>\n",
       "      <td>...</td>\n",
       "      <td>...</td>\n",
       "      <td>...</td>\n",
       "      <td>...</td>\n",
       "      <td>...</td>\n",
       "    </tr>\n",
       "    <tr>\n",
       "      <th>26</th>\n",
       "      <td>6</td>\n",
       "      <td>2137230</td>\n",
       "      <td>religio(n|ous)</td>\n",
       "      <td>xaxisema_gs_religion</td>\n",
       "      <td>[europe]</td>\n",
       "    </tr>\n",
       "    <tr>\n",
       "      <th>27</th>\n",
       "      <td>33</td>\n",
       "      <td>11156468</td>\n",
       "      <td>spiritual</td>\n",
       "      <td>branded data &gt; nordic data resources &gt; denmark...</td>\n",
       "      <td>[denmark]</td>\n",
       "    </tr>\n",
       "    <tr>\n",
       "      <th>28</th>\n",
       "      <td>83</td>\n",
       "      <td>15731819</td>\n",
       "      <td>spiritual</td>\n",
       "      <td>eyeota - dk ndr - 08 interests - interested in...</td>\n",
       "      <td>[denmark]</td>\n",
       "    </tr>\n",
       "    <tr>\n",
       "      <th>29</th>\n",
       "      <td>94</td>\n",
       "      <td>19037820</td>\n",
       "      <td>spiritual</td>\n",
       "      <td>eyeota - fi ndr - insight360 - values360 - 3 s...</td>\n",
       "      <td>[finland]</td>\n",
       "    </tr>\n",
       "    <tr>\n",
       "      <th>30</th>\n",
       "      <td>87</td>\n",
       "      <td>18050935</td>\n",
       "      <td>spiritual</td>\n",
       "      <td>signals &gt; it &gt; lovers &gt; spiritualita</td>\n",
       "      <td>[italy]</td>\n",
       "    </tr>\n",
       "  </tbody>\n",
       "</table>\n",
       "<p>1438 rows × 5 columns</p>\n",
       "</div>"
      ],
      "text/plain": [
       "    Unnamed: 0        id                hit  \\\n",
       "0          611  18206584  (?!environ)mental   \n",
       "1          595  25039710  (?!environ)mental   \n",
       "2          578  24958210  (?!environ)mental   \n",
       "3          592  25039671  (?!environ)mental   \n",
       "4          576  24958163  (?!environ)mental   \n",
       "..         ...       ...                ...   \n",
       "26           6   2137230     religio(n|ous)   \n",
       "27          33  11156468          spiritual   \n",
       "28          83  15731819          spiritual   \n",
       "29          94  19037820          spiritual   \n",
       "30          87  18050935          spiritual   \n",
       "\n",
       "                                                 name      countries  \n",
       "0   custom segments > schober mobile data germany ...      [germany]  \n",
       "1   gh-nl_gps_xandr_da_specific_demographic_mental...  [netherlands]  \n",
       "2   gh-nl_gps_xandr_da_specific_demographic_mental...  [netherlands]  \n",
       "3   gh-nl_gps_xandr_da_specific_demographic_mental...  [netherlands]  \n",
       "4   gh-nl_gps_xandr_da_specific_demographic_mental...  [netherlands]  \n",
       "..                                                ...            ...  \n",
       "26                              xaxisema_gs_religion        [europe]  \n",
       "27  branded data > nordic data resources > denmark...      [denmark]  \n",
       "28  eyeota - dk ndr - 08 interests - interested in...      [denmark]  \n",
       "29  eyeota - fi ndr - insight360 - values360 - 3 s...      [finland]  \n",
       "30               signals > it > lovers > spiritualita        [italy]  \n",
       "\n",
       "[1438 rows x 5 columns]"
      ]
     },
     "execution_count": 19,
     "metadata": {},
     "output_type": "execute_result"
    }
   ],
   "source": [
    "duplicates = df_unified.duplicated(subset=[\"id\"])\n",
    "\n",
    "df_unified_filtered = df_unified[~duplicates]\n",
    "df_unified_filtered"
   ]
  },
  {
   "cell_type": "code",
   "execution_count": 7,
   "metadata": {},
   "outputs": [],
   "source": [
    "def filter_row(row):\n",
    "    if re.search(\"peer39\", row[\"name\"]):\n",
    "        return False\n",
    "    \n",
    "    countries = row[\"countries\"]\n",
    "    if \"europe\" in countries:\n",
    "        countries.remove(\"europe\")\n",
    "    return len(countries) == 1"
   ]
  },
  {
   "cell_type": "code",
   "execution_count": 21,
   "metadata": {},
   "outputs": [],
   "source": [
    "\n",
    "filter_results = df_unified_filtered.apply(filter_row, axis = 1)\n",
    "df_inv = df_unified_filtered[~filter_results]\n",
    "df = df_unified_filtered[filter_results]"
   ]
  },
  {
   "cell_type": "code",
   "execution_count": 23,
   "metadata": {},
   "outputs": [],
   "source": [
    "df_inv.to_csv(\"foo.csv\")"
   ]
  },
  {
   "cell_type": "code",
   "execution_count": 2,
   "metadata": {},
   "outputs": [],
   "source": [
    "df = pd.read_csv(\"manually_filtered.csv\")"
   ]
  },
  {
   "cell_type": "code",
   "execution_count": 8,
   "metadata": {},
   "outputs": [],
   "source": [
    "lc = pd.read_csv(os.path.join(\"spicy_words_segmented\", \"late_comers_v2.csv\"))\n",
    "lc[\"countries\"] = lc[\"countries\"].apply(ast.literal_eval)\n",
    "\n",
    "results2 = lc.apply(filter_row, axis=1)\n",
    "\n",
    "lc_inv = lc[~results2]\n",
    "lc_foo = lc[results2]"
   ]
  },
  {
   "cell_type": "code",
   "execution_count": 10,
   "metadata": {},
   "outputs": [],
   "source": [
    "lc_inv.to_csv(\"foo.csv\")"
   ]
  },
  {
   "cell_type": "code",
   "execution_count": 34,
   "metadata": {},
   "outputs": [],
   "source": [
    "known_ids = df[\"id\"].values\n",
    "\n",
    "lc_no_dups = lc_foo.apply(lambda x: x[\"id\"] not in known_ids, axis=1)"
   ]
  },
  {
   "cell_type": "code",
   "execution_count": 38,
   "metadata": {},
   "outputs": [],
   "source": [
    "lc_foo[lc_no_dups].to_csv(\"late_comers_v2_processed.csv\")"
   ]
  },
  {
   "cell_type": "code",
   "execution_count": 25,
   "metadata": {},
   "outputs": [
    {
     "data": {
      "text/plain": [
       "countries\n",
       "[france]         317\n",
       "[germany]        314\n",
       "[spain]          274\n",
       "[italy]          141\n",
       "[denmark]        103\n",
       "[sweden]          71\n",
       "[netherlands]     45\n",
       "[finland]         26\n",
       "[portugal]        14\n",
       "[belgium]         12\n",
       "[greece]          11\n",
       "[romania]         10\n",
       "[poland]           8\n",
       "[austria]          8\n",
       "[hungary]          3\n",
       "[slovakia]         2\n",
       "[croatia]          2\n",
       "[malta]            1\n",
       "[ireland]          1\n",
       "[bulgaria]         1\n",
       "[czechia]          1\n",
       "Name: count, dtype: int64"
      ]
     },
     "execution_count": 25,
     "metadata": {},
     "output_type": "execute_result"
    }
   ],
   "source": [
    "df[\"countries\"].value_counts()"
   ]
  },
  {
   "cell_type": "code",
   "execution_count": 39,
   "metadata": {},
   "outputs": [],
   "source": [
    "df = pd.read_csv(\"manually_filtered.csv\")"
   ]
  },
  {
   "cell_type": "code",
   "execution_count": 41,
   "metadata": {},
   "outputs": [
    {
     "data": {
      "text/plain": [
       "Unnamed: 4\n",
       "6.0     800\n",
       "7.0     582\n",
       "3.0      60\n",
       "5.0      55\n",
       "8.0      38\n",
       "9.0      29\n",
       "10.0     19\n",
       "4.0      12\n",
       "2.0       3\n",
       "Name: count, dtype: int64"
      ]
     },
     "execution_count": 41,
     "metadata": {},
     "output_type": "execute_result"
    }
   ],
   "source": [
    "df[\"Unnamed: 4\"].value_counts()"
   ]
  },
  {
   "cell_type": "code",
   "execution_count": 45,
   "metadata": {},
   "outputs": [
    {
     "data": {
      "text/plain": [
       "array(['adsquare data alliance > de > covid-19 audiences (corona pandemic) > covid-19 personal finance  > insurance seekers',\n",
       "       'adsquare data alliance > de > interests > personal finance > insurance seekers',\n",
       "       'adsquare data alliance > es > interests > business and finance > insurance seekers',\n",
       "       'adsquare data alliance > fr > interests > personal finance > insurance seekers',\n",
       "       'adsquare data alliance > it > interests > business and finance > insurance seekers',\n",
       "       'az direct > de > az target groups > insurance > best ager',\n",
       "       'az direct > de > az target groups > insurance > families',\n",
       "       'az direct > de > az target groups > insurance > individualistic about risk-taking',\n",
       "       'az direct > de > az target groups > insurance > job starter',\n",
       "       'az direct > de > az target groups > insurance > social security-oriented people',\n",
       "       'kbm group - germany - microm data | microm geo milieus | liberal intellectual milieu',\n",
       "       'international_eu - france military',\n",
       "       'international_eu - germany military',\n",
       "       'international_eu - italy military',\n",
       "       'international_eu - spain military',\n",
       "       'oracle country-specific audiences > france > b2b > firmographic > industry > government > military',\n",
       "       'oracle country-specific audiences > germany > b2b > firmographic > industry > government > military',\n",
       "       'oracle country-specific audiences > italy > b2b > firmographic > industry > government > military',\n",
       "       'oracle country-specific audiences > spain > b2b > firmographic > industry > government > military'],\n",
       "      dtype=object)"
      ]
     },
     "execution_count": 45,
     "metadata": {},
     "output_type": "execute_result"
    }
   ],
   "source": [
    "df[df[\"Unnamed: 4\"] == 10][\"name\"].values"
   ]
  },
  {
   "cell_type": "code",
   "execution_count": null,
   "metadata": {},
   "outputs": [],
   "source": []
  }
 ],
 "metadata": {
  "kernelspec": {
   "display_name": ".venv",
   "language": "python",
   "name": "python3"
  },
  "language_info": {
   "codemirror_mode": {
    "name": "ipython",
    "version": 3
   },
   "file_extension": ".py",
   "mimetype": "text/x-python",
   "name": "python",
   "nbconvert_exporter": "python",
   "pygments_lexer": "ipython3",
   "version": "3.10.6"
  },
  "orig_nbformat": 4
 },
 "nbformat": 4,
 "nbformat_minor": 2
}
