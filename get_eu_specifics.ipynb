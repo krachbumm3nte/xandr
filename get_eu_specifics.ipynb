{
 "cells": [
  {
   "cell_type": "code",
   "execution_count": 29,
   "metadata": {},
   "outputs": [],
   "source": [
    "import csv\n",
    "import json\n",
    "import numpy as np\n",
    "import pandas as pd\n",
    "import re\n",
    "import utils\n",
    "from collections import OrderedDict, Counter\n",
    "import ast\n",
    "import swifter"
   ]
  },
  {
   "cell_type": "code",
   "execution_count": 3,
   "metadata": {},
   "outputs": [],
   "source": [
    "df_orig = pd.read_json(\"xandr_segments_itemized.json\") # load data"
   ]
  },
  {
   "cell_type": "code",
   "execution_count": 25,
   "metadata": {},
   "outputs": [],
   "source": [
    "eu_countries = pd.read_csv(\"eu_countries.csv\")\n",
    "\n",
    "eu_countries[\"names_re\"] = np.nan\n",
    "eu_countries[\"code_set\"] = np.nan\n",
    "\n",
    "eu_countries[\"codes\"] = eu_countries[\"codes\"].apply(lambda x: ast.literal_eval(x))\n",
    "eu_countries[\"strings\"] = eu_countries[\"strings\"].apply(lambda x: ast.literal_eval(x))\n",
    "eu_names_re = \"|\".join(np.concatenate(eu_countries[\"strings\"].values.flatten()))\n",
    "eu_codes = set(np.concatenate(eu_countries[\"codes\"].values.flatten()))"
   ]
  },
  {
   "cell_type": "code",
   "execution_count": 26,
   "metadata": {},
   "outputs": [],
   "source": [
    "tag_count = Counter(np.concatenate(df_orig[\"name_list\"].values))\n",
    "with open(\"tags.json\", \"w\") as f:\n",
    "    json.dump(OrderedDict(tag_count.most_common()), f, indent=4)"
   ]
  },
  {
   "cell_type": "code",
   "execution_count": 27,
   "metadata": {},
   "outputs": [],
   "source": [
    "travel_word_list = [\"travel\", \"departure\", \"destination\", \"tourism\", \"tourist\", \"vacation\", \"holiday\", \"voyage\", \"expedia\"]\n",
    "travel_word_re = \"|\".join(travel_word_list)\n",
    "filtered_travel_words = df_orig[df_orig.swifter.apply(lambda x: not re.search(travel_word_re, x[\"name\"]), axis=1)]"
   ]
  },
  {
   "cell_type": "code",
   "execution_count": 11,
   "metadata": {},
   "outputs": [],
   "source": [
    "us_re = \"united states|unitedstates|usa\"\n",
    "\n",
    "def filter_us_names(row):\n",
    "    # does the full country name occur anywhere or does a countrycode match an item exactly?\n",
    "    return bool(re.search(us_re, row[\"name\"]) or any([el == \"usa\" or el.startswith(\"us \") or el.endswith(\" us\") for el in row[\"name_list\"]]))\n",
    "\n",
    "filtered_us = filtered_travel_words[filtered_travel_words.swifter.apply(filter_us_names, axis=1)]\n",
    "filtered_us.to_csv(\"filtered_us.csv\")"
   ]
  },
  {
   "cell_type": "code",
   "execution_count": 30,
   "metadata": {},
   "outputs": [
    {
     "data": {
      "application/vnd.jupyter.widget-view+json": {
       "model_id": "fb5aeb053fa541ed9e7b31ba984cf8c1",
       "version_major": 2,
       "version_minor": 0
      },
      "text/plain": [
       "Pandas Apply:   0%|          | 0/622147 [00:00<?, ?it/s]"
      ]
     },
     "metadata": {},
     "output_type": "display_data"
    }
   ],
   "source": [
    "def filter_eu_names(row):\n",
    "    # does the full country name occur anywhere or does a countrycode match an item exactly?\n",
    "    return bool(re.search(eu_names_re, row[\"name\"]) or len(eu_codes.intersection(row[\"name_list\"])))\n",
    "\n",
    "\n",
    "filtered_eu = filtered_travel_words[filtered_travel_words.swifter.apply(filter_eu_names, axis=1)]"
   ]
  },
  {
   "cell_type": "code",
   "execution_count": 36,
   "metadata": {},
   "outputs": [],
   "source": [
    "filtered_eu.to_csv(\"filtered_eu.csv\")"
   ]
  },
  {
   "cell_type": "code",
   "execution_count": 8,
   "metadata": {},
   "outputs": [],
   "source": [
    "with open(\"filtered_eu_segnames.json\", \"w\") as f:\n",
    "    json.dump(list(filtered_eu[\"name\"].array), f)"
   ]
  },
  {
   "cell_type": "code",
   "execution_count": 9,
   "metadata": {},
   "outputs": [],
   "source": [
    "with open(\"foo.json\", \"w\") as f:\n",
    "    json.dump(list(df_orig[df_orig.apply(lambda x: \"international_eu\" in x[\"name\"], axis=1)][\"name\"].array), f)"
   ]
  },
  {
   "cell_type": "code",
   "execution_count": 35,
   "metadata": {},
   "outputs": [],
   "source": [
    "spicy_words = ['sex',  # sexuality\n",
    "               'promiscu',\n",
    "               'porn',\n",
    "               'erotic',\n",
    "               'lgbt',\n",
    "               'lgbtq',\n",
    "               'lesbian',\n",
    "               'gay',\n",
    "               'bisexual',\n",
    "               'transgender',\n",
    "               'queer',\n",
    "\n",
    "               'poor',  # financial\n",
    "               'poverty',\n",
    "               'struggling',\n",
    "               'gambling',\n",
    "               'betting',\n",
    "               'credit level',\n",
    "               'credit score',\n",
    "\n",
    "               'ethnic',  # ethnicity\n",
    "               'multicultural',\n",
    "               'arab',\n",
    "\n",
    "               'religio',  # religion\n",
    "               'faith',\n",
    "               'christian',\n",
    "               'muslim',\n",
    "               'islam'\n",
    "               'jew',\n",
    "               'judais',\n",
    "\n",
    "               'health',  # health\n",
    "               'psycho',\n",
    "               'psychiat',\n",
    "               'autis',\n",
    "               'depress',\n",
    "               'weight',\n",
    "               'obese',\n",
    "               'obesity',\n",
    "               'mental',\n",
    "\n",
    "               'unionized',  # labor union\n",
    "               'labor union',\n",
    "               'trade union',\n",
    "\n",
    "               'politic',  # political opinions\n",
    "               'military',\n",
    "               'police',\n",
    "               'policy',\n",
    "               'crime',\n",
    "               'migrants',\n",
    "               'criminal',\n",
    "               'ukraine',\n",
    "               'russia',\n",
    "               'covid',\n",
    "               'corona',\n",
    "               ]\n",
    "spicy_word_re = re.compile(\"|\".join(spicy_words))\n"
   ]
  },
  {
   "cell_type": "code",
   "execution_count": 33,
   "metadata": {},
   "outputs": [],
   "source": [
    "spicy_dict = {word:{} for word in spicy_words}\n",
    "for index, row in filtered_eu.iterrows():\n",
    "    segname = row[\"name\"]\n",
    "    provider = row[\"provider_name\"]\n",
    "    res = re.findall(spicy_word_re, segname)\n",
    "    if res:\n",
    "        res = set(res)\n",
    "        for tag in res:\n",
    "            if provider in spicy_dict[tag]:\n",
    "                spicy_dict[tag][provider].append(segname)\n",
    "            else:\n",
    "                spicy_dict[tag][provider] = [segname]\n",
    "\n"
   ]
  },
  {
   "cell_type": "code",
   "execution_count": 34,
   "metadata": {},
   "outputs": [],
   "source": [
    "\n",
    "for k,v in spicy_dict.items():\n",
    "    for k2, v2 in v.items():\n",
    "        v[k2] = sorted(v2)\n",
    "\n",
    "\n",
    "with open(\"spicy_words_eu.json\", \"w\") as f:\n",
    "    json.dump(spicy_dict, f, indent=4)"
   ]
  },
  {
   "cell_type": "code",
   "execution_count": 13,
   "metadata": {},
   "outputs": [],
   "source": [
    "spicy_dict_global = {word:{} for word in spicy_words}\n",
    "for index, row in df_orig.iterrows():\n",
    "    segname = row[\"name\"]\n",
    "    provider = row[\"provider_name\"]\n",
    "    res = re.findall(spicy_word_re, segname)\n",
    "    if res:\n",
    "        res = set(res)\n",
    "        for tag in res:\n",
    "            if provider in spicy_dict_global[tag]:\n",
    "                spicy_dict_global[tag][provider].append(segname)\n",
    "            else:\n",
    "                spicy_dict_global[tag][provider] = [segname]\n",
    "\n",
    "\n",
    "for k,v in spicy_dict_global.items():\n",
    "    for k2, v2 in v.items():\n",
    "        v[k2] = sorted(v2)\n",
    "    # spicy_dict[k] = sorted(v)\n",
    "\n",
    "\n",
    "with open(\"spicy_words_global.json\", \"w\") as f:\n",
    "    json.dump(spicy_dict_global, f, indent=4)"
   ]
  },
  {
   "cell_type": "code",
   "execution_count": 14,
   "metadata": {},
   "outputs": [],
   "source": [
    "countries = eu_countries[\"country\"].values\n",
    "codes = eu_countries[\"code\"].values\n",
    "ethnicities = eu_countries[\"ethnicity\"].values"
   ]
  },
  {
   "cell_type": "code",
   "execution_count": 18,
   "metadata": {},
   "outputs": [],
   "source": [
    "eu_counter = {country: [] for country in eu_countries[\"country\"]}\n",
    "\n",
    "for index, row in filtered_travel_words.iterrows():\n",
    "    for i, country in enumerate(countries):\n",
    "        segname = row[\"name\"]\n",
    "        \n",
    "        if country in segname or ethnicities[i] in segname or codes[i] in row[\"name_list\"]:\n",
    "            eu_counter[country].append(segname)\n",
    "            break"
   ]
  },
  {
   "cell_type": "code",
   "execution_count": 19,
   "metadata": {},
   "outputs": [
    {
     "name": "stdout",
     "output_type": "stream",
     "text": [
      "france 8901\n",
      "spain 8657\n",
      "germany 6380\n",
      "italy 3425\n",
      "netherlands 3304\n",
      "sweden 1661\n",
      "portugal 1423\n",
      "denmark 1126\n",
      "europe 988\n",
      "malta 837\n",
      "austria 810\n",
      "finland 553\n",
      "greece 511\n",
      "poland 454\n",
      "croatia 413\n",
      "belgium 274\n",
      "ireland 163\n",
      "romania 147\n",
      "hungary 122\n",
      "czechia 82\n",
      "estonia 81\n",
      "slovakia 63\n",
      "bulgaria 53\n",
      "slovenia 47\n",
      "lithuania 35\n",
      "latvia 33\n",
      "cyprus 19\n",
      "luxembourg 18\n"
     ]
    }
   ],
   "source": [
    "counts = OrderedDict([(k, len(v)) for k,v in eu_counter.items()])\n",
    "for a, b in sorted(counts.items(), key= lambda x: x[1], reverse=True):\n",
    "    print(a, b)\n"
   ]
  },
  {
   "cell_type": "code",
   "execution_count": 20,
   "metadata": {},
   "outputs": [
    {
     "data": {
      "text/plain": [
       "40580"
      ]
     },
     "execution_count": 20,
     "metadata": {},
     "output_type": "execute_result"
    }
   ],
   "source": [
    "sum([i[1] for i in counts.items()])"
   ]
  },
  {
   "cell_type": "code",
   "execution_count": null,
   "metadata": {},
   "outputs": [],
   "source": []
  }
 ],
 "metadata": {
  "kernelspec": {
   "display_name": "Python 3",
   "language": "python",
   "name": "python3"
  },
  "language_info": {
   "codemirror_mode": {
    "name": "ipython",
    "version": 3
   },
   "file_extension": ".py",
   "mimetype": "text/x-python",
   "name": "python",
   "nbconvert_exporter": "python",
   "pygments_lexer": "ipython3",
   "version": "3.10.6"
  },
  "orig_nbformat": 4
 },
 "nbformat": 4,
 "nbformat_minor": 2
}
