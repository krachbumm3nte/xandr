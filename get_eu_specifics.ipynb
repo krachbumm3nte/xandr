{
 "cells": [
  {
   "cell_type": "code",
   "execution_count": 1,
   "metadata": {},
   "outputs": [],
   "source": [
    "import csv\n",
    "import json\n",
    "import numpy as np\n",
    "import pandas as pd\n",
    "import re\n",
    "import utils\n",
    "from collections import OrderedDict, Counter\n"
   ]
  },
  {
   "cell_type": "code",
   "execution_count": 2,
   "metadata": {},
   "outputs": [],
   "source": [
    "df_orig = pd.read_csv(\"xandr_segments_itemized.csv\", sep=\",\") # load data"
   ]
  },
  {
   "cell_type": "code",
   "execution_count": 4,
   "metadata": {},
   "outputs": [],
   "source": [
    "eu_countries = utils.scrape_table(\"https://ec.europa.eu/eurostat/statistics-explained/index.php?title=Glossary:Country_codes\").values\n",
    "eu_countries = np.vstack([eu_countries[:, 0:2], eu_countries[:, 2:4], eu_countries[:, 4:6], eu_countries[:-1, 6:8]])\n",
    "eu_countries[:,0] = [countryname.strip().lower() for countryname in eu_countries[:,0]] # format all the names\n",
    "eu_countries[:,1] = [countrycode[1:3] for countrycode in eu_countries[:,1]] # remove parentheses from abbreviations\n",
    "eu_countries = np.vstack([eu_countries, [\"europe\", \"eu\"]])\n",
    "\n",
    "eu_countries_set = set(eu_countries[:,0].flatten())"
   ]
  },
  {
   "cell_type": "code",
   "execution_count": 7,
   "metadata": {},
   "outputs": [],
   "source": [
    "tag_count = Counter(np.concatenate(df_orig[\"name_list\"].values))\n",
    "with open(\"tags.json\", \"w\") as f:\n",
    "    json.dump(OrderedDict(tag_count.most_common()), f, indent=4)"
   ]
  },
  {
   "cell_type": "code",
   "execution_count": null,
   "metadata": {},
   "outputs": [],
   "source": [
    "\n",
    "confusing_list = [\n",
    "    # \"appnexus - france\" # I think this is just because the company is registered in france\n",
    "    # \"nielsen - france\"\n",
    "]\n",
    "\n",
    "travel_word_list = [\"travel\", \"departure\", \"destination\", \"tourism\", \"tourist\", \"vacation\", \"holiday\", \"voyage\", \"expedia\", \"visit\"]\n",
    "travel_word_re = \"|\".join(travel_word_list + confusing_list)\n",
    "filtered_travel_words = df_orig[df_orig.apply(lambda x: not re.search(travel_word_re, x[\"name\"]), axis=1)]"
   ]
  },
  {
   "cell_type": "code",
   "execution_count": 57,
   "metadata": {},
   "outputs": [],
   "source": [
    "eu_names_re = \"|\".join(eu_countries[:,0])\n",
    "eu_codes = set(eu_countries[:,1])"
   ]
  },
  {
   "cell_type": "code",
   "execution_count": 60,
   "metadata": {},
   "outputs": [],
   "source": [
    "def filter_eu_names(row):\n",
    "    # does the full country name occur anywhere or does a countrycode match an item exactly\n",
    "    return bool(re.search(eu_names_re, row[\"name\"]) or len(eu_codes.intersection(row[\"name_list\"])))\n",
    "\n",
    "\n",
    "filtered_eu = filtered_travel_words[filtered_travel_words.apply(filter_eu_names, axis=1)]"
   ]
  },
  {
   "cell_type": "code",
   "execution_count": 62,
   "metadata": {},
   "outputs": [],
   "source": [
    "filtered_eu.to_csv(\"filtered_eu.csv\")"
   ]
  },
  {
   "cell_type": "code",
   "execution_count": 13,
   "metadata": {},
   "outputs": [],
   "source": [
    "with open(\"filtered_eu_segnames.json\", \"w\") as f:\n",
    "    json.dump(list(filtered_eu[\"name\"].array), f)"
   ]
  },
  {
   "cell_type": "code",
   "execution_count": 55,
   "metadata": {},
   "outputs": [],
   "source": [
    "with open(\"foo.json\", \"w\") as f:\n",
    "    json.dump(list(df_orig[df_orig.apply(lambda x: \"international_eu\" in x[\"name\"], axis=1)][\"name\"].array), f)"
   ]
  },
  {
   "cell_type": "code",
   "execution_count": 4,
   "metadata": {},
   "outputs": [],
   "source": [
    "spicy_words = ['sex',  # sexuality\n",
    "               'promiscu',\n",
    "               'erotic',\n",
    "               'lgbt',\n",
    "               'lgbtq'\n",
    "               'lesbian',\n",
    "               'gay',\n",
    "               'bisexual',\n",
    "               'transgender',\n",
    "               'queer',\n",
    "\n",
    "               'poor',  # financial\n",
    "               'poverty',\n",
    "               'struggling',\n",
    "               'gambling',\n",
    "               'betting',\n",
    "               'credit level',\n",
    "               'credit score'\n",
    "\n",
    "               'ethnic',  # ethnicity\n",
    "               'multicultural',\n",
    "\n",
    "               'religio',  # religion\n",
    "               'faith',\n",
    "               'christian',\n",
    "               'muslim',\n",
    "               'jew',\n",
    "               'judais'\n",
    "\n",
    "               'health',  # health\n",
    "               'psycho'\n",
    "               'psychiat',\n",
    "               'autis',\n",
    "               'depress',\n",
    "               'weight',\n",
    "               'obese',\n",
    "               'obesity',\n",
    "               'mental',\n",
    "\n",
    "               'unionized',  # labor union\n",
    "               'labor union',\n",
    "               'trade union',\n",
    "\n",
    "               'politic',  # political opinions\n",
    "               'military',\n",
    "               'police',\n",
    "               'policy',\n",
    "               'crime',\n",
    "               'migrants',\n",
    "               'criminal',\n",
    "\n",
    "               ]"
   ]
  },
  {
   "cell_type": "code",
   "execution_count": 5,
   "metadata": {},
   "outputs": [
    {
     "data": {
      "text/plain": [
       "['sex',\n",
       " 'erotic',\n",
       " 'lgbt',\n",
       " 'lesbian',\n",
       " 'gay',\n",
       " 'bisexual',\n",
       " 'transgender',\n",
       " 'queer',\n",
       " 'poor',\n",
       " 'struggling',\n",
       " 'multicultural',\n",
       " 'ethnic',\n",
       " 'gambling',\n",
       " 'betting',\n",
       " 'health',\n",
       " 'psychiat',\n",
       " 'autis',\n",
       " 'depress',\n",
       " 'weight',\n",
       " 'military',\n",
       " 'police',\n",
       " 'policy',\n",
       " 'crime',\n",
       " 'criminal',\n",
       " 'politic']"
      ]
     },
     "execution_count": 5,
     "metadata": {},
     "output_type": "execute_result"
    }
   ],
   "source": [
    "[w.lower() for w in spicy_words]"
   ]
  },
  {
   "cell_type": "code",
   "execution_count": null,
   "metadata": {},
   "outputs": [],
   "source": []
  }
 ],
 "metadata": {
  "kernelspec": {
   "display_name": "Python 3",
   "language": "python",
   "name": "python3"
  },
  "language_info": {
   "codemirror_mode": {
    "name": "ipython",
    "version": 3
   },
   "file_extension": ".py",
   "mimetype": "text/x-python",
   "name": "python",
   "nbconvert_exporter": "python",
   "pygments_lexer": "ipython3",
   "version": "3.10.6"
  },
  "orig_nbformat": 4
 },
 "nbformat": 4,
 "nbformat_minor": 2
}
