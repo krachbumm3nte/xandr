{
 "cells": [
  {
   "cell_type": "code",
   "execution_count": 12,
   "metadata": {},
   "outputs": [],
   "source": [
    "import csv\n",
    "import json\n",
    "import numpy as np\n",
    "import pandas as pd\n",
    "import re\n",
    "import utils\n",
    "from collections import OrderedDict, Counter\n"
   ]
  },
  {
   "cell_type": "code",
   "execution_count": 13,
   "metadata": {},
   "outputs": [],
   "source": [
    "df_orig = pd.read_json(\"xandr_segments_itemized.json\") # load data"
   ]
  },
  {
   "cell_type": "code",
   "execution_count": 14,
   "metadata": {},
   "outputs": [],
   "source": [
    "eu_countries = pd.read_csv(\"eu_countries.csv\")\n",
    "\n",
    "eu_names_re = \"|\".join(eu_countries[[\"country\", \"ethnicity\"]].values.flatten())\n",
    "eu_codes = set(eu_countries[\"code\"])"
   ]
  },
  {
   "cell_type": "code",
   "execution_count": 15,
   "metadata": {},
   "outputs": [],
   "source": [
    "tag_count = Counter(np.concatenate(df_orig[\"name_list\"].values))\n",
    "with open(\"tags.json\", \"w\") as f:\n",
    "    json.dump(OrderedDict(tag_count.most_common()), f, indent=4)"
   ]
  },
  {
   "cell_type": "code",
   "execution_count": 16,
   "metadata": {},
   "outputs": [],
   "source": [
    "travel_word_list = [\"travel\", \"departure\", \"destination\", \"tourism\", \"tourist\", \"vacation\", \"holiday\", \"voyage\", \"expedia\", \"visit\"]\n",
    "travel_word_re = \"|\".join(travel_word_list)\n",
    "filtered_travel_words = df_orig[df_orig.apply(lambda x: not re.search(travel_word_re, x[\"name\"]), axis=1)]"
   ]
  },
  {
   "cell_type": "code",
   "execution_count": 16,
   "metadata": {},
   "outputs": [],
   "source": [
    "us_re = \"united states\"\n",
    "\n",
    "def filter_us_names(row):\n",
    "    # does the full country name occur anywhere or does a countrycode match an item exactly?\n",
    "    return bool(re.search(us_re, row[\"name\"]) or any([el == \"usa\" or el.startswith(\"us \") or el.endswith(\" us\") for el in row[\"name_list\"]]))\n",
    "\n",
    "filtered_us = filtered_travel_words[filtered_travel_words.apply(filter_us_names, axis=1)]"
   ]
  },
  {
   "cell_type": "code",
   "execution_count": 17,
   "metadata": {},
   "outputs": [],
   "source": [
    "filtered_us.to_csv(\"filtered_us.csv\")"
   ]
  },
  {
   "cell_type": "code",
   "execution_count": 17,
   "metadata": {},
   "outputs": [],
   "source": [
    "def filter_eu_names(row):\n",
    "    # does the full country name occur anywhere or does a countrycode match an item exactly?\n",
    "    return bool(re.search(eu_names_re, row[\"name\"]) or len(eu_codes.intersection(row[\"name_list\"])))\n",
    "\n",
    "\n",
    "filtered_eu = filtered_travel_words[filtered_travel_words.apply(filter_eu_names, axis=1)]"
   ]
  },
  {
   "cell_type": "code",
   "execution_count": 7,
   "metadata": {},
   "outputs": [],
   "source": [
    "filtered_eu.to_csv(\"filtered_eu.csv\")"
   ]
  },
  {
   "cell_type": "code",
   "execution_count": 8,
   "metadata": {},
   "outputs": [],
   "source": [
    "with open(\"filtered_eu_segnames.json\", \"w\") as f:\n",
    "    json.dump(list(filtered_eu[\"name\"].array), f)"
   ]
  },
  {
   "cell_type": "code",
   "execution_count": 9,
   "metadata": {},
   "outputs": [],
   "source": [
    "with open(\"foo.json\", \"w\") as f:\n",
    "    json.dump(list(df_orig[df_orig.apply(lambda x: \"international_eu\" in x[\"name\"], axis=1)][\"name\"].array), f)"
   ]
  },
  {
   "cell_type": "code",
   "execution_count": 10,
   "metadata": {},
   "outputs": [],
   "source": [
    "spicy_words = ['sex',  # sexuality\n",
    "               'promiscu',\n",
    "               'porn',\n",
    "               'erotic',\n",
    "               'lgbt',\n",
    "               'lgbtq',\n",
    "               'lesbian',\n",
    "               'gay',\n",
    "               'bisexual',\n",
    "               'transgender',\n",
    "               'queer',\n",
    "\n",
    "               'poor',  # financial\n",
    "               'poverty',\n",
    "               'struggling',\n",
    "               'gambling',\n",
    "               'betting',\n",
    "               'credit level',\n",
    "               'credit score',\n",
    "\n",
    "               'ethnic',  # ethnicity\n",
    "               'multicultural',\n",
    "               'arab',\n",
    "\n",
    "               'religio',  # religion\n",
    "               'faith',\n",
    "               'christian',\n",
    "               'muslim',\n",
    "               'islam'\n",
    "               'jew',\n",
    "               'judais',\n",
    "\n",
    "               'health',  # health\n",
    "               'psycho',\n",
    "               'psychiat',\n",
    "               'autis',\n",
    "               'depress',\n",
    "               'weight',\n",
    "               'obese',\n",
    "               'obesity',\n",
    "               'mental',\n",
    "\n",
    "               'unionized',  # labor union\n",
    "               'labor union',\n",
    "               'trade union',\n",
    "\n",
    "               'politic',  # political opinions\n",
    "               'military',\n",
    "               'police',\n",
    "               'policy',\n",
    "               'crime',\n",
    "               'migrants',\n",
    "               'criminal',\n",
    "               'ukraine',\n",
    "               'russia',\n",
    "               'covid',\n",
    "               'corona',\n",
    "               ]\n",
    "spicy_word_re = \"|\".join(spicy_words)\n"
   ]
  },
  {
   "cell_type": "code",
   "execution_count": 11,
   "metadata": {},
   "outputs": [],
   "source": [
    "spicy_dict = {word:{} for word in spicy_words}\n",
    "for index, row in filtered_eu.iterrows():\n",
    "    segname = row[\"name\"]\n",
    "    provider = row[\"provider_name\"]\n",
    "    res = re.findall(spicy_word_re, segname)\n",
    "    if res:\n",
    "        res = set(res)\n",
    "        for tag in res:\n",
    "            if provider in spicy_dict[tag]:\n",
    "                spicy_dict[tag][provider].append(segname)\n",
    "            else:\n",
    "                spicy_dict[tag][provider] = [segname]\n",
    "\n"
   ]
  },
  {
   "cell_type": "code",
   "execution_count": 12,
   "metadata": {},
   "outputs": [
    {
     "name": "stdout",
     "output_type": "stream",
     "text": [
      "['geographic > ip based > country > europe > northern europe > united kingdom > england > west sussex (bluekai)', 'geographic > ip based > country > europe > northern europe > united kingdom > england > essex (bluekai)', 'geographic > ip based > country > europe > northern europe > united kingdom > england > east sussex (bluekai)']\n",
      "['zeotap > spain > interest > lgbt']\n",
      "['international_eu - france credit level - poor (lotame)', 'international_eu - germany credit level - poor (lotame)', 'international_eu - italy credit level - poor (lotame)', 'international_eu - spain credit level - poor (lotame)', 'international_eu - united kingdom credit level - poor (lotame)']\n",
      "['household income > a: poorer\\xa0households - lowest 20% (digiseg is a real-time data provider = no loads displayed but full reach in spain, netherland, sweden, norway, denmark, hungary (es nl se no dk hu) incl. ios safari ctv audio video mobile and display)']\n",
      "['branded data > nordic data resources > sweden > mosaic > (f) struggling followers (bluekai)', 'branded data > nordic data resources > sweden > mosaic > (j) struggling latecomers (bluekai)', 'branded data > nordic data resources > sweden > online mosaic > (f) struggling followers (bluekai)', 'branded data > nordic data resources > sweden > online mosaic > (j) struggling latecomers (bluekai)']\n",
      "['international_eu - france gambling (lotame)', 'international_eu - germany gambling (lotame)', 'international_eu - italy gambling (lotame)', 'international_eu - norway gambling (lotame)', 'international_eu - spain gambling (lotame)', 'international_eu - united kingdom gambling (lotame)']\n",
      "['branded data > nordic data resources > sweden > super target > media > tv > games/gambling (bluekai)', 'branded data > nordic data resources > sweden > tv programs > games/gambling (super target) (bluekai)', 'branded data > nordic data resources > sweden > tv programs > games/gambling (power reach) (bluekai)']\n",
      "['peer39: custom category>romanian_sportsgamblinggaming']\n",
      "['mediaiq_neg_tomboladenmarkgamblingaddiction (grapeshot)', 'mediaiq_neg_tombolaswedengamblingaddiction (grapeshot)']\n",
      "['bridge > custom segment > france > parions sport en ligne > gambling']\n",
      "['exelate interest - gambling - uk - sports betting - european football']\n",
      "['zeotap > italy > interest > betting (app usage)', 'zeotap > italy > interest > betting > casinò', 'zeotap > italy > interest > betting > football/soccer', 'zeotap > italy > purchase intent > casino & sports betting', 'zeotap > italy > purchase intent > betting > casino', 'zeotap > germany > interest > betting apps']\n",
      "['exelate interest - gambling - uk - sports betting - european football']\n",
      "['international_eu - france credit level - excellent (lotame)', 'international_eu - france credit level - good (lotame)', 'international_eu - france credit level - poor (lotame)', 'international_eu - germany credit level - excellent (lotame)', 'international_eu - germany credit level - good (lotame)', 'international_eu - germany credit level - poor (lotame)', 'international_eu - italy credit level - excellent (lotame)', 'international_eu - italy credit level - good (lotame)', 'international_eu - italy credit level - poor (lotame)', 'international_eu - spain credit level - excellent (lotame)', 'international_eu - spain credit level - good (lotame)', 'international_eu - spain credit level - poor (lotame)', 'international_eu - united kingdom credit level - excellent (lotame)', 'international_eu - united kingdom credit level - good (lotame)', 'international_eu - united kingdom credit level - poor (lotame)']\n",
      "['epsilon: demographics > ethnicity > eastern european', 'epsilon: demographics > ethnicity > western european', 'demographics > ethnicity > western european', 'demographics > ethnicity > eastern european']\n",
      "['datastream group>ethnic language spoken>latvian', 'stirista > voter > ethnicity > slovenian', 'datastream group>ethnic group>eastern european', 'webbula > demographic > individual > ethnicity code > slovakian', 'e-tech > ethnicity > latvian', 'infogroup > b2c > demographics > ethnicity > western european -- co-op sourced', 'sms > ethnic > slovenian', 'e-tech > ethnicity > austrian', 'e-tech > ethnic group > western european', 'infogroup > b2c > demographics > ethnicity > central european -- co-op sourced', 'e-tech > ethnic group > eastern european', 'take 5 media > parent ethnicity > western european', 'take 5 media > ethnicity > western european', 'sms > ethnic > romanian', 'sms > ethnic > luxembourgian', 'webbula > demographic > individual > ethnicity code > lithuanian', 'sms > ethnic > croatian', 'sms > ethnic minority group > western european', 'datastream group>ethnic group>western european', 'stirista > voter > ethnicity > romanian', 'datastream group>ethnic code>austrian', 'e-tech > ethnicity > estonian', 'sms > ethnic > austrian', 'stirista > voter > ethnicity > dutch (netherlands)', 'stirista > voter > ethnicity > luxembourgian', 'take 5 media > parent ethnicity > eastern european', 'datastream group>ethnic code>bulgarian', 'sms_new mover > ethnic_minority_group > eastern europe', 'stirista > voter > ethnicity > austrian', 'webbula > demographic > individual > ethnicity code > luxembourgian', 'sms > ethnic minority group > eastern european', 'webbula > demographic > individual > ethnicity group > western european', 'datastream group>ethnic language spoken>serbo-croatian', 'datastream group>ethnic language spoken>romanian', 'infogroup > b2b > demographics > ethnicity > western european', 'datastream group>ethnic hispanic country origin>spain', 'sms > ethnic > estonian', 'datastream group>ethnic language spoken>bulgarian', 'webbula > demographic > individual > ethnicity code > croatian', 'sms_new mover > ethnic_minority_group > western europe', 'take 5 media > ethnicity > eastern european', 'webbula > demographic > individual > ethnicity code > romanian', 'sms > ethnic > slovakian', 'webbula > demographic > individual > ethnicity code > slovenian', 'datastream group>ethnic code>estonian', 'infogroup > b2c > demographics > ethnicity > eastern european', 'infogroup > b2c > demographics > ethnicity > northern european -- co-op sourced', 'datastream group>ethnic code>romanian', 'infogroup > b2c > demographics > ethnicity > southern european -- co-op sourced', 'stirista > voter > ethnicity > latvian', 'stirista > voter > ethnicity > lithuanian', 'e-tech > ethnicity > romanian', 'stirista > voter > ethnicity > bulgarian', 'datastream group>ethnic code>slovakian', 'datastream group>ethnic language spoken>slovakian', 'datastream group>ethnic language spoken>estonian', 'datastream group>ethnic code>slovenian', 'stirista > voter > ethnicity > croatian', 'datastream group>ethnic code>croatian', 'e-tech > demographic > ethnicity > slovenian', 'webbula > demographic > individual > ethnicity code > estonian', 'datastream group>ethnic code>latvian', 'webbula > demographic > individual > ethnicity code > austrian', 'datastream group>ethnic language spoken>lithuanian', 'webbula > demographic > individual > ethnicity code > latvian', 'datastream group>ethnic language spoken>slovenian', 'stirista > voter > ethnicity > estonian', 'infogroup > consumer > us politics > demographics > ethnic origin > austrian', 'lbdigital > household demos > ethnicity > southern european', 'lbdigital > household demos > ethnicity > northern european', 'l2 voter data > individual demographics > ethnicity > ethnicgroups ethnicgroup1desc > european', 'l2 voter data > individual demographics > ethnicity > ethnic description > austrian', 'l2 voter data > individual demographics > ethnicity > ethnic description > luxembourgian', 'l2 voter data > individual demographics > ethnicity > ethnic description > slovenian', 'l2 voter data > individual demographics > ethnicity > ethnic description > dutch (netherlands)', 'l2 voter data > individual demographics > ethnicity > ethnic description > slovakian', 'l2 voter data > individual demographics > ethnicity > ethnic description > croatian', 'l2 voter data > individual demographics > ethnicity > ethnic description > romanian', 'l2 voter data > individual demographics > ethnicity > ethnic description > lithuanian', 'l2 voter data > individual demographics > ethnicity > ethnic description > estonian', 'l2 voter data > individual demographics > ethnicity > ethnic description > latvian', 'l2 voter data > individual demographics > ethnicity > ethnic description > bulgarian', 'experian (xaxis) > ethnic insight > ethnic group > western european', 'experian (xaxis) > ethnic insight > ethnic group > eastern european', 'experian (xaxis) > ethnic insight > country of origin > spain']\n",
      "['infogroup media solutions - b2c - consumer xchg - demographic - ethnicity - european - western (exelate)', 'infogroup media solutions - b2c - consumer xchg - demographic - ethnicity - european - eastern (exelate)', 'infogroup media solutions - b2c - consumer xchg - demographic - ethnicity - european - central (exelate)', 'infogroup media solutions - b2c - consumer xchg - demographic - ethnicity - european - south (exelate)', 'infogroup media solutions - b2c - consumer xchg - demographic - ethnicity - european - northern (exelate)']\n",
      "['b2c > ethnicity > european']\n",
      "['truoptik>webbula>demographics>ethnic group > eastern european', 'truoptik>webbula>demographics>ethnic group > western european', 'truoptik>webbula>demographics>ethnicity > austrian', 'truoptik>webbula>demographics>ethnicity > bulgarian', 'truoptik>webbula>demographics>ethnicity > croatian', 'truoptik>webbula>demographics>ethnicity > estonian', 'truoptik>webbula>demographics>ethnicity > latvian', 'truoptik>webbula>demographics>ethnicity > lithuanian', 'truoptik>webbula>demographics>ethnicity > luxembourgian', 'truoptik>webbula>demographics>ethnicity > romanian', 'truoptik>webbula>demographics>ethnicity > slovakian', 'truoptik>webbula>demographics>ethnicity > slovenian']\n",
      "['eyeota - us experian - reach - sociodemographic - ethnic group - european', 'eyeota - us experian - ethnic insight - ethnic group - western european', 'eyeota - us experian - ethnic insight - language - bulgarian', 'eyeota - us experian - ethnic insight - language - estonian', 'eyeota - us experian - ethnic insight - language - lithuanian', 'eyeota - us experian - ethnic insight - language - latvian', 'eyeota - us experian - ethnic insight - language - romanian', 'eyeota - us experian - ethnic insight - language - serbo-croatian', 'eyeota - us experian - ethnic insight - language - slovenian', 'eyeota - us experian - ethnic insight - country of origin - spain', 'eyeota - us experian - ethnic insight - ethnic group - eastern european']\n",
      "['experian > xaxis > ethnic insight > language > bulgarian_experian > xaxis > ethnic insight > language > bulgarian', 'experian > xaxis > ethnic insight > language > bulgarian_experian > xaxis > ethnic insight > language > bulgarian', 'experian > xaxis > ethnic insight > language > estonian_experian > xaxis > ethnic insight > language > estonian', 'experian > xaxis > ethnic insight > language > estonian_experian > xaxis > ethnic insight > language > estonian', 'experian > xaxis > ethnic insight > language > latvian_experian > xaxis > ethnic insight > language > latvian', 'experian > xaxis > ethnic insight > language > latvian_experian > xaxis > ethnic insight > language > latvian', 'experian > xaxis > ethnic insight > language > lithuanian_ experian > xaxis > ethnic insight > language > lithuanian', 'experian > xaxis > ethnic insight > language > lithuanian_ experian > xaxis > ethnic insight > language > lithuanian', 'experian > xaxis > ethnic insight > language > romanian_experian > xaxis > ethnic insight > language > romanian', 'experian > xaxis > ethnic insight > language > romanian_experian > xaxis > ethnic insight > language > romanian', 'experian > xaxis > ethnic insight > language > serbo-croatian_experian > xaxis > ethnic insight > language > serbo-croatian', 'experian > xaxis > ethnic insight > language > serbo-croatian_experian > xaxis > ethnic insight > language > serbo-croatian', 'experian > xaxis > ethnic insight > language > slovenian_experian > xaxis > ethnic insight > language > slovenian', 'experian > xaxis > ethnic insight > language > slovenian_experian > xaxis > ethnic insight > language > slovenian', 'experian > xaxis > ethnic insight > ethnic group > eastern european_experian > xaxis > ethnic insight > ethnic group > eastern european', 'experian > xaxis > ethnic insight > ethnic group > eastern european_experian > xaxis > ethnic insight > ethnic group > eastern european', 'experian > xaxis > ethnic insight > ethnic group > western european_experian > xaxis > ethnic insight > ethnic group > western european', 'experian > xaxis > ethnic insight > ethnic group > western european_experian > xaxis > ethnic insight > ethnic group > western european']\n",
      "['skydeo > demographics > ethnic > romanian', 'skydeo > demographics > ethnic > slovakian', 'skydeo > demographics > ethnic > luxembourgian', 'skydeo > demographics > ethnic > estonian', 'skydeo > demographics > ethnic > slovenian', 'skydeo > demographics > ethnic > lithuanian', 'skydeo > demographics > ethnic > austrian', 'skydeo > demographics > ethnic > bulgarian', 'skydeo > demographics > ethnic > croatian', 'skydeo > demographics > ethnic > western european', 'skydeo > demographics > ethnic > eastern european']\n",
      "['branded data > nordic data resources > sweden > mosaic > (g) multicultural followers (bluekai)', 'branded data > nordic data resources > denmark > online mosaic > new 2017 mosaic > (i) multicultural city blocks (bluekai)', 'branded data > nordic data resources > sweden > online mosaic > (g) multicultural followers (bluekai)']\n",
      "['kbm group - germany - microm data | microm typology  - neighbourhood types | group d: inner-city problem areas | multicultural inner city areas']\n",
      "['international_eu - france browser language - arabic (lotame)', 'international_eu - germany browser language - arabic (lotame)', 'international_eu - italy browser language - arabic (lotame)', 'international_eu - spain browser language - arabic (lotame)', 'international_eu - united kingdom browser language - arabic (lotame)']\n",
      "['oracle country-specific audiences > germany > consumer technology > in-market > wearable tech (bluekai)', 'oracle country-specific audiences > italy > consumer technology > in-market > wearable tech (bluekai)', 'oracle country-specific audiences > spain > consumer technology > in-market > wearable tech (bluekai)', 'oracle country-specific audiences > france > consumer technology > in-market > wearable tech (bluekai)']\n",
      "['zeotap > italy > demographics > language: arabic', 'zeotap > italy > interest > arabic (app usage)']\n",
      "['branded data > nordic data resources > sweden > super target > interests > religion (bluekai)', 'branded data > nordic data resources > denmark > interests > interested in spiritual, religious (super target) (bluekai)']\n",
      "['kbm group - germany - az direct | psychological values | psychological values | religious - high affinity', 'kbm group - germany - az direct | psychological values | psychological values | religious - low affinity']\n",
      "['custom segments > adex|germany|gutefrage|interests|religionandspirituality', 'custom segments > schober b2b mobile data germany - churches and religious groups - 1st and 2nd management level - gps data']\n",
      "['lifestyle > faith > uk & portugal christianity - extreme confidence (dstillery)', 'lifestyle > faith > uk & portugal christianity - extended scale (dstillery)']\n",
      "['lifestyle > faith > uk & portugal christianity - extreme confidence (dstillery)', 'lifestyle > faith > uk & portugal christianity - extended scale (dstillery)']\n",
      "['mobilewalla > france > health & fitness > dieters', 'mobilewalla > france > health & fitness > exercise enthusiasts', 'mobilewalla > france > health & fitness > foodies/cooking enthusiasts']\n",
      "['roqad_health_germany2_bzga (grapeshot)', 'xaxaustria_healthline_test (grapeshot)', 'ultrahungary_custom_health_dentistry_eng (grapeshot)', 'ultrahungary_custom_health_dentistry_hun (grapeshot)', 'plistapoland_pl_ikea_healthycookingeating_gs_05_2021 (grapeshot)']\n",
      "['branded data > semasio > germany > interest > health (bluekai)', 'branded data > semasio > germany > socio-demographic > career > health care professionals (bluekai)', 'branded data > semasio > denmark > intent > health & fitness (bluekai)', 'branded data > semasio > denmark > interest > health & fitness (bluekai)', 'branded data > semasio > sweden > intent > health & fitness (bluekai)', 'branded data > semasio > sweden > interest > health & fitness (bluekai)', 'branded data > affinity answers > brands > health & fitness > fitness first germany (bluekai)', 'branded data > affinity answers > brands > health & fitness > clever fit germany (bluekai)', 'oracle country-specific audiences > germany > financial services > insurance > interest > health insurance (bluekai)', 'oracle country-specific audiences > italy > financial services > insurance > interest > health insurance (bluekai)', 'oracle country-specific audiences > spain > financial services > insurance > interest > health insurance (bluekai)', 'oracle country-specific audiences > france > b2b > demographic > occupations & job functions > healthcare (bluekai)', 'oracle country-specific audiences > france > b2b > firmographic > industry > healthcare & social work (bluekai)', 'oracle country-specific audiences > germany > b2b > demographic > occupations & job functions > healthcare (bluekai)', 'oracle country-specific audiences > germany > b2b > firmographic > industry > healthcare & social work (bluekai)', 'oracle country-specific audiences > italy > b2b > demographic > occupations & job functions > healthcare (bluekai)', 'oracle country-specific audiences > italy > b2b > firmographic > industry > healthcare & social work (bluekai)', 'oracle country-specific audiences > spain > b2b > demographic > occupations & job functions > healthcare (bluekai)', 'oracle country-specific audiences > spain > b2b > firmographic > industry > healthcare & social work (bluekai)', 'oracle country-specific audiences > france > financial services > insurance > interest > health insurance (bluekai)', 'oracle country-specific audiences > germany > financial services > insurance > in-market > health insurance (bluekai)', 'oracle country-specific audiences > italy > financial services > insurance > in-market > health insurance (bluekai)', 'oracle country-specific audiences > spain > financial services > insurance > in-market > health insurance (bluekai)', 'oracle country-specific audiences > france > financial services > insurance > in-market > health insurance (bluekai)', 'oracle country-specific audiences > france > financial services > insurance > holders > health insurance (bluekai)', 'oracle country-specific audiences > france > b2b > demographic > occupations & job functions > healthcare > nurses (bluekai)', 'oracle country-specific audiences > france > b2b > demographic > occupations & job functions > healthcare > pharmacists (bluekai)', 'oracle country-specific audiences > france > b2b > demographic > occupations & job functions > healthcare > therapists (bluekai)', 'oracle country-specific audiences > france > b2b > demographic > occupations & job functions > healthcare > dentists (bluekai)', 'oracle country-specific audiences > france > b2b > demographic > occupations & job functions > healthcare > doctors (bluekai)', 'oracle country-specific audiences > france > b2b > firmographic > industry > healthcare & social work > nursing & residential care (bluekai)', 'oracle country-specific audiences > france > b2b > firmographic > industry > healthcare & social work > social work (bluekai)', 'oracle country-specific audiences > france > b2b > firmographic > industry > healthcare & social work > hospitals & medical offices (bluekai)', 'oracle country-specific audiences > germany > b2b > demographic > occupations & job functions > healthcare > nurses (bluekai)', 'oracle country-specific audiences > germany > b2b > demographic > occupations & job functions > healthcare > pharmacists (bluekai)', 'oracle country-specific audiences > germany > b2b > demographic > occupations & job functions > healthcare > therapists (bluekai)', 'oracle country-specific audiences > germany > b2b > demographic > occupations & job functions > healthcare > dentists (bluekai)', 'oracle country-specific audiences > germany > b2b > demographic > occupations & job functions > healthcare > doctors (bluekai)', 'oracle country-specific audiences > germany > b2b > firmographic > industry > healthcare & social work > hospitals & medical offices (bluekai)', 'oracle country-specific audiences > germany > b2b > firmographic > industry > healthcare & social work > nursing & residential care (bluekai)', 'oracle country-specific audiences > germany > b2b > firmographic > industry > healthcare & social work > social work (bluekai)', 'oracle country-specific audiences > italy > b2b > demographic > occupations & job functions > healthcare > nurses (bluekai)', 'oracle country-specific audiences > italy > b2b > demographic > occupations & job functions > healthcare > pharmacists (bluekai)', 'oracle country-specific audiences > italy > b2b > demographic > occupations & job functions > healthcare > therapists (bluekai)', 'oracle country-specific audiences > italy > b2b > demographic > occupations & job functions > healthcare > dentists (bluekai)', 'oracle country-specific audiences > italy > b2b > demographic > occupations & job functions > healthcare > doctors (bluekai)', 'oracle country-specific audiences > italy > b2b > firmographic > industry > healthcare & social work > nursing & residential care (bluekai)', 'oracle country-specific audiences > italy > b2b > firmographic > industry > healthcare & social work > social work (bluekai)', 'oracle country-specific audiences > italy > b2b > firmographic > industry > healthcare & social work > hospitals & medical offices (bluekai)', 'oracle country-specific audiences > spain > b2b > demographic > occupations & job functions > healthcare > nurses (bluekai)', 'oracle country-specific audiences > spain > b2b > demographic > occupations & job functions > healthcare > pharmacists (bluekai)', 'oracle country-specific audiences > spain > b2b > demographic > occupations & job functions > healthcare > therapists (bluekai)', 'oracle country-specific audiences > spain > b2b > demographic > occupations & job functions > healthcare > dentists (bluekai)', 'oracle country-specific audiences > spain > b2b > demographic > occupations & job functions > healthcare > doctors (bluekai)', 'oracle country-specific audiences > spain > b2b > firmographic > industry > healthcare & social work > hospitals & medical offices (bluekai)', 'oracle country-specific audiences > spain > b2b > firmographic > industry > healthcare & social work > nursing & residential care (bluekai)', 'oracle country-specific audiences > spain > b2b > firmographic > industry > healthcare & social work > social work (bluekai)', 'branded data > mobilewalla > france > health & fitness (bluekai)', 'branded data > mobilewalla > germany > health & fitness (bluekai)', 'branded data > mobilewalla > italy > health & fitness (bluekai)', 'branded data > mobilewalla > spain > health & fitness (bluekai)', 'branded data > mobilewalla > france > health & fitness > exercise enthusiasts (bluekai)', 'branded data > mobilewalla > germany > health & fitness > exercise enthusiasts (bluekai)', 'branded data > mobilewalla > italy > health & fitness > exercise enthusiasts (bluekai)', 'branded data > mobilewalla > spain > health & fitness > exercise enthusiasts (bluekai)', 'branded data > nordic data resources > denmark > super target > health (bluekai)', 'branded data > nordic data resources > denmark > super target > health > organic foods (bluekai)', 'branded data > nordic data resources > denmark > super target > health > health & fitness (bluekai)', 'branded data > nordic data resources > sweden > super target > interests > alternative healthcare (bluekai)', 'branded data > nordic data resources > sweden > super target > interests > healthy foods (bluekai)', 'branded data > nordic data resources > sweden > super target > interests > health care products (bluekai)', 'oracle country-specific audiences > france (fr) > hobbies and interests (affinity) > health and fitness (bluekai)', 'oracle country-specific audiences > germany (de) > hobbies and interests (affinity) > health and fitness (bluekai)', 'oracle country-specific audiences > spain (es) > hobbies and interests (affinity) > health and fitness (bluekai)', 'oracle country-specific audiences > france (fr) > lifestyles > enthusiasts > healthy living (bluekai)', 'oracle country-specific audiences > germany (de) > lifestyles > enthusiasts > healthy living (bluekai)', 'oracle country-specific audiences > italy (it) > lifestyles > enthusiasts > healthy living (bluekai)', 'oracle country-specific audiences > spain (es) > lifestyles > enthusiasts > healthy living (bluekai)', 'oracle country-specific audiences > france (fr) > retail > in-market > health and fitness (bluekai)', 'oracle country-specific audiences > germany (de) > retail > in-market > health and fitness (bluekai)', 'oracle country-specific audiences > italy (it) > retail > in-market > health and fitness (bluekai)', 'oracle country-specific audiences > spain (es) > retail > in-market > health and fitness (bluekai)', 'oracle country-specific audiences > france (fr) > hobbies and interests (affinity) > health and fitness > exercise (bluekai)', 'oracle country-specific audiences > france (fr) > hobbies and interests (affinity) > health and fitness > wellness (bluekai)', 'oracle country-specific audiences > germany (de) > hobbies and interests (affinity) > health and fitness > wellness (bluekai)', 'oracle country-specific audiences > germany (de) > hobbies and interests (affinity) > health and fitness > exercise (bluekai)', 'oracle country-specific audiences > italy (it) > hobbies and interests (affinity) > health and fitness > wellness (bluekai)', 'oracle country-specific audiences > italy (it) > hobbies and interests (affinity) > health and fitness > exercise (bluekai)', 'oracle country-specific audiences > spain (es) > hobbies and interests (affinity) > health and fitness > wellness (bluekai)', 'oracle country-specific audiences > spain (es) > hobbies and interests (affinity) > health and fitness > exercise (bluekai)', 'oracle country-specific audiences > france (fr) > consumer packaged goods (cpg/fmcg) > interest (affinity) > eating styles > healthy (bluekai)', 'oracle country-specific audiences > france (fr) > consumer packaged goods (cpg/fmcg) > interest (affinity) > product categories > health and beauty products (bluekai)', 'oracle country-specific audiences > spain (es) > consumer packaged goods (cpg/fmcg) > interest (affinity) > eating styles > healthy (bluekai)', 'oracle country-specific audiences > spain (es) > consumer packaged goods (cpg/fmcg) > interest (affinity) > product categories > health and beauty products (bluekai)', 'oracle country-specific audiences > italy (it) > consumer packaged goods (cpg/fmcg) > interest (affinity) > eating styles > healthy (bluekai)', 'oracle country-specific audiences > italy (it) > consumer packaged goods (cpg/fmcg) > interest (affinity) > product categories > health and beauty products (bluekai)', 'oracle country-specific audiences > germany (de) > consumer packaged goods (cpg/fmcg) > interest (affinity) > eating styles > healthy (bluekai)', 'oracle country-specific audiences > germany (de) > consumer packaged goods (cpg/fmcg) > interest (affinity) > product categories > health and beauty products (bluekai)', 'oracle country-specific audiences > france (fr) > retail > in-market > health and fitness > fitness (bluekai)', 'oracle country-specific audiences > france (fr) > retail > purchase-based > categories > health and fitness buyers (bluekai)', 'oracle country-specific audiences > germany (de) > retail > in-market > health and fitness > fitness (bluekai)', 'oracle country-specific audiences > germany (de) > retail > purchase-based > categories > health and fitness buyers (bluekai)', 'oracle country-specific audiences > italy (it) > retail > in-market > health and fitness > fitness (bluekai)', 'oracle country-specific audiences > italy (it) > retail > purchase-based > categories > health and fitness buyers (bluekai)', 'oracle country-specific audiences > spain (es) > retail > in-market > health and fitness > fitness (bluekai)', 'oracle country-specific audiences > spain (es) > retail > purchase-based > categories > health and fitness buyers (bluekai)', 'oracle country-specific audiences > france (fr) > hobbies and interests (affinity) > health and fitness > exercise > gyms (bluekai)', 'oracle country-specific audiences > france (fr) > hobbies and interests (affinity) > health and fitness > exercise > running and jogging (bluekai)', 'oracle country-specific audiences > france (fr) > hobbies and interests (affinity) > health and fitness > wellness > dieting and weight loss (bluekai)', 'oracle country-specific audiences > france (fr) > hobbies and interests (affinity) > health and fitness > wellness > nutrition (bluekai)', 'oracle country-specific audiences > france (fr) > hobbies and interests (affinity) > health and fitness > exercise > walking (bluekai)', 'oracle country-specific audiences > germany (de) > hobbies and interests (affinity) > health and fitness > wellness > dieting and weight loss (bluekai)', 'oracle country-specific audiences > germany (de) > hobbies and interests (affinity) > health and fitness > wellness > nutrition (bluekai)', 'oracle country-specific audiences > germany (de) > hobbies and interests (affinity) > health and fitness > exercise > walking (bluekai)', 'oracle country-specific audiences > germany (de) > hobbies and interests (affinity) > health and fitness > exercise > gyms (bluekai)', 'oracle country-specific audiences > germany (de) > hobbies and interests (affinity) > health and fitness > exercise > running and jogging (bluekai)', 'oracle country-specific audiences > italy (it) > hobbies and interests (affinity) > health and fitness > wellness > dieting and weight loss (bluekai)', 'oracle country-specific audiences > italy (it) > hobbies and interests (affinity) > health and fitness > wellness > nutrition (bluekai)', 'oracle country-specific audiences > italy (it) > hobbies and interests (affinity) > health and fitness > exercise > walking (bluekai)', 'oracle country-specific audiences > italy (it) > hobbies and interests (affinity) > health and fitness > exercise > gyms (bluekai)', 'oracle country-specific audiences > italy (it) > hobbies and interests (affinity) > health and fitness > exercise > running and jogging (bluekai)', 'oracle country-specific audiences > spain (es) > hobbies and interests (affinity) > health and fitness > wellness > dieting and weight loss (bluekai)', 'oracle country-specific audiences > spain (es) > hobbies and interests (affinity) > health and fitness > wellness > nutrition (bluekai)', 'oracle country-specific audiences > spain (es) > hobbies and interests (affinity) > health and fitness > exercise > walking (bluekai)', 'oracle country-specific audiences > spain (es) > hobbies and interests (affinity) > health and fitness > exercise > gyms (bluekai)', 'oracle country-specific audiences > spain (es) > hobbies and interests (affinity) > health and fitness > exercise > running and jogging (bluekai)', 'oracle country-specific audiences > france (fr) > retail > purchase-based > categories > health and fitness buyers > fitness (bluekai)', 'oracle country-specific audiences > germany (de) > retail > purchase-based > categories > health and fitness buyers > fitness (bluekai)', 'oracle country-specific audiences > italy (it) > retail > purchase-based > categories > health and fitness buyers > fitness (bluekai)', 'oracle country-specific audiences > spain (es) > retail > purchase-based > categories > health and fitness buyers > fitness (bluekai)', 'branded data > nordic data resources > sweden > super target > media > newspapers > health wellbeing (bluekai)', 'branded data > factual - geopulse audiences > france > behavioral - retail > health food shoppers (bluekai)', 'branded data > factual - geopulse audiences > spain > behavioral - retail > health food shoppers (bluekai)', 'branded data > factual - geopulse audiences > germany > behavioral - retail > health food shoppers (bluekai)', 'branded data > factual - geopulse audiences > italy > behavioral - retail > health food shoppers (bluekai)', 'oracle country-specific audiences > germany (de) > consumer packaged goods (cpg/fmcg) > interest (affinity) > product categories > health and beauty products > vitamins (bluekai)', 'oracle country-specific audiences > germany (de) > consumer packaged goods (cpg/fmcg) > interest (affinity) > product categories > health and beauty products > shaving and hair removal (bluekai)', 'oracle country-specific audiences > italy (it) > consumer packaged goods (cpg/fmcg) > interest (affinity) > product categories > health and beauty products > shaving and hair removal (bluekai)', 'oracle country-specific audiences > spain (es) > consumer packaged goods (cpg/fmcg) > interest (affinity) > product categories > health and beauty products > shaving and hair removal (bluekai)', 'oracle country-specific audiences > france (fr) > consumer packaged goods (cpg/fmcg) > interest (affinity) > product categories > health and beauty products > hair care (bluekai)', 'oracle country-specific audiences > spain (es) > consumer packaged goods (cpg/fmcg) > interest (affinity) > product categories > health and beauty products > hair care (bluekai)', 'oracle country-specific audiences > france (fr) > consumer packaged goods (cpg/fmcg) > interest (affinity) > product categories > health and beauty products > shaving and hair removal (bluekai)', 'oracle country-specific audiences > germany (de) > consumer packaged goods (cpg/fmcg) > interest (affinity) > product categories > health and beauty products > hair care (bluekai)', 'oracle country-specific audiences > italy (it) > consumer packaged goods (cpg/fmcg) > interest (affinity) > product categories > health and beauty products > hair care (bluekai)', 'branded data > nordic data resources > sweden > interests > healthy foods (super target) (bluekai)', 'branded data > nordic data resources > germany > interests > health/beauty products (super target) (bluekai)', 'branded data > nordic data resources > sweden > interests > alternative healthcare (super target) (bluekai)', 'branded data > nordic data resources > denmark > interests > interested in nutrition & health (super target) (bluekai)', 'branded data > nordic data resources > denmark > economy > insurance > has a private health insurance (super target) (bluekai)', 'branded data > nordic data resources > denmark > interests > interested in health (super target) (bluekai)', 'branded data > nordic data resources > sweden > interests > health & healthcare (super target) (bluekai)', 'branded data > nordic data resources > sweden > media > newspapers & magazines > health wellbeing (super target) (bluekai)', 'branded data > affinity answers > brands > health & fitness > mcfit germany (bluekai)', 'branded data > affinity answers > brands > health & fitness > world gym germany (bluekai)', 'branded data > nordic data resources > denmark > interests > interested in health (power reach) (bluekai)', 'branded data > nordic data resources > sweden > interests > health & healthcare (power reach) (bluekai)', 'branded data > nordic data resources > denmark > interests > interested in nutrition & health (power reach) (bluekai)', 'branded data > nordic data resources > sweden > media > newspapers & magazines > health wellbeing (power reach) (bluekai)', 'branded data > nordic data resources > sweden > interests > alternative healthcare (power reach) (bluekai)', 'branded data > nordic data resources > sweden > interests > healthy foods (power reach) (bluekai)', 'branded data > conexance > france - conexance consumer > buyers > category > health wellness (bluekai)', 'branded data > conexance > france - conexance publishing > subscribers > category > health magazine (bluekai)']\n",
      "['kbm group - germany - az direct - target groups | books & magazines | target groups with focus on books & magazines | health', 'kbm group - germany - az direct - target groups | food & drink | target groups with focus on food & drink | healthy eater', 'kbm group - germany - az direct - target groups | living healthy | target groups with focus on living healthy | health-conscious', 'kbm group - germany - az direct - target groups | living healthy | target groups with focus on living healthy | wellness lovers', 'kbm group - germany - microm data | consumer data | lohas (lifestyles of health and sustainability) | lohas (lifestyles of health and sustainability)', 'kbm group - germany - panadress consumer data | target groups | insurance | private health insurance', 'kbm group - germany - panadress consumer data | target groups | sports & health | dietary supplement', 'kbm group - germany - panadress consumer data | target groups | sports & health | fitness & wellness', 'kbm group - germany - panadress consumer data | target groups | sports & health | football', 'kbm group - germany - panadress consumer data | target groups | sports & health | sporting goods']\n",
      "['zeotap > spain > interest > health & fitness (2)', 'zeotap > italy > appusage > health and fitness', 'zeotap > italy > interest > health and fitness (app usage)', 'zeotap > germany > interest > health & fitness (app usage)', 'zeotap > france > interest > health & fitness buffs (app usage)', 'zeotap > spain > interest > health & fitness (1)', 'zeotap > italy > interest > health & fitness', 'zeotap > france > interest > health & fitness (mweb)', 'zeotap > italy >  interest > italian summer > from sunset to dawn (nightlife/health/fitness)', 'zeotap > spain > interest > health & fitness > menstrual period & ovulation (2)', 'zeotap > spain > interest > health & fitness > runners', 'zeotap > spain > interest > health & fitness > runners', 'zeotap > spain > interest > health & fitness > runners', 'zeotap > spain > interest > health & fitness > runners', 'zeotap > spain > interest > health & fitness > runners', 'zeotap > spain > interest > health & fitness > runners', 'zeotap > spain > interest > health & fitness > runners', 'zeotap > spain > interest > health & fitness > runners', 'zeotap > spain > interest > health & fitness > runners', 'zeotap > spain > interest > health & fitness > runners', 'zeotap > spain > interest > health & fitness > runners', 'zeotap > spain > interest > health & fitness > runners', 'zeotap > spain > interest > health & fitness > runners', 'zeotap > spain > interest > health & fitness > runners', 'zeotap > spain > interest > health & fitness > runners', 'zeotap > spain > interest > health & fitness > runners', 'zeotap > spain > interest > health & fitness > runners', 'zeotap > spain > interest > health & fitness > runners', 'zeotap > spain > interest > health & fitness > runners', 'zeotap > spain > interest > health & fitness > runners', 'zeotap > spain > interest > health & fitness > runners', 'zeotap > spain > interest > health & fitness > runners', 'zeotap > spain > interest > health & fitness > runners', 'zeotap > spain > interest > health & fitness > runners', 'zeotap > spain > interest > health & fitness > runners', 'zeotap > spain > interest > health & fitness > runners', 'zeotap > spain > interest > health & fitness > runners', 'zeotap > spain > purchase intent > fitness & health', 'zeotap > spain > interest > health & fitness > runners', 'zeotap > spain > purchase intent > fitness & health', 'zeotap > spain > interest > health & fitness > runners', 'zeotap > spain > purchase intent > fitness & health', 'zeotap > italy > purchase intent > fitness & health', 'zeotap > italy > purchase intent > fitness & health', 'zeotap > italy > purchase intent > fitness & health', 'zeotap > spain > interest > health & fitness > runners', 'zeotap > spain > purchase intent > fitness & health', 'zeotap > italy > purchase intent > fitness & health', 'zeotap > spain > interest > health & fitness > runners', 'zeotap > spain > purchase intent > fitness & health', 'zeotap > italy > purchase intent > fitness & health', 'zeotap > spain > interest > health & fitness > runners', 'zeotap > spain > purchase intent > fitness & health', 'zeotap > italy > purchase intent > fitness & health', 'zeotap > spain > interest > health & fitness > runners', 'zeotap > spain > purchase intent > fitness & health', 'zeotap > italy > purchase intent > fitness & health', 'zeotap > spain > interest > health & fitness > runners', 'zeotap > spain > purchase intent > fitness & health', 'zeotap > italy > purchase intent > fitness & health', 'zeotap > spain > interest > health & fitness > runners', 'zeotap > spain > purchase intent > fitness & health', 'zeotap > italy > purchase intent > fitness & health', 'zeotap > spain > interest > health & fitness > runners', 'zeotap > spain > purchase intent > health & fitness (2)', 'zeotap > italy > purchase intent > fitness & health', 'zeotap > spain > interest > health & fitness > runners', 'zeotap > italy > purchase intent > fitness & health', 'zeotap > spain > interest > health & fitness > runners', 'zeotap > italy > purchase intent > fitness & health', 'zeotap > spain > interest > fitness & health > workouts', 'zeotap > spain > interest > health & fitness > workouts (2)', 'zeotap > france > interest > fitness & health > workouts', 'zeotap > germany > interest > fitness & health > workouts', 'zeotap > germany > interest > fitness & health > workouts', 'zeotap > germany > interest > fitness & health > workouts', 'zeotap > italy > purchase intent > fitness & health', 'zeotap > italy > purchase intent > fitness & health', 'zeotap > spain > interest > health & fitness > runners', 'zeotap > germany > interest > fitness & health > workouts', 'zeotap > italy > purchase intent > fitness & health', 'zeotap > spain > interest > health & fitness > runners', 'zeotap > germany > interest > fitness & health > workouts', 'zeotap > italy > purchase intent > fitness & health', 'zeotap > spain > interest > health & fitness > runners', 'zeotap > germany > interest > fitness & health > workouts', 'zeotap > italy > purchase intent > fitness & health', 'zeotap > italy > purchase intent > fitness & health', 'zeotap > spain > interest > health & fitness > runners', 'zeotap > germany > interest > fitness & health > workouts', 'zeotap > spain > interest > health & fitness > runners', 'zeotap > germany > interest > fitness & health > workouts', 'zeotap > spain > interest > health & fitness > runners', 'zeotap > germany > interest > fitness & health > workouts', 'zeotap > spain > interest > health & fitness > runners (2)', 'zeotap > germany > interest > fitness & health > workouts', 'zeotap > france > purchase intent > fitness & health', 'zeotap > germany > purchase intent > fitness & health', 'zeotap > germany > purchase intent > fitness & health > bicycling', 'zeotap > germany > purchase intent > fitness & health > football / soccer', 'zeotap > italy > purchase intent > food & drink > healthy food', 'zeotap > france > interest > fitness and health > medicine', \"zeotap > germany > interest > health & fitness > men's hair care\", 'zeotap > france > interest > fitness and health', 'zeotap > france > interest > health & fitness (mweb)', 'zeotap > france > interest > health & fitness > runners', 'zeotap > france > interest > health & fitness > nutrition', 'zeotap > france > interest > health & fitness', 'zeotap > france > interest > health & fitness > hiit, workouts and fitness', 'zeotap > spain > interest > health & fitness > runners (1)', 'zeotap > belgium > interest > health and fitness', 'zeotap > spain > mobile contract > customer type: small business & freelance > health industry', 'zeotap > spain > mobile contract > customer type: small business & freelance > health industry (publisher)', 'zeotap > spain > interest > health & fitness > menstrual period & ovulation (1)', 'zeotap > spain > interest > health & fitness > yoga, relax & meditation', 'zeotap > spain > interest > fitness & health > health (publisher)', 'zeotap > spain > purchase intent > health & fitness (publisher)', 'zeotap > spain > interest > health & fitness > menstrual period & ovulation (publisher)', 'zeotap > spain > interest > health & fitness > runners (publisher) (1)', 'zeotap > austria > purchase intent > fitness & health', 'zeotap > austria > interest > health & fitness', 'zeotap > spain > interest > health & fitness (publisher) (1)', \"zeotap > spain > interest > health & fitness > women's health (publisher) (1)\", 'zeotap > spain > interest > health & fitness > yoga, relax & meditation (publisher)', 'zeotap > spain > purchase intent > health & fitness > yoga (publisher) (2)', 'zeotap > spain > purchase intent > health & fitness > fitness equipment & services (publisher) (2)', 'zeotap > spain > purchase intent > food & drinks > health & lowfat cooking (publisher) (2)', 'zeotap > germany > interest > health & fitness_1', 'zeotap > france > interest > fitness and health (publisher)', 'zeotap > france > interest > health & fitness (publisher)', 'zeotap > france > purchase intent > fitness & health (publisher)', 'zeotap > spain > custom > xaxis > purchase intent > health & fitness', 'zeotap > spain > custom > xaxis > mobile contract > customer type: small business & freelance > health', 'zeotap > spain > interest y intent nutrition health cooking', 'zeotap > germany > interest > health & fitness', 'zeotap > spain > healthy food and fitness', 'zeotap > spain > health and fitness app', 'zeotap > spain > custom > placebo media > interest > health & fitness > relax']\n",
      "['custom segments > adex|germany|gutefrage|interests|healthyliving', 'custom segments > adex|germany|gutefrage|interests|healthyliving|alternativemedicine', 'custom segments > adex|germany|gutefrage|interests|healthyliving|fitnessandexercise', 'custom segments > adex|germany|gutefrage|interests|healthyliving|nutrition', 'custom segments > adex|germany|gutefrage|interests|healthyliving|weightloss', 'custom segments > schober b2b mobile data germany - physicians, healthcare and social services - 1st and 2nd management level - gps data']\n",
      "['the weather channel (ibm) > france weather conditions > healthy bars and snacks', 'the weather channel (ibm) > germany weather conditions > healthy bars and snacks', 'the weather channel (ibm) > spain weather conditions > healthy bars and snacks']\n",
      "['nielsen france - social - lifestyle - healthy eating']\n",
      "['miq - ge - ireland all healthcare professionals - profile', 'miq - ge - germany all healthcare professionals - profile', 'miq - ge - france all healthcare professionals - profile']\n",
      "['synexus hungary - illuma smart category - healthy living - 2021.05', 'synexus poland - illuma smart category - healthy living - 2021.05', 'synexus hungary - illuma smart category - medical health - 2021.05', 'synexus poland - illuma smart category - medical health - 2021.05']\n",
      "['digitalaudience: sweden > spending intent > health care products > above average']\n",
      "['kbm group - germany - az direct | psychological values | psychological values | adventurous - high affinity', 'kbm group - germany - az direct | psychological values | psychological values | adventurous - low affinity', 'kbm group - germany - az direct | psychological values | psychological values | combative - high affinity', 'kbm group - germany - az direct | psychological values | psychological values | combative - low affinity', 'kbm group - germany - az direct | psychological values | psychological values | critical - high affinity', 'kbm group - germany - az direct | psychological values | psychological values | critical - low affinity', 'kbm group - germany - az direct | psychological values | psychological values | cultural - high affinity', 'kbm group - germany - az direct | psychological values | psychological values | cultural - low affinity', 'kbm group - germany - az direct | psychological values | psychological values | desiring - high affinity', 'kbm group - germany - az direct | psychological values | psychological values | desiring - low affinity', 'kbm group - germany - az direct | psychological values | psychological values | dominant - high affinity', 'kbm group - germany - az direct | psychological values | psychological values | dominant - low affinity', 'kbm group - germany - az direct | psychological values | psychological values | dreamy - high affinity', 'kbm group - germany - az direct | psychological values | psychological values | dreamy - low affinity', 'kbm group - germany - az direct | psychological values | psychological values | dutiful - high affinity', 'kbm group - germany - az direct | psychological values | psychological values | dutiful - low affinity', 'kbm group - germany - az direct | psychological values | psychological values | familiar - high affinity', 'kbm group - germany - az direct | psychological values | psychological values | familiar - low affinity', 'kbm group - germany - az direct | psychological values | psychological values | materialistic - high affinity', 'kbm group - germany - az direct | psychological values | psychological values | materialistic - low affinity', 'kbm group - germany - az direct | psychological values | psychological values | rational - high affinity', 'kbm group - germany - az direct | psychological values | psychological values | rational - low affinity', 'kbm group - germany - az direct | psychological values | psychological values | religious - high affinity', 'kbm group - germany - az direct | psychological values | psychological values | religious - low affinity', 'kbm group - germany - az direct | psychological values | psychological values | social - high affinity', 'kbm group - germany - az direct | psychological values | psychological values | social - low affinity', 'kbm group - germany - az direct | psychological values | psychological values | traditional - high affinity', 'kbm group - germany - az direct | psychological values | psychological values | traditional - low affinity']\n",
      "['international_eu - france dieting and weight loss (lotame)', 'international_eu - france weightlifting (lotame)', 'international_eu - germany dieting and weight loss (lotame)', 'international_eu - germany weightlifting (lotame)', 'international_eu - italy dieting and weight loss (lotame)', 'international_eu - italy weightlifting (lotame)', 'international_eu - spain dieting and weight loss (lotame)', 'international_eu - spain weightlifting (lotame)', 'international_eu - united kingdom dieting and weight loss (lotame)', 'international_eu - united kingdom weightlifting (lotame)']\n",
      "['oracle country-specific audiences > france (fr) > hobbies and interests (affinity) > health and fitness > wellness > dieting and weight loss (bluekai)', 'oracle country-specific audiences > germany (de) > hobbies and interests (affinity) > health and fitness > wellness > dieting and weight loss (bluekai)', 'oracle country-specific audiences > italy (it) > hobbies and interests (affinity) > health and fitness > wellness > dieting and weight loss (bluekai)', 'oracle country-specific audiences > spain (es) > hobbies and interests (affinity) > health and fitness > wellness > dieting and weight loss (bluekai)', 'branded data > nordic data resources > denmark > interests > interested in weightloss (super target) (bluekai)', 'branded data > nordic data resources > denmark > interests > interested in weightloss (power reach) (bluekai)']\n",
      "['custom segments > adex|germany|gutefrage|interests|healthyliving|weightloss']\n",
      "['zeotap > italy > purchase intent > weightloss']\n",
      "['nielsen france - social - lifestyle - weight loss']\n",
      "['international_eu - france environmentalism (lotame)', 'international_eu - germany environmentalism (lotame)', 'international_eu - italy environmentalism (lotame)', 'international_eu - spain environmentalism (lotame)', 'international_eu - united kingdom environmentalism (lotame)']\n",
      "['branded data > nordic data resources > sweden > super target > interests > environmental care (bluekai)', 'branded data > nordic data resources > sweden > interests > environmental care (super target) (bluekai)', 'branded data > nordic data resources > denmark > shopping > environmental products (super target) (bluekai)', 'branded data > nordic data resources > denmark > shopping > environmental products (power reach) (bluekai)', 'branded data > nordic data resources > sweden > interests > environmental care (power reach) (bluekai)']\n",
      "['kbm group - germany - schober | lifestyle | environmental awareness / organic products']\n",
      "['custom segments > schober mobile data germany - environmentally conscious customers - gps data', 'custom segments > schober b2b mobile data germany - ecology, environmental technology and recycling  - 1st and 2nd management level - gps data']\n",
      "['gs_politics_romanian (grapeshot)', 'gs_politics_slovakian (grapeshot)', 'gs_politics_bulgarian (grapeshot)']\n",
      "['branded data > semasio > germany > interest > society & politics (bluekai)', 'oracle country-specific audiences > germany > media & entertainment > movies > genres > political (bluekai)', 'oracle country-specific audiences > spain > media & entertainment > movies > genres > political (bluekai)', 'oracle country-specific audiences > france > media & entertainment > movies > genres > political (bluekai)', 'oracle country-specific audiences > france > hobbies & interests > politics & society (bluekai)', 'oracle country-specific audiences > germany > hobbies & interests > politics & society (bluekai)', 'oracle country-specific audiences > italy > hobbies & interests > politics & society (bluekai)', 'oracle country-specific audiences > spain > hobbies & interests > politics & society (bluekai)', 'oracle country-specific audiences > france > hobbies & interests > politics & society > charity & giving (bluekai)', 'oracle country-specific audiences > france > hobbies & interests > politics & society > environment (bluekai)', 'oracle country-specific audiences > germany > hobbies & interests > politics & society > charity & giving (bluekai)', 'oracle country-specific audiences > germany > hobbies & interests > politics & society > environment (bluekai)', 'oracle country-specific audiences > italy > hobbies & interests > politics & society > charity & giving (bluekai)', 'oracle country-specific audiences > italy > hobbies & interests > politics & society > environment (bluekai)', 'oracle country-specific audiences > spain > hobbies & interests > politics & society > charity & giving (bluekai)', 'oracle country-specific audiences > spain > hobbies & interests > politics & society > environment (bluekai)', 'oracle country-specific audiences > france > hobbies & interests > politics & society > charity & giving > causes (bluekai)', 'branded data > nordic data resources > germany > interests > politics (super target) (bluekai)', 'oracle country-specific audiences > italy (it) > media and entertainment > movies > genres > political (bluekai)']\n",
      "['kbm group - germany - schober | media | political journals and business magazines']\n",
      "['custom segments > adex|germany|gutefrage|interests|newsandpolitics', 'custom segments > adex|germany|gutefrage|interests|newsandpolitics|law', 'custom segments > adex|germany|gutefrage|interests|newsandpolitics|politics']\n",
      "['infogroup > consumer > us politics > demographics > ethnic origin > austrian']\n",
      "['exelate demographic - politics - registered voters - state congressional district - u.s. armed forces - europe', 'exelate demographic - politics - registered voters - state congressional district - u.s. armed forces - europe - 1', 'exelate demographic - politics - registered voters - state congressional district - u.s. armed forces - europe - 1 - democrats', 'exelate demographic - politics - registered voters - state congressional district - u.s. armed forces - europe - 1 - republicans', 'exelate demographic - politics - registered voters - state congressional district - u.s. armed forces - europe - 10', 'exelate demographic - politics - registered voters - state congressional district - u.s. armed forces - europe - 10 - democrats', 'exelate demographic - politics - registered voters - state congressional district - u.s. armed forces - europe - 10 - republicans', 'exelate demographic - politics - registered voters - state congressional district - u.s. armed forces - europe - 16', 'exelate demographic - politics - registered voters - state congressional district - u.s. armed forces - europe - 16 - democrats', 'exelate demographic - politics - registered voters - state congressional district - u.s. armed forces - europe - 16 - republicans', 'exelate demographic - politics - registered voters - state congressional district - u.s. armed forces - europe - 19', 'exelate demographic - politics - registered voters - state congressional district - u.s. armed forces - europe - 19 - democrats', 'exelate demographic - politics - registered voters - state congressional district - u.s. armed forces - europe - 19 - republicans', 'exelate demographic - politics - registered voters - state congressional district - u.s. armed forces - europe - 2', 'exelate demographic - politics - registered voters - state congressional district - u.s. armed forces - europe - 2 - democrats', 'exelate demographic - politics - registered voters - state congressional district - u.s. armed forces - europe - 2 - republicans', 'exelate demographic - politics - registered voters - state congressional district - u.s. armed forces - europe - 23', 'exelate demographic - politics - registered voters - state congressional district - u.s. armed forces - europe - 23 - democrats', 'exelate demographic - politics - registered voters - state congressional district - u.s. armed forces - europe - 23 - republicans', 'exelate demographic - politics - registered voters - state congressional district - u.s. armed forces - europe - 25', 'exelate demographic - politics - registered voters - state congressional district - u.s. armed forces - europe - 25 - democrats', 'exelate demographic - politics - registered voters - state congressional district - u.s. armed forces - europe - 25 - republicans', 'exelate demographic - politics - registered voters - state congressional district - u.s. armed forces - europe - 27', 'exelate demographic - politics - registered voters - state congressional district - u.s. armed forces - europe - 27 - democrats', 'exelate demographic - politics - registered voters - state congressional district - u.s. armed forces - europe - 27 - republicans', 'exelate demographic - politics - registered voters - state congressional district - u.s. armed forces - europe - 3', 'exelate demographic - politics - registered voters - state congressional district - u.s. armed forces - europe - 3 - democrats', 'exelate demographic - politics - registered voters - state congressional district - u.s. armed forces - europe - 3 - republicans', 'exelate demographic - politics - registered voters - state congressional district - u.s. armed forces - europe - 4', 'exelate demographic - politics - registered voters - state congressional district - u.s. armed forces - europe - 4 - democrats', 'exelate demographic - politics - registered voters - state congressional district - u.s. armed forces - europe - 4 - republicans', 'exelate demographic - politics - registered voters - state congressional district - u.s. armed forces - europe - 5', 'exelate demographic - politics - registered voters - state congressional district - u.s. armed forces - europe - 5 - democrats', 'exelate demographic - politics - registered voters - state congressional district - u.s. armed forces - europe - 5 - republicans', 'exelate demographic - politics - registered voters - state congressional district - u.s. armed forces - europe - 6', 'exelate demographic - politics - registered voters - state congressional district - u.s. armed forces - europe - 6 - democrats', 'exelate demographic - politics - registered voters - state congressional district - u.s. armed forces - europe - 6 - republicans', 'exelate demographic - politics - registered voters - state congressional district - u.s. armed forces - europe - 8', 'exelate demographic - politics - registered voters - state congressional district - u.s. armed forces - europe - 8 - democrats', 'exelate demographic - politics - registered voters - state congressional district - u.s. armed forces - europe - 8 - republicans']\n",
      "['international_eu - france military (lotame)', 'international_eu - germany military (lotame)', 'international_eu - italy military (lotame)', 'international_eu - spain military (lotame)', 'international_eu - united kingdom military (lotame)']\n",
      "['oracle country-specific audiences > germany > media & entertainment > movies > genres > military & war (bluekai)', 'oracle country-specific audiences > spain > media & entertainment > movies > genres > military & war (bluekai)', 'oracle country-specific audiences > france > media & entertainment > movies > genres > military & war (bluekai)', 'oracle country-specific audiences > france > b2b > firmographic > industry > government > military (bluekai)', 'oracle country-specific audiences > germany > b2b > firmographic > industry > government > military (bluekai)', 'oracle country-specific audiences > italy > b2b > firmographic > industry > government > military (bluekai)', 'oracle country-specific audiences > spain > b2b > firmographic > industry > government > military (bluekai)', 'oracle country-specific audiences > italy (it) > media and entertainment > movies > genres > military and war (bluekai)']\n",
      "['branded data > nordic data resources > sweden > super target > interests > foreign policy (bluekai)']\n",
      "['oracle country-specific audiences > germany (de) > media and entertainment > television (tv) > genres > crime/procedural (bluekai)', 'oracle country-specific audiences > germany > media & entertainment > movies > genres > crime (bluekai)', 'oracle country-specific audiences > italy > media & entertainment > television > genres > crime/procedural (bluekai)', 'oracle country-specific audiences > spain > media & entertainment > movies > genres > crime (bluekai)', 'oracle country-specific audiences > spain > media & entertainment > television > genres > crime/procedural (bluekai)', 'oracle country-specific audiences > france > media & entertainment > movies > genres > crime (bluekai)', 'oracle country-specific audiences > france > media & entertainment > television > genres > crime/procedural (bluekai)', 'branded data > nordic data resources > sweden > tv programs > crime series (super target) (bluekai)', 'branded data > nordic data resources > sweden > tv programs > crime series (power reach) (bluekai)', 'oracle country-specific audiences > italy (it) > media and entertainment > movies > genres > crime (bluekai)']\n",
      "['sharethis > world localities > europe > central & eastern europe > eastern europe > ukraine > crimea']\n",
      "['peer39: custom category>brand safety sweden - mature_profanity_accidents_crime_death', 'peer39: custom category>brand safety denmark - mature_profanity_accidents_crime_death', 'peer39: custom category>brand safety romania - mature_profanity_accidents_crime_death', 'peer39: custom category>brand safety greece - mature_profanity_accidents_crime_death', 'peer39: custom category>brand safety greece - mature_profanity_accidents_crime_death_2', 'peer39: custom category>brand safety greece - mature_profanity_accidents_crime_death_3']\n",
      "['geographic > ip based > country > europe > eastern europe > ukraine (bluekai)']\n",
      "['sharethis > world localities > europe > central & eastern europe > eastern europe > ukraine > crimea', 'sharethis > world localities > europe > central & eastern europe > eastern europe > ukraine > kiev', 'sharethis > world localities > europe > central & eastern europe > eastern europe > ukraine']\n",
      "['data owners > liligo > search routes > from ukraine to italy', 'data owners > liligo > search routes > from italy to albany - ukraine - spain']\n",
      "['international_eu - france browser language - russian (lotame)', 'international_eu - germany browser language - russian (lotame)', 'international_eu - italy browser language - russian (lotame)', 'international_eu - spain browser language - russian (lotame)', 'international_eu - united kingdom browser language - russian (lotame)']\n",
      "['geographic > ip based > country > europe > russian federation (bluekai)', 'branded data > affinity answers > sports > soccer > borussia moenchengladbach germany (bluekai)', 'branded data > affinity answers > sports > soccer > borussia dortmund germany (bluekai)']\n",
      "['zeotap > italy > interest > russian (app usage)', 'zeotap > spain > demographic > language: russian (publisher)']\n",
      "['europe > russia', 'europe > russia > kazan', 'europe > russia > krasnodar', 'europe > russia > moscow', 'europe > russia > nizhny novgorod', 'europe > russia > yekaterinburg']\n",
      "['xaxaustria_neg_covid (grapeshot)', 'xaxaustria_oebb_hdg_covid (grapeshot)']\n",
      "['plistapoland_neg_coronavirus_kwb (grapeshot)', 'plistasweden_neg_coronavirus_kwb (grapeshot)', 'xaxaustria_pr_corona_neg (grapeshot)', 'xaxaustria_corona_neg (grapeshot)']\n"
     ]
    }
   ],
   "source": [
    "\n",
    "for k,v in spicy_dict.items():\n",
    "    for k2, v2 in v.items():\n",
    "        v[k2] = sorted(v2)\n",
    "\n",
    "\n",
    "with open(\"spicy_words_eu.json\", \"w\") as f:\n",
    "    json.dump(spicy_dict, f, indent=4)"
   ]
  },
  {
   "cell_type": "code",
   "execution_count": 13,
   "metadata": {},
   "outputs": [],
   "source": [
    "spicy_dict_global = {word:{} for word in spicy_words}\n",
    "for index, row in df_orig.iterrows():\n",
    "    segname = row[\"name\"]\n",
    "    provider = row[\"provider_name\"]\n",
    "    res = re.findall(spicy_word_re, segname)\n",
    "    if res:\n",
    "        res = set(res)\n",
    "        for tag in res:\n",
    "            if provider in spicy_dict_global[tag]:\n",
    "                spicy_dict_global[tag][provider].append(segname)\n",
    "            else:\n",
    "                spicy_dict_global[tag][provider] = [segname]\n",
    "\n",
    "\n",
    "for k,v in spicy_dict_global.items():\n",
    "    for k2, v2 in v.items():\n",
    "        v[k2] = sorted(v2)\n",
    "    # spicy_dict[k] = sorted(v)\n",
    "\n",
    "\n",
    "with open(\"spicy_words_global.json\", \"w\") as f:\n",
    "    json.dump(spicy_dict_global, f, indent=4)"
   ]
  },
  {
   "cell_type": "code",
   "execution_count": 21,
   "metadata": {},
   "outputs": [],
   "source": [
    "countries = eu_countries[\"country\"].values\n",
    "codes = eu_countries[\"code\"].values\n",
    "ethnicities = eu_countries[\"ethnicity\"].values"
   ]
  },
  {
   "cell_type": "code",
   "execution_count": 23,
   "metadata": {},
   "outputs": [],
   "source": [
    "eu_counter = {country: [] for country in eu_countries[\"country\"]}\n",
    "\n",
    "for index, row in filtered_travel_words.iterrows():\n",
    "    for i, country in enumerate(countries):\n",
    "        segname = row[\"name\"]\n",
    "        \n",
    "        if country in segname or ethnicities[i] in segname or codes[i] in row[\"name_list\"]:\n",
    "            eu_counter[country].append(segname)"
   ]
  },
  {
   "cell_type": "code",
   "execution_count": 27,
   "metadata": {},
   "outputs": [
    {
     "name": "stdout",
     "output_type": "stream",
     "text": [
      "france 9088\n",
      "spain 8721\n",
      "germany 6380\n",
      "portugal 4640\n",
      "italy 3515\n",
      "netherlands 3395\n",
      "europe 2627\n",
      "sweden 1694\n",
      "denmark 1126\n",
      "austria 851\n",
      "malta 842\n",
      "finland 556\n",
      "greece 513\n",
      "poland 463\n",
      "croatia 419\n",
      "belgium 274\n",
      "ireland 163\n",
      "romania 152\n",
      "hungary 146\n",
      "czechia 82\n",
      "estonia 81\n",
      "slovakia 66\n",
      "bulgaria 53\n",
      "slovenia 47\n",
      "lithuania 35\n",
      "latvia 33\n",
      "cyprus 19\n",
      "luxembourg 18\n"
     ]
    }
   ],
   "source": [
    "counts = OrderedDict([(k, len(v)) for k,v in eu_counter.items()])\n",
    "for a, b in sorted(counts.items(), key= lambda x: x[1], reverse=True):\n",
    "    print(a, b)\n"
   ]
  },
  {
   "cell_type": "code",
   "execution_count": null,
   "metadata": {},
   "outputs": [],
   "source": []
  }
 ],
 "metadata": {
  "kernelspec": {
   "display_name": "Python 3",
   "language": "python",
   "name": "python3"
  },
  "language_info": {
   "codemirror_mode": {
    "name": "ipython",
    "version": 3
   },
   "file_extension": ".py",
   "mimetype": "text/x-python",
   "name": "python",
   "nbconvert_exporter": "python",
   "pygments_lexer": "ipython3",
   "version": "3.10.6"
  },
  "orig_nbformat": 4
 },
 "nbformat": 4,
 "nbformat_minor": 2
}
