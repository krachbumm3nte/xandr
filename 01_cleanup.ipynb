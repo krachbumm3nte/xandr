{
 "cells": [
  {
   "cell_type": "markdown",
   "metadata": {},
   "source": [
    "# Clean the original dataset and prepare it for further analyses"
   ]
  },
  {
   "cell_type": "code",
   "execution_count": 1,
   "metadata": {},
   "outputs": [],
   "source": [
    "import numpy as np\n",
    "import pandas as pd\n",
    "import re\n",
    "import utils\n",
    "import swifter # swifter makes pandas.DataFrame.apply() slightly faster and communicates the progress"
   ]
  },
  {
   "cell_type": "code",
   "execution_count": 2,
   "metadata": {},
   "outputs": [],
   "source": [
    "df_orig = pd.read_csv(\"xandr_segments.csv\", sep=\",\")  # load data\n",
    "# rename columns\n",
    "df_orig = df_orig.rename(columns={\"Segment Name\": \"name\",\n",
    "                                  \"Data Provider Name\": \"provider_name\",\n",
    "                                  \"Data Provider ID\": \"provider_id\",\n",
    "                                  \"Segment ID\": \"id\"})\n",
    "df_orig[\"name_list\"] = np.nan  # empty column for itemized segment name"
   ]
  },
  {
   "cell_type": "code",
   "execution_count": 3,
   "metadata": {},
   "outputs": [
    {
     "data": {
      "text/plain": [
       "provider_name\n",
       "Audiences by Oracle (BlueKai, Datalogix, AddThis)    132645\n",
       "LiveRamp Data Store                                   82363\n",
       "Grapeshot                                             73569\n",
       "Nielsen Marketing Cloud                               65610\n",
       "Eyeota                                                53526\n",
       "Factual Inc                                           29208\n",
       "Oracle Customs (1st, BlueKai, Datalogix, AddThis)     26288\n",
       "Adsquare (Data Provider)                              15246\n",
       "Dstillery                                             12630\n",
       "Skydeo, Inc.                                          11972\n",
       "Semcasting (Data Provider)                            10988\n",
       "OwnerIQ Inc.                                          10027\n",
       "Lotame                                                 9523\n",
       "Peer39                                                 7961\n",
       "Retargetly                                             7233\n",
       "AlikeAudience, Inc.                                    7075\n",
       "KBM Group                                              6765\n",
       "comScore Inc.                                          6451\n",
       "ZeoTap                                                 5367\n",
       "AdAdvisor by Neustar                                   4992\n",
       "Name: count, dtype: int64"
      ]
     },
     "execution_count": 3,
     "metadata": {},
     "output_type": "execute_result"
    }
   ],
   "source": [
    "# Providers by frequency\n",
    "df_orig[\"provider_name\"].value_counts()[:20]"
   ]
  },
  {
   "cell_type": "code",
   "execution_count": 4,
   "metadata": {},
   "outputs": [
    {
     "data": {
      "application/vnd.jupyter.widget-view+json": {
       "model_id": "0676ff6a7a8d4602a61e65d9685c8a37",
       "version_major": 2,
       "version_minor": 0
      },
      "text/plain": [
       "Pandas Apply:   0%|          | 0/651463 [00:00<?, ?it/s]"
      ]
     },
     "metadata": {},
     "output_type": "display_data"
    }
   ],
   "source": [
    "# Clean segement names (diactrics, stripping, capitalization)\n",
    "df_orig[\"name\"] = df_orig.swifter.apply(lambda row: utils.clean_segment_name(row[\"name\"]), axis = 1)"
   ]
  },
  {
   "cell_type": "code",
   "execution_count": 5,
   "metadata": {},
   "outputs": [
    {
     "data": {
      "application/vnd.jupyter.widget-view+json": {
       "model_id": "4f8bc3825e934a9a9ca1d672ff596ab1",
       "version_major": 2,
       "version_minor": 0
      },
      "text/plain": [
       "Pandas Apply:   0%|          | 0/651463 [00:00<?, ?it/s]"
      ]
     },
     "metadata": {},
     "output_type": "display_data"
    }
   ],
   "source": [
    "# Segments by a few brokers are multilingual which messes up all kinds of upcoming analyses. All of them follow the same scheme\n",
    "# and are simply chopped off at this stage.\n",
    "pruning_re = re.compile(r\"\\(en\\).+\\(es\\).+\\(pt\\)\")\n",
    "def prune_segname(row):\n",
    "    name = row[\"name\"]\n",
    "    if match := re.search(pruning_re, name):\n",
    "         row[\"name\"] = name[:match.start(0)].strip()\n",
    "    return row\n",
    "\n",
    "df_orig = df_orig.swifter.apply(prune_segname, axis=1)\n"
   ]
  },
  {
   "cell_type": "code",
   "execution_count": 6,
   "metadata": {},
   "outputs": [
    {
     "data": {
      "application/vnd.jupyter.widget-view+json": {
       "model_id": "05461e00ea3c4140a4ee5ff23a07c6a4",
       "version_major": 2,
       "version_minor": 0
      },
      "text/plain": [
       "Pandas Apply:   0%|          | 0/651463 [00:00<?, ?it/s]"
      ]
     },
     "metadata": {},
     "output_type": "display_data"
    }
   ],
   "source": [
    "# itemize all segment names\n",
    "df_orig[\"name_list\"] = df_orig.swifter.apply(lambda row: utils.itemize_segment_name(row[\"name\"]), axis = 1)\n",
    "df_orig = df_orig.set_index(\"id\")"
   ]
  },
  {
   "cell_type": "code",
   "execution_count": 7,
   "metadata": {},
   "outputs": [
    {
     "data": {
      "application/vnd.jupyter.widget-view+json": {
       "model_id": "374a11ce43684f0e9414dc813c25b703",
       "version_major": 2,
       "version_minor": 0
      },
      "text/plain": [
       "Pandas Apply:   0%|          | 0/651463 [00:00<?, ?it/s]"
      ]
     },
     "metadata": {},
     "output_type": "display_data"
    }
   ],
   "source": [
    "# remove segments without useful content\n",
    "useless_segment_indices = df_orig.swifter.apply(lambda x: bool(re.search(utils.useless_segments_re, x[\"name\"])), axis = 1)\n",
    "\n",
    "df_useless_segments = df_orig[useless_segment_indices].reset_index(drop=True)\n",
    "df_useless_segments.to_csv(\"xandr_segments_useless.csv\")\n",
    "\n",
    "df_filtered = df_orig[useless_segment_indices.__invert__()]\n",
    "df_filtered.to_csv('xandr_segments_itemized.csv')"
   ]
  },
  {
   "cell_type": "code",
   "execution_count": 8,
   "metadata": {},
   "outputs": [
    {
     "data": {
      "application/vnd.jupyter.widget-view+json": {
       "model_id": "0be3c7609cd1444fa878ac3e673292da",
       "version_major": 2,
       "version_minor": 0
      },
      "text/plain": [
       "Pandas Apply:   0%|          | 0/646024 [00:00<?, ?it/s]"
      ]
     },
     "metadata": {},
     "output_type": "display_data"
    }
   ],
   "source": [
    "# sanity check for segment names that were not itemized\n",
    "df_failed_itemization = df_filtered[df_filtered.swifter.apply(lambda x: len(x[\"name_list\"]) < 2, axis = 1)]\n",
    "df_failed_itemization = df_failed_itemization.reset_index(drop=True)\n",
    "df_failed_itemization.to_csv('xandr_segments_failed_itemization.csv')"
   ]
  }
 ],
 "metadata": {
  "kernelspec": {
   "display_name": "Python 3",
   "language": "python",
   "name": "python3"
  },
  "language_info": {
   "codemirror_mode": {
    "name": "ipython",
    "version": 3
   },
   "file_extension": ".py",
   "mimetype": "text/x-python",
   "name": "python",
   "nbconvert_exporter": "python",
   "pygments_lexer": "ipython3",
   "version": "3.10.12"
  },
  "orig_nbformat": 4
 },
 "nbformat": 4,
 "nbformat_minor": 2
}
