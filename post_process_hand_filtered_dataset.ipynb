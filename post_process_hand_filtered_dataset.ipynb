{
 "cells": [
  {
   "cell_type": "code",
   "execution_count": 92,
   "metadata": {},
   "outputs": [],
   "source": [
    "import pandas as pd\n",
    "import ast\n",
    "import os"
   ]
  },
  {
   "cell_type": "code",
   "execution_count": 93,
   "metadata": {},
   "outputs": [],
   "source": [
    "categories_key = {\n",
    "    1: \"Gewerkschaftszugehörigkeit\",\n",
    "    2: \"rassische und ethnische Herkunft\",\n",
    "    3: \"Gesundheitsdaten\",\n",
    "    4: \"Sexualleben/sexuelle Orientierung\",\n",
    "    5: \"religiöse oder weltanschauliche Überzeugungen\",\n",
    "    6: \"Kinder\",\n",
    "    7: \"Finanzstatus\",\n",
    "    8: \"persönliche Schwächen\",\n",
    "    9: \"politische Meinungen\",\n",
    "}"
   ]
  },
  {
   "cell_type": "code",
   "execution_count": 111,
   "metadata": {},
   "outputs": [],
   "source": [
    "df = pd.read_csv(\"sensitive_eu_segments_hand_filtered.csv\")\n",
    "\n",
    "# OPTIONAL: filter dataframe to only include sensitive data according to article 9 \n",
    "# df = df[df.apply(lambda x: x[\"main_category\"] not in (6,7,8), axis=1)]\n"
   ]
  },
  {
   "cell_type": "markdown",
   "metadata": {},
   "source": [
    "# Join hand-filtered segments with original dataset"
   ]
  },
  {
   "cell_type": "code",
   "execution_count": 112,
   "metadata": {},
   "outputs": [],
   "source": [
    "df_orig = pd.read_csv(\"xandr_segments.csv\")\n",
    "df_orig = df_orig.rename(columns={\"Segment Name\": \"segment_name\", \"Data Provider Name\": \"provider_name\",\"Data Provider ID\": \"provider_id\",\"Segment ID\" : \"id\"})\n",
    "df_orig = df_orig.set_index(\"id\")\n",
    "df = df.set_index(\"id\")"
   ]
  },
  {
   "cell_type": "code",
   "execution_count": 114,
   "metadata": {},
   "outputs": [],
   "source": [
    "df_full = pd.concat([df_orig, df], axis=1, join=\"inner\")\n",
    "df_full = df_full.rename(columns={\"name\": \"name_processed\", \"main_category\": \"category\", \"id\": \"segment_id\"})\n",
    "df_full = df_full.sort_values(by=[\"category\", \"country\", \"name_processed\"])\n",
    "\n",
    "cols = ['category', 'country', 'segment_name', 'hit',\n",
    "        'provider_name', 'provider_id', 'name_processed']\n",
    "df_full = df_full[cols]\n",
    "\n",
    "df_full.to_csv(\"sensitive_eu_segments_master.csv\")"
   ]
  },
  {
   "cell_type": "markdown",
   "metadata": {},
   "source": [
    "# Category frequency"
   ]
  },
  {
   "cell_type": "code",
   "execution_count": 115,
   "metadata": {},
   "outputs": [
    {
     "data": {
      "text/plain": [
       "category\n",
       "Finanzstatus                                     988\n",
       "Kinder                                           826\n",
       "politische Meinungen                              87\n",
       "Gesundheitsdaten                                  83\n",
       "religiöse oder weltanschauliche Überzeugungen     35\n",
       "Sexualleben/sexuelle Orientierung                 13\n",
       "persönliche Schwächen                             13\n",
       "Name: count, dtype: int64"
      ]
     },
     "execution_count": 115,
     "metadata": {},
     "output_type": "execute_result"
    }
   ],
   "source": [
    "df_full[\"category\"].value_counts()"
   ]
  },
  {
   "cell_type": "markdown",
   "metadata": {},
   "source": [
    "# Country frequency"
   ]
  },
  {
   "cell_type": "code",
   "execution_count": 116,
   "metadata": {},
   "outputs": [
    {
     "data": {
      "text/plain": [
       "country\n",
       "netherlands    377\n",
       "germany        359\n",
       "spain          337\n",
       "france         324\n",
       "sweden         187\n",
       "italy          150\n",
       "denmark        147\n",
       "finland        107\n",
       "belgium         12\n",
       "greece          10\n",
       "romania         10\n",
       "austria          8\n",
       "poland           7\n",
       "portugal         5\n",
       "croatia          2\n",
       "hungary          2\n",
       "slovakia         1\n",
       "Name: count, dtype: int64"
      ]
     },
     "execution_count": 116,
     "metadata": {},
     "output_type": "execute_result"
    }
   ],
   "source": [
    "df_full[\"country\"].value_counts()"
   ]
  },
  {
   "cell_type": "markdown",
   "metadata": {},
   "source": [
    "# Data provider frequency"
   ]
  },
  {
   "cell_type": "code",
   "execution_count": 117,
   "metadata": {},
   "outputs": [
    {
     "data": {
      "text/plain": [
       "provider_name\n",
       "Audiences by Oracle (BlueKai, Datalogix, AddThis)    438\n",
       "Eyeota                                               324\n",
       "GroupM NL - GH 6924                                  235\n",
       "ZeoTap                                               221\n",
       "Adsquare (Data Provider)                             202\n",
       "Grapeshot                                            145\n",
       "Lotame                                               124\n",
       "Greenhouse Group B.V.                                 78\n",
       "digitalAudience                                       70\n",
       "Nielsen Marketing Cloud                               64\n",
       "KBM Group                                             58\n",
       "Audiens S.R.L.                                        19\n",
       "Semasio GmbH (Data Provider)                          19\n",
       "The Weather Channel, LLC                               9\n",
       "The ADEX GmbH                                          8\n",
       "LiveRamp Data Store                                    7\n",
       "Tru Optik (CTV)                                        7\n",
       "Weborama SA (Data Provider)                            6\n",
       "Datmean (Data Provider)                                3\n",
       "Dstillery                                              2\n",
       "Epsilon Data Management, LLC.                          1\n",
       "Skydeo, Inc.                                           1\n",
       "Semcasting (Data Provider)                             1\n",
       "Oracle Customs (1st, BlueKai, Datalogix, AddThis)      1\n",
       "Digiseg                                                1\n",
       "Retargetly                                             1\n",
       "Name: count, dtype: int64"
      ]
     },
     "execution_count": 117,
     "metadata": {},
     "output_type": "execute_result"
    }
   ],
   "source": [
    "df_full.value_counts(\"provider_name\")"
   ]
  },
  {
   "cell_type": "code",
   "execution_count": 101,
   "metadata": {},
   "outputs": [],
   "source": [
    "dirname_country = \"eu_segments_by_country\"\n",
    "\n",
    "df_grouped_country = df_full.groupby(\"country\")\n",
    "\n",
    "for name, data in df_grouped_country.__iter__():\n",
    "    data.to_csv(os.path.join(dirname_country, f\"{name}.csv\"))"
   ]
  },
  {
   "cell_type": "code",
   "execution_count": 118,
   "metadata": {},
   "outputs": [],
   "source": [
    "dirname_broker = \"eu_segments_by_broker\"\n",
    "\n",
    "len_threshold = 10\n",
    "\n",
    "df_grouped_broker = df_full.groupby(\"provider_name\")\n",
    "\n",
    "df_other = pd.DataFrame(columns=df_full.columns)\n",
    "\n",
    "for name, data in df_grouped_broker.__iter__():\n",
    "    if len(data) < len_threshold:\n",
    "        df_other = pd.concat([df_other, data])\n",
    "    else:\n",
    "        name = name.replace(\",\", \"\").replace(\".\", \"\").replace(\" \", \"_\")\n",
    "        data[[\"provider_name\", \"provider_id\", \"segment_name\", \"country\"]].to_csv(os.path.join(dirname_broker, f\"{name}.csv\"))\n",
    "\n",
    "df_other.index = df_other.index.set_names(\"id\")\n",
    "df_other.to_csv(os.path.join(dirname_broker, \"other.csv\"))"
   ]
  },
  {
   "cell_type": "code",
   "execution_count": 109,
   "metadata": {},
   "outputs": [],
   "source": [
    "eu_countries = pd.read_json(\"eu_countries.json\")\n",
    "eu_countries = eu_countries.set_index(\"name\")\n",
    "eu_countries[\"hits\"] = 0\n",
    "eu_countries[\"segments\"] = \"\""
   ]
  },
  {
   "cell_type": "code",
   "execution_count": 150,
   "metadata": {},
   "outputs": [],
   "source": [
    "country_list = set(df[\"country\"].values)\n",
    "\n",
    "highlights = pd.read_csv(\"segments_for_map_highlighting.csv\")\n",
    "\n",
    "for category, data in df.groupby(\"category\").__iter__():\n",
    "    foo = eu_countries[[\"hits\", \"segments\"]].reset_index()\n",
    "    for i, v in data[\"country\"].value_counts().items():\n",
    "        foo.loc[foo[\"name\"] == i, \"hits\"] = v\n",
    "        foo.loc[foo[\"name\"] == i, \"segments\"] = \"\\n\".join(highlights[(highlights[\"category\"] == category) & (highlights[\"country\"] == i)][\"name\"].values)\n",
    "    category = category.replace(\"/\", \"_\").replace(\" \", \"_\")\n",
    "    foo.to_csv(os.path.join(\"datawrapper_files\", f\"{category}.csv\"))"
   ]
  },
  {
   "cell_type": "code",
   "execution_count": 103,
   "metadata": {},
   "outputs": [],
   "source": [
    "eu_countries.to_csv(\"categories_by_country.csv\")"
   ]
  }
 ],
 "metadata": {
  "kernelspec": {
   "display_name": ".venv",
   "language": "python",
   "name": "python3"
  },
  "language_info": {
   "codemirror_mode": {
    "name": "ipython",
    "version": 3
   },
   "file_extension": ".py",
   "mimetype": "text/x-python",
   "name": "python",
   "nbconvert_exporter": "python",
   "pygments_lexer": "ipython3",
   "version": "3.10.6"
  },
  "orig_nbformat": 4
 },
 "nbformat": 4,
 "nbformat_minor": 2
}
