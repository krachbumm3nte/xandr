{
 "cells": [
  {
   "cell_type": "code",
   "execution_count": 1,
   "metadata": {},
   "outputs": [],
   "source": [
    "import numpy as np\n",
    "import pandas as pd\n",
    "import csv, json\n",
    "import utils\n",
    "import re"
   ]
  },
  {
   "cell_type": "code",
   "execution_count": 25,
   "metadata": {},
   "outputs": [],
   "source": [
    "with open(\"databrokerswatch-03-07-2023.csv\") as f:\n",
    "    databrokers_df = pd.read_csv(f)\n",
    "databrokers_df[\"Domain\"] = databrokers_df[\"Domain\"].shift(-1)\n"
   ]
  },
  {
   "cell_type": "code",
   "execution_count": 26,
   "metadata": {},
   "outputs": [
    {
     "data": {
      "text/plain": [
       "Index(['Domain', 'Emails', 'Company Name', 'Privacy Policy URL',\n",
       "       'Credit Bureau', 'Phone Numbers', 'Address', 'Health',\n",
       "       'Company Legal Name', 'Company Domain', 'Company Domain Aliases',\n",
       "       'Company Url', 'Company Site Phone Numbers',\n",
       "       'Company Site Email Addresses', 'Company Category Sector',\n",
       "       'Company Category Industry Group', 'Company Category Industry',\n",
       "       'Company Category Sub Industry', 'Company Category Sic Code',\n",
       "       'Company Category Naics Code', 'Company Tags', 'Company Description',\n",
       "       'Company Founded Year', 'Company Location', 'Company Time Zone',\n",
       "       'Company Utc Offset', 'Company Geo Street Number',\n",
       "       'Company Geo Street Name', 'Company Geo Sub Premise',\n",
       "       'Company Geo City', 'Company Geo Postal Code', 'Company Geo State',\n",
       "       'Company Geo State Code', 'Company Geo Country',\n",
       "       'Company Geo Country Code', 'Company Geo Lat', 'Company Geo Lng',\n",
       "       'Company Logo', 'Company Facebook Handle', 'Company Linkedin Handle',\n",
       "       'Company Twitter Handle', 'Company Twitter Id', 'Company Twitter Bio',\n",
       "       'Company Twitter Followers', 'Company Twitter Following',\n",
       "       'Company Twitter Location', 'Company Twitter Site',\n",
       "       'Company Twitter Avatar', 'Company Crunchbase Handle', 'Company Type',\n",
       "       'Company Ticker', 'Company Identifiers Us Ein', 'Company Phone',\n",
       "       'Company Metrics Alexa Us Rank', 'Company Metrics Alexa Global Rank',\n",
       "       'Company Metrics Employees', 'Company Metrics Employees Range',\n",
       "       'Company Metrics Market Cap', 'Company Metrics Raised',\n",
       "       'Company Metrics Annual Revenue',\n",
       "       'Company Metrics Estimated Annual Revenue',\n",
       "       'Company Metrics Fiscal Year End', 'Company Tech',\n",
       "       'Company Parent Domain', 'YDR URL'],\n",
       "      dtype='object')"
      ]
     },
     "execution_count": 26,
     "metadata": {},
     "output_type": "execute_result"
    }
   ],
   "source": [
    "databrokers_df.columns"
   ]
  },
  {
   "cell_type": "code",
   "execution_count": 27,
   "metadata": {},
   "outputs": [
    {
     "data": {
      "text/plain": [
       "0       US\n",
       "1       US\n",
       "2       US\n",
       "3       US\n",
       "4       US\n",
       "      ... \n",
       "900    NaN\n",
       "901    NaN\n",
       "902    NaN\n",
       "903    NaN\n",
       "904    NaN\n",
       "Name: Company Geo Country Code, Length: 905, dtype: object"
      ]
     },
     "execution_count": 27,
     "metadata": {},
     "output_type": "execute_result"
    }
   ],
   "source": [
    "databrokers_df[\"Company Geo Country Code\"]"
   ]
  },
  {
   "cell_type": "code",
   "execution_count": 28,
   "metadata": {},
   "outputs": [],
   "source": [
    "eu_countries = utils.get_eu_names()\n",
    "eu_countries_set = set(eu_countries[:,0].flatten())\n",
    "\n",
    "eu_names_re = \"|\".join(eu_countries[:,0])\n",
    "eu_codes = set(eu_countries[:,1])"
   ]
  },
  {
   "cell_type": "code",
   "execution_count": 29,
   "metadata": {},
   "outputs": [],
   "source": [
    "def filter_brokers(row):\n",
    "    countrycode = row[\"Company Geo Country Code\"]\n",
    "    countryname = row[\"Company Geo Country\"]\n",
    "    comploc = row[\"Company Location\"]\n",
    "    if not type(countryname) == float and re.search(eu_names_re, countryname):\n",
    "        return True\n",
    "    if not type(comploc) == float and re.search(eu_names_re, comploc):\n",
    "        return True\n",
    "    if type(countrycode) == float:\n",
    "        return False\n",
    "    return True if countrycode in eu_codes else False\n",
    "\n",
    "\n",
    "eu_brokers = databrokers_df[databrokers_df.apply(filter_brokers, axis=1)]"
   ]
  },
  {
   "cell_type": "code",
   "execution_count": 30,
   "metadata": {},
   "outputs": [
    {
     "data": {
      "text/html": [
       "<div>\n",
       "<style scoped>\n",
       "    .dataframe tbody tr th:only-of-type {\n",
       "        vertical-align: middle;\n",
       "    }\n",
       "\n",
       "    .dataframe tbody tr th {\n",
       "        vertical-align: top;\n",
       "    }\n",
       "\n",
       "    .dataframe thead th {\n",
       "        text-align: right;\n",
       "    }\n",
       "</style>\n",
       "<table border=\"1\" class=\"dataframe\">\n",
       "  <thead>\n",
       "    <tr style=\"text-align: right;\">\n",
       "      <th></th>\n",
       "      <th>Company Name</th>\n",
       "      <th>Company Geo Country</th>\n",
       "      <th>Company Geo Country Code</th>\n",
       "      <th>Domain</th>\n",
       "      <th>Company Location</th>\n",
       "      <th>Company Url</th>\n",
       "    </tr>\n",
       "  </thead>\n",
       "  <tbody>\n",
       "    <tr>\n",
       "      <th>10</th>\n",
       "      <td>Accenture</td>\n",
       "      <td>Ireland</td>\n",
       "      <td>IE</td>\n",
       "      <td>accenture.com</td>\n",
       "      <td>1 Grand Canal Square, Dublin Docklands, Dublin...</td>\n",
       "      <td>NaN</td>\n",
       "    </tr>\n",
       "    <tr>\n",
       "      <th>41</th>\n",
       "      <td>Altisource</td>\n",
       "      <td>Luxembourg</td>\n",
       "      <td>LU</td>\n",
       "      <td>ameridex.com</td>\n",
       "      <td>Luxembourg</td>\n",
       "      <td>NaN</td>\n",
       "    </tr>\n",
       "    <tr>\n",
       "      <th>174</th>\n",
       "      <td>Criteo</td>\n",
       "      <td>France</td>\n",
       "      <td>FR</td>\n",
       "      <td>jail.com</td>\n",
       "      <td>32 Rue Blanche, 75009 Paris, France</td>\n",
       "      <td>NaN</td>\n",
       "    </tr>\n",
       "    <tr>\n",
       "      <th>331</th>\n",
       "      <td>HERE Technologies</td>\n",
       "      <td>Netherlands</td>\n",
       "      <td>NL</td>\n",
       "      <td>here.com</td>\n",
       "      <td>Kennedyplein 222, 5611 GL Eindhoven, Netherlands</td>\n",
       "      <td>NaN</td>\n",
       "    </tr>\n",
       "    <tr>\n",
       "      <th>578</th>\n",
       "      <td>SearchQuarry.com</td>\n",
       "      <td>Bulgaria</td>\n",
       "      <td>BG</td>\n",
       "      <td>searchquarry.com</td>\n",
       "      <td>Sofia, Bulgaria</td>\n",
       "      <td>NaN</td>\n",
       "    </tr>\n",
       "    <tr>\n",
       "      <th>612</th>\n",
       "      <td>PwC</td>\n",
       "      <td>Spain</td>\n",
       "      <td>ES</td>\n",
       "      <td>pwc.com</td>\n",
       "      <td>Paseo de la Castellana, 259B, 28029 Madrid, Spain</td>\n",
       "      <td>NaN</td>\n",
       "    </tr>\n",
       "    <tr>\n",
       "      <th>680</th>\n",
       "      <td>Semasio</td>\n",
       "      <td>Germany</td>\n",
       "      <td>DE</td>\n",
       "      <td>semasio.com</td>\n",
       "      <td>Eppendorfer Weg 285, 20251 Hamburg, Germany</td>\n",
       "      <td>NaN</td>\n",
       "    </tr>\n",
       "    <tr>\n",
       "      <th>684</th>\n",
       "      <td>PwC</td>\n",
       "      <td>Spain</td>\n",
       "      <td>ES</td>\n",
       "      <td>signalframe.com</td>\n",
       "      <td>Paseo de la Castellana, 259B, 28029 Madrid, Spain</td>\n",
       "      <td>NaN</td>\n",
       "    </tr>\n",
       "    <tr>\n",
       "      <th>689</th>\n",
       "      <td>Sirdata</td>\n",
       "      <td>France</td>\n",
       "      <td>FR</td>\n",
       "      <td>sirdata.com</td>\n",
       "      <td>20 Rue Saint-Fiacre, 75002 Paris, France</td>\n",
       "      <td>NaN</td>\n",
       "    </tr>\n",
       "    <tr>\n",
       "      <th>808</th>\n",
       "      <td>yasni</td>\n",
       "      <td>Germany</td>\n",
       "      <td>DE</td>\n",
       "      <td>yasni.com</td>\n",
       "      <td>Lyoner Str. 14, 60528 Frankfurt am Main, Germany</td>\n",
       "      <td>NaN</td>\n",
       "    </tr>\n",
       "    <tr>\n",
       "      <th>812</th>\n",
       "      <td>Zeotap</td>\n",
       "      <td>Germany</td>\n",
       "      <td>DE</td>\n",
       "      <td>zeotap.com</td>\n",
       "      <td>Rosenstraße 18, 10178 Berlin, Germany</td>\n",
       "      <td>NaN</td>\n",
       "    </tr>\n",
       "  </tbody>\n",
       "</table>\n",
       "</div>"
      ],
      "text/plain": [
       "          Company Name Company Geo Country Company Geo Country Code  \\\n",
       "10           Accenture             Ireland                       IE   \n",
       "41          Altisource          Luxembourg                       LU   \n",
       "174             Criteo              France                       FR   \n",
       "331  HERE Technologies         Netherlands                       NL   \n",
       "578   SearchQuarry.com            Bulgaria                       BG   \n",
       "612                PwC               Spain                       ES   \n",
       "680            Semasio             Germany                       DE   \n",
       "684                PwC               Spain                       ES   \n",
       "689            Sirdata              France                       FR   \n",
       "808              yasni             Germany                       DE   \n",
       "812             Zeotap             Germany                       DE   \n",
       "\n",
       "               Domain                                   Company Location  \\\n",
       "10      accenture.com  1 Grand Canal Square, Dublin Docklands, Dublin...   \n",
       "41       ameridex.com                                         Luxembourg   \n",
       "174          jail.com                32 Rue Blanche, 75009 Paris, France   \n",
       "331          here.com   Kennedyplein 222, 5611 GL Eindhoven, Netherlands   \n",
       "578  searchquarry.com                                    Sofia, Bulgaria   \n",
       "612           pwc.com  Paseo de la Castellana, 259B, 28029 Madrid, Spain   \n",
       "680       semasio.com        Eppendorfer Weg 285, 20251 Hamburg, Germany   \n",
       "684   signalframe.com  Paseo de la Castellana, 259B, 28029 Madrid, Spain   \n",
       "689       sirdata.com           20 Rue Saint-Fiacre, 75002 Paris, France   \n",
       "808         yasni.com   Lyoner Str. 14, 60528 Frankfurt am Main, Germany   \n",
       "812        zeotap.com              Rosenstraße 18, 10178 Berlin, Germany   \n",
       "\n",
       "    Company Url  \n",
       "10          NaN  \n",
       "41          NaN  \n",
       "174         NaN  \n",
       "331         NaN  \n",
       "578         NaN  \n",
       "612         NaN  \n",
       "680         NaN  \n",
       "684         NaN  \n",
       "689         NaN  \n",
       "808         NaN  \n",
       "812         NaN  "
      ]
     },
     "execution_count": 30,
     "metadata": {},
     "output_type": "execute_result"
    }
   ],
   "source": [
    "eu_brokers[[\"Company Name\", \"Company Geo Country\", \"Company Geo Country Code\", 'Domain', 'Company Location', \"Company Url\"]]"
   ]
  },
  {
   "cell_type": "code",
   "execution_count": 14,
   "metadata": {},
   "outputs": [
    {
     "data": {
      "text/plain": [
       "0          33 Mile Radius\n",
       "1            Media Direct\n",
       "2                     NaN\n",
       "3           411locate.com\n",
       "4              Mediaocean\n",
       "              ...        \n",
       "900       RevenueBase Inc\n",
       "901    Redbird Direct LLC\n",
       "902                  None\n",
       "903                  None\n",
       "904                  None\n",
       "Name: Company Name, Length: 905, dtype: object"
      ]
     },
     "execution_count": 14,
     "metadata": {},
     "output_type": "execute_result"
    }
   ],
   "source": [
    "databrokers_df[\"Company Name\"].shift(-1)"
   ]
  },
  {
   "cell_type": "code",
   "execution_count": null,
   "metadata": {},
   "outputs": [],
   "source": []
  }
 ],
 "metadata": {
  "kernelspec": {
   "display_name": ".venv",
   "language": "python",
   "name": "python3"
  },
  "language_info": {
   "codemirror_mode": {
    "name": "ipython",
    "version": 3
   },
   "file_extension": ".py",
   "mimetype": "text/x-python",
   "name": "python",
   "nbconvert_exporter": "python",
   "pygments_lexer": "ipython3",
   "version": "3.10.6"
  },
  "orig_nbformat": 4
 },
 "nbformat": 4,
 "nbformat_minor": 2
}
