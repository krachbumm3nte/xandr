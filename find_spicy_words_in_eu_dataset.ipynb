{
 "cells": [
  {
   "cell_type": "code",
   "execution_count": 4,
   "metadata": {},
   "outputs": [],
   "source": [
    "import csv\n",
    "import json\n",
    "import numpy as np\n",
    "import pandas as pd\n",
    "import re\n",
    "import utils\n",
    "from collections import OrderedDict, Counter\n",
    "import ast\n",
    "import swifter\n",
    "from spicy_words import *"
   ]
  },
  {
   "cell_type": "code",
   "execution_count": 5,
   "metadata": {},
   "outputs": [],
   "source": [
    "df_eu = pd.read_csv(\"filtered_eu.csv\") # load data\n",
    "df_eu[\"name_list\"] = df_eu[\"name_list\"].apply(ast.literal_eval)"
   ]
  },
  {
   "cell_type": "code",
   "execution_count": 7,
   "metadata": {},
   "outputs": [
    {
     "name": "stdout",
     "output_type": "stream",
     "text": [
      "spicy_words_segmented/financial.json\n",
      "spicy_words_segmented/personality.json\n",
      "spicy_words_segmented/health.json\n",
      "spicy_words_segmented/sex.json\n",
      "spicy_words_segmented/latent_racism.json\n",
      "spicy_words_segmented/religion.json\n",
      "spicy_words_segmented/political.json\n"
     ]
    }
   ],
   "source": [
    "\n",
    "names = [\n",
    "    'financial',\n",
    "    'personality',\n",
    "    'health',\n",
    "    'sex',\n",
    "    'latent_racism',\n",
    "    'religion',\n",
    "    'political'\n",
    "]\n",
    "\n",
    "for i, word_list in enumerate([financial, personality, health, sex, latent_racism, religion, political]):\n",
    "    spicy_re = utils.list_to_regex(word_list)\n",
    "\n",
    "    spicy_dict = {word: [] for word in word_list}\n",
    "\n",
    "    for index, row in df_eu.iterrows():\n",
    "        for word in word_list:\n",
    "            segname = row[\"name\"]\n",
    "            provider = row[\"provider_name\"]\n",
    "            if res := re.search(word.replace(\" \", utils.word_separator), segname):\n",
    "                spicy_dict[word].append(segname)\n",
    "\n",
    "    filename = f\"spicy_words_segmented/{names[i]}.json\"\n",
    "    with open(filename, \"w\") as f:\n",
    "        json.dump(spicy_dict, f, indent=4)\n",
    "    print(filename)"
   ]
  },
  {
   "cell_type": "code",
   "execution_count": null,
   "metadata": {},
   "outputs": [],
   "source": []
  },
  {
   "cell_type": "code",
   "execution_count": null,
   "metadata": {},
   "outputs": [],
   "source": []
  }
 ],
 "metadata": {
  "kernelspec": {
   "display_name": ".venv",
   "language": "python",
   "name": "python3"
  },
  "language_info": {
   "codemirror_mode": {
    "name": "ipython",
    "version": 3
   },
   "file_extension": ".py",
   "mimetype": "text/x-python",
   "name": "python",
   "nbconvert_exporter": "python",
   "pygments_lexer": "ipython3",
   "version": "3.10.6"
  },
  "orig_nbformat": 4
 },
 "nbformat": 4,
 "nbformat_minor": 2
}
