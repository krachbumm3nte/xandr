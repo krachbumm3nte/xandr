{
 "cells": [
  {
   "cell_type": "code",
   "execution_count": 1,
   "metadata": {},
   "outputs": [],
   "source": [
    "import numpy as np\n",
    "import pandas as pd\n",
    "import re\n",
    "import utils\n",
    "import ast\n",
    "import swifter"
   ]
  },
  {
   "cell_type": "code",
   "execution_count": 2,
   "metadata": {},
   "outputs": [
    {
     "data": {
      "application/vnd.jupyter.widget-view+json": {
       "model_id": "bc4dd44e1a1d424b8c667d9851a26192",
       "version_major": 2,
       "version_minor": 0
      },
      "text/plain": [
       "Pandas Apply:   0%|          | 0/646024 [00:00<?, ?it/s]"
      ]
     },
     "metadata": {},
     "output_type": "display_data"
    }
   ],
   "source": [
    "df_itemized = pd.read_csv(\"xandr_segments_itemized.csv\") # load data\n",
    "df_itemized[\"name_list\"] = df_itemized[\"name_list\"].swifter.apply(ast.literal_eval) # csv is not the right format for storing lists, but well... this works\n",
    "df_itemized = df_itemized.set_index(\"id\")"
   ]
  },
  {
   "cell_type": "code",
   "execution_count": 3,
   "metadata": {},
   "outputs": [
    {
     "data": {
      "application/vnd.jupyter.widget-view+json": {
       "model_id": "f71f735e603d44bd9060ee9f6063e3e8",
       "version_major": 2,
       "version_minor": 0
      },
      "text/plain": [
       "Pandas Apply:   0%|          | 0/28 [00:00<?, ?it/s]"
      ]
     },
     "metadata": {},
     "output_type": "display_data"
    }
   ],
   "source": [
    "eu_countries = pd.read_json(\"eu_countries.json\") # load and prepare eu countries\n",
    "\n",
    "eu_countries[\"names_re\"] = eu_countries.swifter.apply(lambda row: utils.list_to_regex(np.concatenate(row[[\"strings\", \"identifiers\"]].values.flatten())), axis=1)\n",
    "eu_names_re = utils.list_to_regex(np.concatenate(eu_countries[[\"strings\", \"identifiers\"]].values.flatten()))\n",
    "eu_codes = set(np.concatenate(eu_countries[\"codes\"].values.flatten()))"
   ]
  },
  {
   "cell_type": "code",
   "execution_count": 4,
   "metadata": {},
   "outputs": [
    {
     "data": {
      "application/vnd.jupyter.widget-view+json": {
       "model_id": "103ac8b84d834ce3b524ad5794a13b88",
       "version_major": 2,
       "version_minor": 0
      },
      "text/plain": [
       "Pandas Apply:   0%|          | 0/646024 [00:00<?, ?it/s]"
      ]
     },
     "metadata": {},
     "output_type": "display_data"
    }
   ],
   "source": [
    "travel_word_list = [\"travel\", \"departure\", \"destination\",\n",
    "                    \"tourism\", \"tourist\", \"vacation\", \"holiday\", \"voyage\", \"expedia\"]\n",
    "\n",
    "eu_false_positives = [r\"(furniture|nail) ?polish\",  # country FPs\n",
    "                      r\"irish ?(whiskey|cream)\",\n",
    "                      r\"speak(er|ing)\",\n",
    "                      # \"language\",\n",
    "                      # \"hispanic\",\n",
    "                      r\"tour de france\",\n",
    "                      r\"greek joghurt\",\n",
    "\n",
    "                      # Country code FPs\n",
    "                      r\"accuen\",  # does market research and very little location-specifics. Thus many FPs\n",
    "                      r\"xaxisca\",  # canadian source\n",
    "                      r\"xaxisapc\",  # asia pacific source\n",
    "                      r\"tailtarget\",  # mostly latAm focussed -> numerous es/pt FPs\n",
    "                      ]\n",
    "\n",
    "false_positive_re = utils.list_to_regex(travel_word_list + eu_false_positives)\n",
    "filtered_false_positives = df_itemized[df_itemized.swifter.apply(\n",
    "    lambda x: not re.search(false_positive_re, x[\"name\"]), axis=1)]"
   ]
  },
  {
   "cell_type": "code",
   "execution_count": 5,
   "metadata": {},
   "outputs": [
    {
     "data": {
      "application/vnd.jupyter.widget-view+json": {
       "model_id": "015e653a5a8c4fd1b3e3a06e69f2c90e",
       "version_major": 2,
       "version_minor": 0
      },
      "text/plain": [
       "Pandas Apply:   0%|          | 0/612022 [00:00<?, ?it/s]"
      ]
     },
     "metadata": {},
     "output_type": "display_data"
    }
   ],
   "source": [
    "def filter_eu_names(row):\n",
    "    # does the full country name occur anywhere or does a countrycode match an item exactly?\n",
    "    return bool(re.search(eu_names_re, row[\"name\"]) or len(eu_codes.intersection(row[\"name_list\"])))\n",
    "\n",
    "\n",
    "names_re_list = eu_countries[\"names_re\"].values\n",
    "codes_set_list = eu_countries[\"codes\"].apply(lambda x: set(x)).values\n",
    "country_names = eu_countries[\"name\"].values\n",
    "\n",
    "def identify_eu_references(row):\n",
    "    \"\"\"Takes a row of a dataframe and checks for references to eu-countries. Countries are added to the column \"name_list\".\n",
    "\n",
    "    Arguments:\n",
    "        row -- pandas.Series containing the row of a dataframe\n",
    "\n",
    "    Returns:\n",
    "        modified row\n",
    "    \"\"\"\n",
    "    name = row[\"name\"]\n",
    "    country_hits = []\n",
    "    for i, names_re in enumerate(names_re_list):\n",
    "         \n",
    "        if re.search(names_re, name) or len(codes_set_list[i].intersection(row[\"name_list\"])):\n",
    "            country_hits.append(country_names[i])\n",
    "    \n",
    "    row[\"countries\"] = country_hits\n",
    "    return row\n",
    "\n",
    "\n",
    "filtered_false_positives = filtered_false_positives.swifter.apply(identify_eu_references, axis=1)"
   ]
  },
  {
   "cell_type": "code",
   "execution_count": 6,
   "metadata": {},
   "outputs": [
    {
     "data": {
      "application/vnd.jupyter.widget-view+json": {
       "model_id": "48c24ab0c4434ea49f4bc8ba40d0bc91",
       "version_major": 2,
       "version_minor": 0
      },
      "text/plain": [
       "Pandas Apply:   0%|          | 0/612022 [00:00<?, ?it/s]"
      ]
     },
     "metadata": {},
     "output_type": "display_data"
    }
   ],
   "source": [
    "df_eu_reference = filtered_false_positives[filtered_false_positives.swifter.apply(lambda x: len(x[\"countries\"])>0, axis=1)]"
   ]
  },
  {
   "cell_type": "code",
   "execution_count": 7,
   "metadata": {},
   "outputs": [],
   "source": [
    "df_eu_reference.to_csv(\"xandr_segments_eu.csv\")"
   ]
  },
  {
   "cell_type": "markdown",
   "metadata": {},
   "source": [
    "# Perform the same analysis for the USA"
   ]
  },
  {
   "cell_type": "code",
   "execution_count": 8,
   "metadata": {},
   "outputs": [
    {
     "data": {
      "application/vnd.jupyter.widget-view+json": {
       "model_id": "1efe73a0504d48f4b7e0a884a32f8219",
       "version_major": 2,
       "version_minor": 0
      },
      "text/plain": [
       "Pandas Apply:   0%|          | 0/612022 [00:00<?, ?it/s]"
      ]
     },
     "metadata": {},
     "output_type": "display_data"
    }
   ],
   "source": [
    "us_codes = {\"us\", \"usa\"}\n",
    "\n",
    "us_regex = utils.list_to_regex([\"united states\", \"america\", \"xaxisus\"])\n",
    "\n",
    "def filter_us_reference(row):\n",
    "    # does the full country name occur anywhere or does a countrycode match an item exactly?\n",
    "    return bool(re.search(us_regex, row[\"name\"]) or len(us_codes.intersection(row[\"name_list\"])))\n",
    "\n",
    "\n",
    "df_us_reference = filtered_false_positives[filtered_false_positives.swifter.apply(filter_us_reference, axis=1)]\n"
   ]
  },
  {
   "cell_type": "code",
   "execution_count": 9,
   "metadata": {},
   "outputs": [],
   "source": [
    "df_us_reference.to_csv(\"xandr_segments_us.csv\")"
   ]
  }
 ],
 "metadata": {
  "kernelspec": {
   "display_name": "Python 3",
   "language": "python",
   "name": "python3"
  },
  "language_info": {
   "codemirror_mode": {
    "name": "ipython",
    "version": 3
   },
   "file_extension": ".py",
   "mimetype": "text/x-python",
   "name": "python",
   "nbconvert_exporter": "python",
   "pygments_lexer": "ipython3",
   "version": "3.10.12"
  },
  "orig_nbformat": 4
 },
 "nbformat": 4,
 "nbformat_minor": 2
}
