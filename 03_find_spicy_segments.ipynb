{
 "cells": [
  {
   "cell_type": "code",
   "execution_count": 4,
   "metadata": {},
   "outputs": [],
   "source": [
    "import pandas as pd\n",
    "import re\n",
    "import utils\n",
    "import ast\n",
    "import swifter\n",
    "import json\n",
    "from spicy_words import *"
   ]
  },
  {
   "cell_type": "code",
   "execution_count": 5,
   "metadata": {},
   "outputs": [],
   "source": [
    "df_eu = pd.read_csv(\"xandr_segments_eu.csv\") # load data\n",
    "df_eu[\"name_list\"] = df_eu[\"name_list\"].apply(ast.literal_eval)"
   ]
  },
  {
   "cell_type": "code",
   "execution_count": 7,
   "metadata": {},
   "outputs": [
    {
     "name": "stdout",
     "output_type": "stream",
     "text": [
      "spicy_words_segmented/financial.json\n",
      "spicy_words_segmented/personality.json\n",
      "spicy_words_segmented/health.json\n",
      "spicy_words_segmented/sexuality.json\n",
      "spicy_words_segmented/race.json\n",
      "spicy_words_segmented/religion.json\n",
      "spicy_words_segmented/political.json\n"
     ]
    },
    {
     "ename": "type",
     "evalue": "name 'family' is not defined",
     "output_type": "error",
     "traceback": [
      "\u001b[0;31m---------------------------------------------------------------------------\u001b[0m",
      "\u001b[0;31mNameError\u001b[0m                                 Traceback (most recent call last)",
      "Cell \u001b[0;32mIn[7], line 13\u001b[0m\n\u001b[1;32m      1\u001b[0m names \u001b[39m=\u001b[39m [\n\u001b[1;32m      2\u001b[0m     \u001b[39m'\u001b[39m\u001b[39mfinancial\u001b[39m\u001b[39m'\u001b[39m,\n\u001b[1;32m      3\u001b[0m     \u001b[39m'\u001b[39m\u001b[39mpersonality\u001b[39m\u001b[39m'\u001b[39m,\n\u001b[0;32m   (...)\u001b[0m\n\u001b[1;32m      9\u001b[0m     \u001b[39m'\u001b[39m\u001b[39mfamily\u001b[39m\u001b[39m'\u001b[39m\n\u001b[1;32m     10\u001b[0m ]\n\u001b[1;32m     12\u001b[0m \u001b[39mfor\u001b[39;00m name \u001b[39min\u001b[39;00m names:\n\u001b[0;32m---> 13\u001b[0m     word_list \u001b[39m=\u001b[39m \u001b[39meval\u001b[39;49m(name)   \n\u001b[1;32m     15\u001b[0m     spicy_re \u001b[39m=\u001b[39m utils\u001b[39m.\u001b[39mlist_to_regex(word_list)\n\u001b[1;32m     17\u001b[0m     spicy_dict \u001b[39m=\u001b[39m {word: [] \u001b[39mfor\u001b[39;00m word \u001b[39min\u001b[39;00m word_list}\n",
      "File \u001b[0;32m<string>:1\u001b[0m\n",
      "\u001b[0;31mNameError\u001b[0m: name 'family' is not defined"
     ]
    }
   ],
   "source": [
    "\n",
    "names = [\n",
    "    'financial',\n",
    "    'personality',\n",
    "    'health',\n",
    "    'sexuality',\n",
    "    'race',\n",
    "    'religion',\n",
    "    'political',\n",
    "    'children'\n",
    "]\n",
    "\n",
    "for name in names:\n",
    "    word_list = eval(name)   \n",
    "   \n",
    "    spicy_re = utils.list_to_regex(word_list)\n",
    "\n",
    "    spicy_dict = {word: [] for word in word_list}\n",
    "\n",
    "    for index, row in df_eu.iterrows():\n",
    "        for word in word_list:\n",
    "            segname = row[\"name\"]\n",
    "            provider = row[\"provider_name\"]\n",
    "            if res := re.search(word.replace(\" \", utils.word_separator), segname):\n",
    "                spicy_dict[word].append(segname)\n",
    "\n",
    "    filename = f\"spicy_words_segmented/{name}.json\"\n",
    "    with open(filename, \"w\") as f:\n",
    "        json.dump(spicy_dict, f, indent=4)\n",
    "    print(filename)"
   ]
  }
 ],
 "metadata": {
  "kernelspec": {
   "display_name": ".venv",
   "language": "python",
   "name": "python3"
  },
  "language_info": {
   "codemirror_mode": {
    "name": "ipython",
    "version": 3
   },
   "file_extension": ".py",
   "mimetype": "text/x-python",
   "name": "python",
   "nbconvert_exporter": "python",
   "pygments_lexer": "ipython3",
   "version": "3.10.12"
  },
  "orig_nbformat": 4
 },
 "nbformat": 4,
 "nbformat_minor": 2
}
