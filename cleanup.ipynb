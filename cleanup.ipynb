{
 "cells": [
  {
   "cell_type": "code",
   "execution_count": 11,
   "metadata": {},
   "outputs": [],
   "source": [
    "import csv\n",
    "import json\n",
    "import numpy as np\n",
    "import pandas as pd\n",
    "import re\n",
    "import utils\n",
    "from collections import Counter\n",
    "import swifter\n"
   ]
  },
  {
   "cell_type": "code",
   "execution_count": 18,
   "metadata": {},
   "outputs": [],
   "source": [
    "df_orig = pd.read_csv(\"xandr_segments.csv\", sep=\",\") # load data\n",
    "# rename columns\n",
    "df_orig = df_orig.rename(columns={\"Segment Name\": \"name\", \"Data Provider Name\": \"provider_name\",\"Data Provider ID\": \"provider_id\",\"Segment ID\" : \"id\"})\n",
    "df_orig[\"name_list\"] = np.nan # introduce empty column for itemized segment name\n",
    "df_orig[\"data_source\"] = np.nan # data source in brackets at the end of a segment name"
   ]
  },
  {
   "cell_type": "code",
   "execution_count": 19,
   "metadata": {},
   "outputs": [],
   "source": [
    "provider_ids = df_orig[\"provider_id\"].unique()\n",
    "provider_names = df_orig[\"provider_name\"].unique()"
   ]
  },
  {
   "cell_type": "code",
   "execution_count": 20,
   "metadata": {},
   "outputs": [
    {
     "data": {
      "text/plain": [
       "[('Audiences by Oracle (BlueKai, Datalogix, AddThis)', 132645),\n",
       " ('LiveRamp Data Store', 82363),\n",
       " ('Grapeshot', 73569),\n",
       " ('Nielsen Marketing Cloud', 65610),\n",
       " ('Eyeota', 53526),\n",
       " ('Factual Inc', 29208),\n",
       " ('Oracle Customs (1st, BlueKai, Datalogix, AddThis)', 26288),\n",
       " ('Adsquare (Data Provider)', 15246),\n",
       " ('Dstillery', 12630),\n",
       " ('Skydeo, Inc.', 11972),\n",
       " ('Semcasting (Data Provider)', 10988),\n",
       " ('OwnerIQ Inc.', 10027),\n",
       " ('Lotame', 9523),\n",
       " ('Peer39', 7961),\n",
       " ('Retargetly', 7233),\n",
       " ('AlikeAudience, Inc.', 7075),\n",
       " ('KBM Group', 6765),\n",
       " ('comScore Inc.', 6451),\n",
       " ('ZeoTap', 5367),\n",
       " ('AdAdvisor by Neustar', 4992),\n",
       " ('Bombora Inc.', 4882),\n",
       " ('Tru Optik (CTV)', 4127),\n",
       " ('Epsilon Data Management, LLC.', 3812),\n",
       " ('HYP PTY LTD', 3661),\n",
       " ('ShareThis Inc.', 3454),\n",
       " ('VisualDNA', 2988),\n",
       " ('Tail Target (Data Provider)', 2966),\n",
       " ('Acxiom', 2886),\n",
       " ('Adstra, LLC', 2882),\n",
       " ('Xandr', 2706),\n",
       " ('Accordant Media LLC', 2683),\n",
       " ('The ADEX GmbH', 2628),\n",
       " ('Navegg', 2492),\n",
       " ('ALLIANCE GRAVITY DATA MEDIA', 2437),\n",
       " ('Orange Private Data Marketplace', 2215),\n",
       " ('Skimlinks, Inc.', 2169),\n",
       " ('Cross Pixel Media', 1813),\n",
       " ('GroupM NL - GH 6924', 1663),\n",
       " ('DoubleVerify', 1610),\n",
       " ('Datonics', 1604),\n",
       " ('Sirdata SAS', 1482),\n",
       " ('Semasio GmbH (Data Provider)', 1396),\n",
       " ('Audiens S.R.L.', 1325),\n",
       " ('Roq.ad GmbH', 1279),\n",
       " ('PlaceIQ Inc.', 1230),\n",
       " ('Integral Ad Science - Display', 995),\n",
       " ('Crossix', 813),\n",
       " ('The Weather Channel, LLC', 797),\n",
       " ('digitalAudience', 762),\n",
       " ('Emetriq GmbH', 692)]"
      ]
     },
     "execution_count": 20,
     "metadata": {},
     "output_type": "execute_result"
    }
   ],
   "source": [
    "Counter(df_orig[\"provider_name\"]).most_common(50)"
   ]
  },
  {
   "cell_type": "code",
   "execution_count": 21,
   "metadata": {},
   "outputs": [],
   "source": [
    "utils.df_apply_function(df_orig, \"name\", utils.clean_segment_name) # clean all segment names"
   ]
  },
  {
   "cell_type": "code",
   "execution_count": 22,
   "metadata": {},
   "outputs": [
    {
     "data": {
      "application/vnd.jupyter.widget-view+json": {
       "model_id": "10019ff3b2494695ba29a22c236f8325",
       "version_major": 2,
       "version_minor": 0
      },
      "text/plain": [
       "Pandas Apply:   0%|          | 0/651463 [00:00<?, ?it/s]"
      ]
     },
     "metadata": {},
     "output_type": "display_data"
    },
    {
     "data": {
      "application/vnd.jupyter.widget-view+json": {
       "model_id": "417a560f7a42443e833e2254eeff5112",
       "version_major": 2,
       "version_minor": 0
      },
      "text/plain": [
       "Pandas Apply:   0%|          | 0/651463 [00:00<?, ?it/s]"
      ]
     },
     "metadata": {},
     "output_type": "display_data"
    }
   ],
   "source": [
    "# itemize all segment names\n",
    "\n",
    "data_source_re = re.compile(r\"\\([\\w ]{3,25}\\)$\")\n",
    "\n",
    "df_failed_segmentation = pd.DataFrame(columns=df_orig.columns)\n",
    "\n",
    "def extract_data_source(row):\n",
    "    name = row[\"name\"]\n",
    "    if data_source_match := re.search(data_source_re, name): # search for a data source at the end of the segment name\n",
    "            row[\"data_source\"] = data_source_match.group(0)[1:-1] # enter the data source into the corrseponding column (without brackets)\n",
    "            row[\"name\"] = name[:data_source_match.start(0)] # crop the existing segment name\n",
    "    \n",
    "    return row\n",
    "\n",
    "df_orig = df_orig.swifter.apply(extract_data_source, axis=1)\n",
    "\n",
    "\n",
    "pruning_re = re.compile(r\"\\(en\\).+\\(es\\).+\\(pt\\)\")\n",
    "def prune_segname(row):\n",
    "    name = row[\"name\"]\n",
    "    if match := re.search(pruning_re, name):\n",
    "         row[\"name\"] = name[:match.start(0)]\n",
    "    return row\n",
    "\n",
    "\n",
    "df_orig = df_orig.swifter.apply(prune_segname, axis=1)\n"
   ]
  },
  {
   "cell_type": "code",
   "execution_count": 23,
   "metadata": {},
   "outputs": [
    {
     "data": {
      "application/vnd.jupyter.widget-view+json": {
       "model_id": "1092fd325d5e4760a85324112296ee23",
       "version_major": 2,
       "version_minor": 0
      },
      "text/plain": [
       "Pandas Apply:   0%|          | 0/651463 [00:00<?, ?it/s]"
      ]
     },
     "metadata": {},
     "output_type": "display_data"
    }
   ],
   "source": [
    "df_orig[\"name_list\"] = df_orig.swifter.apply(lambda row: utils.itemize_segment_name(row[\"name\"]), axis = 1)"
   ]
  },
  {
   "cell_type": "code",
   "execution_count": 24,
   "metadata": {},
   "outputs": [],
   "source": [
    "utils.useless_segments_re = re.compile(r\"\\[null\\]|\\Atest|[^a-z]+test\\Z| test |automation\\d{5,10}\")\n"
   ]
  },
  {
   "cell_type": "code",
   "execution_count": 25,
   "metadata": {},
   "outputs": [
    {
     "data": {
      "application/vnd.jupyter.widget-view+json": {
       "model_id": "f1c2663dc79c4cc79c10212b40490a92",
       "version_major": 2,
       "version_minor": 0
      },
      "text/plain": [
       "Pandas Apply:   0%|          | 0/651463 [00:00<?, ?it/s]"
      ]
     },
     "metadata": {},
     "output_type": "display_data"
    }
   ],
   "source": [
    "useless_segment_indices = df_orig.swifter.apply(lambda x: bool(re.search(utils.useless_segments_re, x[\"name\"])), axis = 1)\n",
    "\n",
    "df_useless_segments = df_orig[useless_segment_indices].reset_index(drop=True)\n",
    "df_useless_segments.to_csv(\"useless_segments.csv\")\n",
    "\n",
    "df_filtered = df_orig[useless_segment_indices.__invert__()]\n",
    "df_filtered.to_csv('xandr_segments_itemized.csv')\n",
    "df_filtered.to_json('xandr_segments_itemized.json')"
   ]
  },
  {
   "cell_type": "code",
   "execution_count": 26,
   "metadata": {},
   "outputs": [
    {
     "data": {
      "application/vnd.jupyter.widget-view+json": {
       "model_id": "7a66d597f86643f5b6036410c100c814",
       "version_major": 2,
       "version_minor": 0
      },
      "text/plain": [
       "Pandas Apply:   0%|          | 0/649110 [00:00<?, ?it/s]"
      ]
     },
     "metadata": {},
     "output_type": "display_data"
    }
   ],
   "source": [
    "df_failed_segmentation = df_filtered[df_filtered.swifter.apply(lambda x: len(x[\"name_list\"]) < 2, axis = 1)]\n",
    "df_failed_segmentation = df_failed_segmentation.reset_index(drop=True)\n",
    "df_failed_segmentation.to_csv('xandr_segments_failed_itemization.csv')"
   ]
  },
  {
   "cell_type": "code",
   "execution_count": null,
   "metadata": {},
   "outputs": [],
   "source": []
  }
 ],
 "metadata": {
  "kernelspec": {
   "display_name": "Python 3",
   "language": "python",
   "name": "python3"
  },
  "language_info": {
   "codemirror_mode": {
    "name": "ipython",
    "version": 3
   },
   "file_extension": ".py",
   "mimetype": "text/x-python",
   "name": "python",
   "nbconvert_exporter": "python",
   "pygments_lexer": "ipython3",
   "version": "3.10.6"
  },
  "orig_nbformat": 4
 },
 "nbformat": 4,
 "nbformat_minor": 2
}
