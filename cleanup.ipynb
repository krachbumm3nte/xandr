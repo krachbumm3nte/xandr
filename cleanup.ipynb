{
 "cells": [
  {
   "cell_type": "code",
   "execution_count": 3,
   "metadata": {},
   "outputs": [],
   "source": [
    "import csv\n",
    "import json\n",
    "import numpy as np\n",
    "import pandas as pd\n",
    "import re\n",
    "import utils\n",
    "from collections import Counter\n"
   ]
  },
  {
   "cell_type": "code",
   "execution_count": 4,
   "metadata": {},
   "outputs": [],
   "source": [
    "df_orig = pd.read_csv(\"xandr_segments.csv\", sep=\",\") # load data\n",
    "# rename columns\n",
    "df_orig = df_orig.rename(columns={\"Segment Name\": \"name\", \"Data Provider Name\": \"provider_name\",\"Data Provider ID\": \"provider_id\",\"Segment ID\" : \"id\"})\n",
    "df_orig[\"name_list\"] = np.nan # introduce empty column for itemized segment name"
   ]
  },
  {
   "cell_type": "code",
   "execution_count": 5,
   "metadata": {},
   "outputs": [
    {
     "data": {
      "text/plain": [
       "array(['Nielsen Marketing Cloud', 'Datonics', 'AdAdvisor by Neustar',\n",
       "       'Lotame', 'Peer39', 'KBM Group', 'Grapeshot', 'DoubleVerify',\n",
       "       'Cross Pixel Media',\n",
       "       'Audiences by Oracle (BlueKai, Datalogix, AddThis)',\n",
       "       'Integral Ad Science - Display', 'Navegg', 'VisualDNA', 'Samba TV',\n",
       "       'Teletrax', 'Statiq Ltd', 'Factual Inc', 'Skimlinks, Inc.',\n",
       "       'Gourmet Ads Pty Limited', 'Qriously Ltd.', 'Retargetly',\n",
       "       'Chegg, Inc.', 'Roq.ad GmbH', 'WhiteOps, Inc.', 'Cardlytics, Inc.',\n",
       "       'comScore Inc.', 'Eyeota',\n",
       "       'Oracle Customs (1st, BlueKai, Datalogix, AddThis)',\n",
       "       'AppNexus Services Network', 'Epsilon Data Management, LLC.',\n",
       "       'LiveRamp Data Store', 'ShareThis Inc.', 'Sirdata SAS', 'El Toro',\n",
       "       'El Toro, LLC', 'ZeoTap', 'Audience Project Aps', 'Dstillery',\n",
       "       'Adsquare (Data Provider)', 'Bombora Inc.', 'dataXtrade GmbH',\n",
       "       'Tru Optik (CTV)', 'Audiens S.R.L.', 'PlaceIQ Inc.',\n",
       "       'ALLIANCE GRAVITY DATA MEDIA', 'OwnerIQ Inc.',\n",
       "       'Datmean (Data Provider)', 'The ADEX GmbH', 'Digiseg',\n",
       "       'Semasio GmbH (Data Provider)', 'Illuma Data', 'Adloox',\n",
       "       'Captify Technologies Ltd', 'Kochava', 'Emetriq GmbH',\n",
       "       'Skydeo, Inc.', 'Ignition One', 'Orange Private Data Marketplace',\n",
       "       'Alphonso Inc', 'YoCanna Inc.', 'Xandr', 'Signals s.r.l.',\n",
       "       'Accordant Media LLC', 'Greenhouse Group B.V.',\n",
       "       'AlikeAudience, Inc.', 'Crossix', 'digitalAudience',\n",
       "       'Avid Media Ltd',\n",
       "       'FNAC DARTY PARTICIPATIONS SERVICES (Data Provider)',\n",
       "       'The Weather Channel, LLC', 'Adstra, LLC',\n",
       "       'Integral Ad Science - Mobile', 'Acxiom', 'Scibids Technology SAS',\n",
       "       'Klox', 'Weborama SA (Data Provider)', 'CDiscount SA',\n",
       "       'Semcasting (Data Provider)', 'Tail Target (Data Provider)',\n",
       "       'Realytics', 'Inuvo', 'PLAYGROUND XYZ', 'Beemray OY',\n",
       "       'audienzz ag', 'Netsprint SA[(Data Provider)]', 'Meetrics GmbH',\n",
       "       'hyScore.io GmbH', 'Semasio (Contextual)', 'GroupM NL - GH 6924',\n",
       "       'Jellyfish France', 'whiteBULLET Solutions Ltd.', 'HYP PTY LTD',\n",
       "       'Emetriq GmbH RT'], dtype=object)"
      ]
     },
     "execution_count": 5,
     "metadata": {},
     "output_type": "execute_result"
    }
   ],
   "source": [
    "provider_ids = df_orig[\"provider_id\"].unique()\n",
    "provider_names = df_orig[\"provider_name\"].unique()\n",
    "\n",
    "provider_names"
   ]
  },
  {
   "cell_type": "code",
   "execution_count": 6,
   "metadata": {},
   "outputs": [
    {
     "data": {
      "text/plain": [
       "[('Audiences by Oracle (BlueKai, Datalogix, AddThis)', 132645),\n",
       " ('LiveRamp Data Store', 82363),\n",
       " ('Grapeshot', 73569),\n",
       " ('Nielsen Marketing Cloud', 65610),\n",
       " ('Eyeota', 53526),\n",
       " ('Factual Inc', 29208),\n",
       " ('Oracle Customs (1st, BlueKai, Datalogix, AddThis)', 26288),\n",
       " ('Adsquare (Data Provider)', 15246),\n",
       " ('Dstillery', 12630),\n",
       " ('Skydeo, Inc.', 11972),\n",
       " ('Semcasting (Data Provider)', 10988),\n",
       " ('OwnerIQ Inc.', 10027),\n",
       " ('Lotame', 9523),\n",
       " ('Peer39', 7961),\n",
       " ('Retargetly', 7233),\n",
       " ('AlikeAudience, Inc.', 7075),\n",
       " ('KBM Group', 6765),\n",
       " ('comScore Inc.', 6451),\n",
       " ('ZeoTap', 5367),\n",
       " ('AdAdvisor by Neustar', 4992),\n",
       " ('Bombora Inc.', 4882),\n",
       " ('Tru Optik (CTV)', 4127),\n",
       " ('Epsilon Data Management, LLC.', 3812),\n",
       " ('HYP PTY LTD', 3661),\n",
       " ('ShareThis Inc.', 3454),\n",
       " ('VisualDNA', 2988),\n",
       " ('Tail Target (Data Provider)', 2966),\n",
       " ('Acxiom', 2886),\n",
       " ('Adstra, LLC', 2882),\n",
       " ('Xandr', 2706),\n",
       " ('Accordant Media LLC', 2683),\n",
       " ('The ADEX GmbH', 2628),\n",
       " ('Navegg', 2492),\n",
       " ('ALLIANCE GRAVITY DATA MEDIA', 2437),\n",
       " ('Orange Private Data Marketplace', 2215),\n",
       " ('Skimlinks, Inc.', 2169),\n",
       " ('Cross Pixel Media', 1813),\n",
       " ('GroupM NL - GH 6924', 1663),\n",
       " ('DoubleVerify', 1610),\n",
       " ('Datonics', 1604),\n",
       " ('Sirdata SAS', 1482),\n",
       " ('Semasio GmbH (Data Provider)', 1396),\n",
       " ('Audiens S.R.L.', 1325),\n",
       " ('Roq.ad GmbH', 1279),\n",
       " ('PlaceIQ Inc.', 1230),\n",
       " ('Integral Ad Science - Display', 995),\n",
       " ('Crossix', 813),\n",
       " ('The Weather Channel, LLC', 797),\n",
       " ('digitalAudience', 762),\n",
       " ('Emetriq GmbH', 692)]"
      ]
     },
     "execution_count": 6,
     "metadata": {},
     "output_type": "execute_result"
    }
   ],
   "source": [
    "\n",
    "\n",
    "Counter(df_orig[\"provider_name\"]).most_common(50)"
   ]
  },
  {
   "cell_type": "code",
   "execution_count": 4,
   "metadata": {},
   "outputs": [],
   "source": [
    "utils.df_apply_function(df_orig, \"name\", utils.clean_segment_name) # clean all segment names"
   ]
  },
  {
   "cell_type": "code",
   "execution_count": 5,
   "metadata": {},
   "outputs": [],
   "source": [
    "# itemize all segment names\n",
    "\n",
    "for index,data in df_orig.iterrows():\n",
    "    data[\"name_list\"] = utils.itemize_segment_name(data[\"name\"])\n",
    "    df_orig.iloc[index] = data\n",
    "    "
   ]
  },
  {
   "cell_type": "code",
   "execution_count": 6,
   "metadata": {},
   "outputs": [],
   "source": [
    "with open('xandr_segments_itemized.json', \"w\") as f:\n",
    "    df_orig.to_json(f)"
   ]
  },
  {
   "attachments": {},
   "cell_type": "markdown",
   "metadata": {},
   "source": []
  }
 ],
 "metadata": {
  "kernelspec": {
   "display_name": "Python 3",
   "language": "python",
   "name": "python3"
  },
  "language_info": {
   "codemirror_mode": {
    "name": "ipython",
    "version": 3
   },
   "file_extension": ".py",
   "mimetype": "text/x-python",
   "name": "python",
   "nbconvert_exporter": "python",
   "pygments_lexer": "ipython3",
   "version": "3.10.6"
  },
  "orig_nbformat": 4
 },
 "nbformat": 4,
 "nbformat_minor": 2
}
