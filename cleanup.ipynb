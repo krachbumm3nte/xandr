{
 "cells": [
  {
   "cell_type": "code",
   "execution_count": 2,
   "metadata": {},
   "outputs": [],
   "source": [
    "import csv\n",
    "import json\n",
    "import numpy as np\n",
    "import pandas as pd\n",
    "import re\n",
    "from utils import *"
   ]
  },
  {
   "cell_type": "code",
   "execution_count": 3,
   "metadata": {},
   "outputs": [],
   "source": [
    "df_orig = pd.read_csv(\"xandr_segments.csv\", sep=\",\")\n",
    "df_orig = df_orig.head(50000)"
   ]
  },
  {
   "cell_type": "code",
   "execution_count": 4,
   "metadata": {},
   "outputs": [],
   "source": [
    "df_lower = df_orig.copy()\n",
    "df_lower[\"Segment Name\"] = df_orig.apply(lambda x: x[\"Segment Name\"].lower(), axis=1)"
   ]
  },
  {
   "cell_type": "code",
   "execution_count": 5,
   "metadata": {},
   "outputs": [
    {
     "data": {
      "text/plain": [
       "array(['Nielsen Marketing Cloud', 'Datonics', 'AdAdvisor by Neustar',\n",
       "       'Lotame', 'Peer39', 'KBM Group', 'Grapeshot', 'DoubleVerify',\n",
       "       'Cross Pixel Media',\n",
       "       'Audiences by Oracle (BlueKai, Datalogix, AddThis)'], dtype=object)"
      ]
     },
     "execution_count": 5,
     "metadata": {},
     "output_type": "execute_result"
    }
   ],
   "source": [
    "provider_ids = df_orig[\"Data Provider ID\"].unique()\n",
    "provider_names = df_orig[\"Data Provider Name\"].unique()\n",
    "\n",
    "provider_names"
   ]
  },
  {
   "cell_type": "code",
   "execution_count": 6,
   "metadata": {},
   "outputs": [
    {
     "data": {
      "text/plain": [
       "0    Consumer Targets - Interests - Auto and Other ...\n",
       "1    Consumer Targets - Interests - Auto and Other ...\n",
       "2    Consumer Targets - Custom Characteristics - So...\n",
       "3    Consumer Targets - Custom Characteristics (Exe...\n",
       "4    Bombora B2B Intent Signals - Human Resources -...\n",
       "Name: Segment Name, dtype: object"
      ]
     },
     "execution_count": 6,
     "metadata": {},
     "output_type": "execute_result"
    }
   ],
   "source": [
    "df_orig.head(5)[\"Segment Name\"]"
   ]
  },
  {
   "cell_type": "code",
   "execution_count": 7,
   "metadata": {},
   "outputs": [],
   "source": [
    "\n",
    "separator_hierarchy = [\">\", \"::\", \"-\", \"—\"]\n",
    "\n",
    "\n",
    "\n",
    "\n",
    "def itemize_segment_name(name: str):\n",
    "\n",
    "    name = name.strip()\n",
    "\n",
    "    # sometimes segment names are enquoted...\n",
    "    if name[0] == name[-1] == '\"':\n",
    "        name = name[1:-1]\n",
    "\n",
    "    items = []\n",
    "    for sep in separator_hierarchy:\n",
    "        if name.count(sep) > 1:\n",
    "            items = name.split(sep)\n",
    "            break\n",
    "    else:\n",
    "        return None\n",
    "\n",
    "    items = [i.strip().lower() for i in items]\n",
    "    return items"
   ]
  },
  {
   "cell_type": "code",
   "execution_count": 8,
   "metadata": {},
   "outputs": [],
   "source": [
    "eu_countries = scrape_table(\n",
    "    \"https://ec.europa.eu/eurostat/statistics-explained/index.php?title=Glossary:Country_codes\")\n",
    "eu_countries = np.vstack([eu_countries.values[:, 0:2], eu_countries.values[:, 2:4], eu_countries.values[:, 4:6], eu_countries.values[:-1, 6:8]])\n",
    "eu_countries[:,0] = [f.strip().lower() for f in eu_countries[:,0]]\n",
    "eu_countries[:,1] = [f[1:3] for f in eu_countries[:,1]]"
   ]
  },
  {
   "cell_type": "code",
   "execution_count": 10,
   "metadata": {},
   "outputs": [
    {
     "data": {
      "text/html": [
       "<div>\n",
       "<style scoped>\n",
       "    .dataframe tbody tr th:only-of-type {\n",
       "        vertical-align: middle;\n",
       "    }\n",
       "\n",
       "    .dataframe tbody tr th {\n",
       "        vertical-align: top;\n",
       "    }\n",
       "\n",
       "    .dataframe thead th {\n",
       "        text-align: right;\n",
       "    }\n",
       "</style>\n",
       "<table border=\"1\" class=\"dataframe\">\n",
       "  <thead>\n",
       "    <tr style=\"text-align: right;\">\n",
       "      <th></th>\n",
       "      <th>Data Provider Name</th>\n",
       "      <th>Data Provider ID</th>\n",
       "      <th>Segment ID</th>\n",
       "      <th>Segment Name</th>\n",
       "    </tr>\n",
       "  </thead>\n",
       "  <tbody>\n",
       "    <tr>\n",
       "      <th>0</th>\n",
       "      <td>Nielsen Marketing Cloud</td>\n",
       "      <td>39</td>\n",
       "      <td>4015114</td>\n",
       "      <td>[consumer targets, interests, auto and other v...</td>\n",
       "    </tr>\n",
       "    <tr>\n",
       "      <th>1</th>\n",
       "      <td>Nielsen Marketing Cloud</td>\n",
       "      <td>39</td>\n",
       "      <td>4015099</td>\n",
       "      <td>[consumer targets, interests, auto and other v...</td>\n",
       "    </tr>\n",
       "    <tr>\n",
       "      <th>2</th>\n",
       "      <td>Nielsen Marketing Cloud</td>\n",
       "      <td>39</td>\n",
       "      <td>4015077</td>\n",
       "      <td>[consumer targets, custom characteristics, sof...</td>\n",
       "    </tr>\n",
       "    <tr>\n",
       "      <th>3</th>\n",
       "      <td>Nielsen Marketing Cloud</td>\n",
       "      <td>39</td>\n",
       "      <td>5174108</td>\n",
       "      <td>[bombora b2b intent signals, human resources, ...</td>\n",
       "    </tr>\n",
       "    <tr>\n",
       "      <th>4</th>\n",
       "      <td>Nielsen Marketing Cloud</td>\n",
       "      <td>39</td>\n",
       "      <td>1792609</td>\n",
       "      <td>[b2b targets, seniority, support (exelate)]</td>\n",
       "    </tr>\n",
       "    <tr>\n",
       "      <th>...</th>\n",
       "      <td>...</td>\n",
       "      <td>...</td>\n",
       "      <td>...</td>\n",
       "      <td>...</td>\n",
       "    </tr>\n",
       "    <tr>\n",
       "      <th>6119</th>\n",
       "      <td>Lotame</td>\n",
       "      <td>422</td>\n",
       "      <td>8059113</td>\n",
       "      <td>[mobilewalla, philippines, christmas / boxing ...</td>\n",
       "    </tr>\n",
       "    <tr>\n",
       "      <th>6120</th>\n",
       "      <td>Lotame</td>\n",
       "      <td>422</td>\n",
       "      <td>8059147</td>\n",
       "      <td>[mobilewalla, philippines, retail, cpg buyers]</td>\n",
       "    </tr>\n",
       "    <tr>\n",
       "      <th>6121</th>\n",
       "      <td>Lotame</td>\n",
       "      <td>422</td>\n",
       "      <td>8058968</td>\n",
       "      <td>[mobilewalla, philippines, department store va...</td>\n",
       "    </tr>\n",
       "    <tr>\n",
       "      <th>6122</th>\n",
       "      <td>Lotame</td>\n",
       "      <td>422</td>\n",
       "      <td>8059111</td>\n",
       "      <td>[mobilewalla, philippines, fireworks shoppers]</td>\n",
       "    </tr>\n",
       "    <tr>\n",
       "      <th>6123</th>\n",
       "      <td>Lotame</td>\n",
       "      <td>422</td>\n",
       "      <td>8059109</td>\n",
       "      <td>[mobilewalla, philippines, greenhills shoppers]</td>\n",
       "    </tr>\n",
       "  </tbody>\n",
       "</table>\n",
       "<p>6124 rows × 4 columns</p>\n",
       "</div>"
      ],
      "text/plain": [
       "           Data Provider Name Data Provider ID Segment ID  \\\n",
       "0     Nielsen Marketing Cloud               39    4015114   \n",
       "1     Nielsen Marketing Cloud               39    4015099   \n",
       "2     Nielsen Marketing Cloud               39    4015077   \n",
       "3     Nielsen Marketing Cloud               39    5174108   \n",
       "4     Nielsen Marketing Cloud               39    1792609   \n",
       "...                       ...              ...        ...   \n",
       "6119                   Lotame              422    8059113   \n",
       "6120                   Lotame              422    8059147   \n",
       "6121                   Lotame              422    8058968   \n",
       "6122                   Lotame              422    8059111   \n",
       "6123                   Lotame              422    8059109   \n",
       "\n",
       "                                           Segment Name  \n",
       "0     [consumer targets, interests, auto and other v...  \n",
       "1     [consumer targets, interests, auto and other v...  \n",
       "2     [consumer targets, custom characteristics, sof...  \n",
       "3     [bombora b2b intent signals, human resources, ...  \n",
       "4           [b2b targets, seniority, support (exelate)]  \n",
       "...                                                 ...  \n",
       "6119  [mobilewalla, philippines, christmas / boxing ...  \n",
       "6120     [mobilewalla, philippines, retail, cpg buyers]  \n",
       "6121  [mobilewalla, philippines, department store va...  \n",
       "6122     [mobilewalla, philippines, fireworks shoppers]  \n",
       "6123    [mobilewalla, philippines, greenhills shoppers]  \n",
       "\n",
       "[6124 rows x 4 columns]"
      ]
     },
     "execution_count": 10,
     "metadata": {},
     "output_type": "execute_result"
    }
   ],
   "source": [
    "df_no_sep = pd.DataFrame(columns=df_orig.columns)\n",
    "df_split = pd.DataFrame(columns=df_orig.columns)\n",
    "\n",
    "for index,data in df_orig.head(10000).iterrows():\n",
    "    segment = data[\"Segment Name\"]\n",
    "\n",
    "    \n",
    "\n",
    "    if items := itemize_segment_name(segment):\n",
    "        data[\"Segment Name\"] = items\n",
    "        df_split.loc[len(df_split)] = data\n",
    "    else:\n",
    "        df_no_sep.loc[len(df_no_sep)] = data\n",
    "\n",
    "\n",
    "df_split\n",
    "\n"
   ]
  },
  {
   "cell_type": "code",
   "execution_count": 11,
   "metadata": {},
   "outputs": [
    {
     "data": {
      "text/plain": [
       "<PandasArray>\n",
       "[                        'Consumer Targets - Custom Characteristics (Exelate)',\n",
       "                                           'Test Segment 1 - Client (Exelate)',\n",
       "                                           'Test Segment 2 - Client (Exelate)',\n",
       "                                           'Test Segment 3 - Client (Exelate)',\n",
       "                          'Finance & Money > Credit & Credit Cards (Datonics)',\n",
       "                                       'Finance & Money > Mortgage (Datonics)',\n",
       "                                               'Neustar AdAdvisor Element 001',\n",
       "                                               'Neustar AdAdvisor Element 002',\n",
       "                                               'Neustar AdAdvisor Element 003',\n",
       "                                               'Neustar AdAdvisor Element 004',\n",
       " ...\n",
       "                                       'Infogroup - Product Purchases > Tools',\n",
       "                                      'Infogroup - Product Purchases > Travel',\n",
       "                                 'Infogroup - Product Purchases > Video Games',\n",
       "                                    'Infogroup - Product Purchases > Vitamins',\n",
       "                                        'Infogroup - Product Purchases > Wine',\n",
       " 'Infogroup - Sport and Outdoor Activities > Professional Baseball Sports Fan',\n",
       "                'Infogroup - Sport and Outdoor Activities > Soccer Sports Fan',\n",
       "                            'Infogroup - Travel > Frequent Business Travelers',\n",
       "                                           'Infogroup - Undeclared Executives',\n",
       "                                                'Infogroup - Young Executives']\n",
       "Length: 3876, dtype: object"
      ]
     },
     "execution_count": 11,
     "metadata": {},
     "output_type": "execute_result"
    }
   ],
   "source": [
    "df_no_sep[\"Segment Name\"].array"
   ]
  },
  {
   "cell_type": "code",
   "execution_count": 12,
   "metadata": {},
   "outputs": [],
   "source": [
    "\n",
    "\n",
    "df_travelling = pd.DataFrame(columns=df_orig.columns)\n",
    "df_country = pd.DataFrame(columns=df_orig.columns)\n",
    "\n",
    "\n",
    "for index, data in df_split.iterrows():\n",
    "    segments = data[\"Segment Name\"]\n",
    "    \n",
    "    "
   ]
  },
  {
   "cell_type": "code",
   "execution_count": 22,
   "metadata": {},
   "outputs": [],
   "source": [
    "\n",
    "taboo_set = {\"travel\", \"departure\", \"destination\", \"tourism\", \"vacation\"}\n",
    "filtered_travel_words = df_lower[df_lower.apply(lambda x: not any( taboo_word in x[\"Segment Name\"] for taboo_word in taboo_set), axis=1)]"
   ]
  },
  {
   "cell_type": "code",
   "execution_count": 18,
   "metadata": {},
   "outputs": [
    {
     "data": {
      "text/plain": [
       "<PandasArray>\n",
       "[                             'consumer targets - custom characteristics - premium interest - household - travel (exelate)',\n",
       "                                           'b2b targets - industry - transportation and travel - travel agencies (exelate)',\n",
       "                                            'b2b targets - industry - transportation and travel - ground transit (exelate)',\n",
       "                                               'b2b targets - industry - transportation and travel - warehousing (exelate)',\n",
       "                     'tech targets - from whotoo - industry - transportation and travel - trucking and logistics (exelate)',\n",
       "                                        'b2b targets - industry - transportation and travel - air transportation (exelate)',\n",
       "                                     'tech targets - from whotoo - industry - transportation and travel - marine (exelate)',\n",
       "                             'tech targets - from whotoo - industry - transportation and travel - ground transit (exelate)',\n",
       "                                                    'b2b targets - industry - transportation and travel - marine (exelate)',\n",
       "                            'tech targets - from whotoo - industry - transportation and travel - travel agencies (exelate)',\n",
       " ...\n",
       "                               'oracle dlx (datalogix) > dlx demographics > travel and tourism > business travel (bluekai)',\n",
       "               'oracle dlx (datalogix) > dlx demographics > travel and tourism > business travel > international (bluekai)',\n",
       "                         'oracle dlx (datalogix) > dlx demographics > travel and tourism > business travel > usa (bluekai)',\n",
       "         'oracle dlx (datalogix) > dlx demographics > travel and tourism > personal and leisure travel > cruises (bluekai)',\n",
       " 'oracle dlx (datalogix) > dlx demographics > travel and tourism > personal and leisure travel > family vacation (bluekai)',\n",
       "                               'oracle dlx (datalogix) > dlx demographics > travel and tourism > frequent flyers (bluekai)',\n",
       "                   'oracle dlx (datalogix) > dlx demographics > travel and tourism > personal and leisure travel (bluekai)',\n",
       "   'oracle dlx (datalogix) > dlx demographics > travel and tourism > personal and leisure travel > international (bluekai)',\n",
       "             'oracle dlx (datalogix) > dlx demographics > travel and tourism > personal and leisure travel > usa (bluekai)',\n",
       "       'oracle dlx (datalogix) > dlx demographics > travel and tourism > personal and leisure travel > timeshare (bluekai)']\n",
       "Length: 1800, dtype: object"
      ]
     },
     "execution_count": 18,
     "metadata": {},
     "output_type": "execute_result"
    }
   ],
   "source": [
    "df_lower[df_lower.apply(lambda x: any( taboo_word in x[\"Segment Name\"] for taboo_word in taboo_set), axis=1)][\"Segment Name\"].array"
   ]
  },
  {
   "cell_type": "code",
   "execution_count": 20,
   "metadata": {},
   "outputs": [
    {
     "data": {
      "text/plain": [
       "array(['belgium', 'bulgaria', 'czechia', 'denmark', 'germany', 'estonia',\n",
       "       'ireland', 'greece', 'spain', 'france', 'croatia', 'italy',\n",
       "       'cyprus', 'latvia', 'lithuania', 'luxembourg', 'hungary', 'malta',\n",
       "       'netherlands', 'austria', 'poland', 'portugal', 'romania',\n",
       "       'slovenia', 'slovakia', 'finland', 'sweden'], dtype=object)"
      ]
     },
     "execution_count": 20,
     "metadata": {},
     "output_type": "execute_result"
    }
   ],
   "source": [
    "eu_names = eu_countries[:,0]\n",
    "eu_names"
   ]
  },
  {
   "cell_type": "code",
   "execution_count": 23,
   "metadata": {},
   "outputs": [],
   "source": [
    "filtered_eu = filtered_travel_words[filtered_travel_words.apply(lambda x: any( country in x[\"Segment Name\"] for country in eu_names), axis=1)]"
   ]
  },
  {
   "cell_type": "code",
   "execution_count": 25,
   "metadata": {},
   "outputs": [
    {
     "data": {
      "text/plain": [
       "<PandasArray>\n",
       "[                                            'grocery > sparkling water > sparkling waters-brand use most-poland spring',\n",
       "  'neustar adadvisor > alcohol (restricted to best practices) > beer & ale > purchase beers & ales: new belgium brewery',\n",
       "                                                                                               'tour de france (lotame)',\n",
       "                                                                         'international_eu - austria all users (lotame)',\n",
       "                                                                     'international_eu - austria art & culture (lotame)',\n",
       "                                                                       'international_eu - austria automobiles (lotame)',\n",
       "                                                                          'international_eu - austria business (lotame)',\n",
       "                                                          'international_eu - austria computers and technology (lotame)',\n",
       "                                                                     'international_eu - austria entertainment (lotame)',\n",
       "                                                                  'international_eu - austria fashion & beauty (lotame)',\n",
       " ...\n",
       "  'geographic > ip based > country > europe > northern europe > united kingdom > northern ireland > banbridge (bluekai)',\n",
       " 'geographic > ip based > country > europe > northern europe > united kingdom > northern ireland > ballymoney (bluekai)',\n",
       "  'geographic > ip based > country > europe > northern europe > united kingdom > northern ireland > ballymena (bluekai)',\n",
       "     'geographic > ip based > country > europe > northern europe > united kingdom > northern ireland > armagh (bluekai)',\n",
       "       'geographic > ip based > country > europe > northern europe > united kingdom > northern ireland > ards (bluekai)',\n",
       "     'geographic > ip based > country > europe > northern europe > united kingdom > northern ireland > antrim (bluekai)',\n",
       "              'geographic > ip based > country > europe > northern europe > united kingdom > northern ireland (bluekai)',\n",
       "                                      'branded data > adadvisor by neustar > grocery > brands > poland spring (bluekai)',\n",
       "                                             'branded data > cross pixel > demographics > language > croatian (bluekai)',\n",
       "                                             'branded data > cross pixel > demographics > language > romanian (bluekai)']\n",
       "Length: 1594, dtype: object"
      ]
     },
     "execution_count": 25,
     "metadata": {},
     "output_type": "execute_result"
    }
   ],
   "source": [
    "filtered_eu[\"Segment Name\"].array"
   ]
  },
  {
   "cell_type": "code",
   "execution_count": null,
   "metadata": {},
   "outputs": [],
   "source": []
  }
 ],
 "metadata": {
  "kernelspec": {
   "display_name": "Python 3",
   "language": "python",
   "name": "python3"
  },
  "language_info": {
   "codemirror_mode": {
    "name": "ipython",
    "version": 3
   },
   "file_extension": ".py",
   "mimetype": "text/x-python",
   "name": "python",
   "nbconvert_exporter": "python",
   "pygments_lexer": "ipython3",
   "version": "3.10.6"
  },
  "orig_nbformat": 4
 },
 "nbformat": 4,
 "nbformat_minor": 2
}
