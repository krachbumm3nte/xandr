{
 "cells": [
  {
   "cell_type": "code",
   "execution_count": 9,
   "metadata": {},
   "outputs": [],
   "source": [
    "import csv\n",
    "import json\n",
    "import numpy as np\n",
    "import pandas as pd\n",
    "import re\n",
    "import utils\n",
    "from collections import Counter\n",
    "import swifter"
   ]
  },
  {
   "cell_type": "code",
   "execution_count": 10,
   "metadata": {},
   "outputs": [],
   "source": [
    "df_orig = pd.read_csv(\"xandr_segments.csv\", sep=\",\") # load data\n",
    "# rename columns\n",
    "df_orig = df_orig.rename(columns={\"Segment Name\": \"name\", \"Data Provider Name\": \"provider_name\",\"Data Provider ID\": \"provider_id\",\"Segment ID\" : \"id\"})\n",
    "df_orig[\"name_list\"] = np.nan # empty column for itemized segment name\n",
    "df_orig[\"data_source\"] = np.nan # empty column for data source inside segment names"
   ]
  },
  {
   "cell_type": "code",
   "execution_count": 1,
   "metadata": {},
   "outputs": [
    {
     "ename": "NameError",
     "evalue": "name 'df_orig' is not defined",
     "output_type": "error",
     "traceback": [
      "\u001b[0;31m---------------------------------------------------------------------------\u001b[0m",
      "\u001b[0;31mNameError\u001b[0m                                 Traceback (most recent call last)",
      "Cell \u001b[0;32mIn[1], line 1\u001b[0m\n\u001b[0;32m----> 1\u001b[0m provider_ids \u001b[39m=\u001b[39m df_orig[\u001b[39m\"\u001b[39m\u001b[39mprovider_id\u001b[39m\u001b[39m\"\u001b[39m]\u001b[39m.\u001b[39munique()\n\u001b[1;32m      2\u001b[0m provider_names \u001b[39m=\u001b[39m df_orig[\u001b[39m\"\u001b[39m\u001b[39mprovider_name\u001b[39m\u001b[39m\"\u001b[39m]\u001b[39m.\u001b[39munique()\n\u001b[1;32m      3\u001b[0m Counter(df_orig[\u001b[39m\"\u001b[39m\u001b[39mprovider_name\u001b[39m\u001b[39m\"\u001b[39m])\u001b[39m.\u001b[39mmost_common(\u001b[39m20\u001b[39m)\n",
      "\u001b[0;31mNameError\u001b[0m: name 'df_orig' is not defined"
     ]
    }
   ],
   "source": [
    "provider_ids = df_orig[\"provider_id\"].unique()\n",
    "provider_names = df_orig[\"provider_name\"].unique()\n",
    "Counter(df_orig[\"provider_name\"]).most_common(20)"
   ]
  },
  {
   "cell_type": "code",
   "execution_count": 12,
   "metadata": {},
   "outputs": [
    {
     "data": {
      "application/vnd.jupyter.widget-view+json": {
       "model_id": "adf839b8d7ab4b89bc2b55e74501e50f",
       "version_major": 2,
       "version_minor": 0
      },
      "text/plain": [
       "Pandas Apply:   0%|          | 0/651463 [00:00<?, ?it/s]"
      ]
     },
     "metadata": {},
     "output_type": "display_data"
    }
   ],
   "source": [
    "# Clean segement names (diactrics and capitalization)\n",
    "df_orig[\"name\"] = df_orig.swifter.apply(lambda row: utils.clean_segment_name(row[\"name\"]), axis = 1)"
   ]
  },
  {
   "cell_type": "code",
   "execution_count": 13,
   "metadata": {},
   "outputs": [
    {
     "data": {
      "application/vnd.jupyter.widget-view+json": {
       "model_id": "a87fb070f1c94d84a29b8ae579b3c163",
       "version_major": 2,
       "version_minor": 0
      },
      "text/plain": [
       "Pandas Apply:   0%|          | 0/651463 [00:00<?, ?it/s]"
      ]
     },
     "metadata": {},
     "output_type": "display_data"
    },
    {
     "data": {
      "application/vnd.jupyter.widget-view+json": {
       "model_id": "87297d81c8f04d0e9d0ea77543b0b9b5",
       "version_major": 2,
       "version_minor": 0
      },
      "text/plain": [
       "Pandas Apply:   0%|          | 0/651463 [00:00<?, ?it/s]"
      ]
     },
     "metadata": {},
     "output_type": "display_data"
    }
   ],
   "source": [
    "# Extract data source from the end of a segment name (written in parentheses if present) as it only hinders analyses \n",
    "data_source_re = re.compile(r\"\\([\\w ]{3,25}\\)$\")\n",
    "def extract_data_source(row):\n",
    "    name = row[\"name\"]\n",
    "    if data_source_match := re.search(data_source_re, name): # search for a data source at the end of the segment name\n",
    "            row[\"data_source\"] = data_source_match.group(0)[1:-1] # enter the data source into the corrseponding column (without brackets)\n",
    "            row[\"name\"] = name[:data_source_match.start(0)].strip() # crop the existing segment name\n",
    "    \n",
    "    return row\n",
    "\n",
    "df_orig = df_orig.swifter.apply(extract_data_source, axis=1)\n",
    "\n",
    "\n",
    "# Segments by a few brokers are multilingual which messes up all kinds of upcoming operations. All of them follow the same principle\n",
    "# and are simply cut off here \n",
    "pruning_re = re.compile(r\"\\(en\\).+\\(es\\).+\\(pt\\)\")\n",
    "def prune_segname(row):\n",
    "    name = row[\"name\"]\n",
    "    if match := re.search(pruning_re, name):\n",
    "         row[\"name\"] = name[:match.start(0)].strip()\n",
    "    return row\n",
    "\n",
    "df_orig = df_orig.swifter.apply(prune_segname, axis=1)\n"
   ]
  },
  {
   "cell_type": "code",
   "execution_count": 14,
   "metadata": {},
   "outputs": [
    {
     "data": {
      "application/vnd.jupyter.widget-view+json": {
       "model_id": "1b45ba73017c4c51b8e4af0e2aea06af",
       "version_major": 2,
       "version_minor": 0
      },
      "text/plain": [
       "Pandas Apply:   0%|          | 0/651463 [00:00<?, ?it/s]"
      ]
     },
     "metadata": {},
     "output_type": "display_data"
    }
   ],
   "source": [
    "# itemize all segment names\n",
    "df_orig[\"name_list\"] = df_orig.swifter.apply(lambda row: utils.itemize_segment_name(row[\"name\"]), axis = 1)"
   ]
  },
  {
   "cell_type": "code",
   "execution_count": 15,
   "metadata": {},
   "outputs": [
    {
     "data": {
      "application/vnd.jupyter.widget-view+json": {
       "model_id": "efa43e7b108a49da8ce9fb8e5340963c",
       "version_major": 2,
       "version_minor": 0
      },
      "text/plain": [
       "Pandas Apply:   0%|          | 0/651463 [00:00<?, ?it/s]"
      ]
     },
     "metadata": {},
     "output_type": "display_data"
    }
   ],
   "source": [
    "# remove segments without useful content\n",
    "useless_segment_indices = df_orig.swifter.apply(lambda x: bool(re.search(utils.useless_segments_re, x[\"name\"])), axis = 1)\n",
    "\n",
    "df_useless_segments = df_orig[useless_segment_indices].reset_index(drop=True)\n",
    "df_useless_segments.to_csv(\"useless_segments.csv\")\n",
    "\n",
    "df_filtered = df_orig[useless_segment_indices.__invert__()]\n",
    "df_filtered.to_csv('xandr_segments_itemized.csv')\n",
    "# df_filtered.to_json('xandr_segments_itemized.json')"
   ]
  },
  {
   "cell_type": "code",
   "execution_count": 8,
   "metadata": {},
   "outputs": [
    {
     "data": {
      "application/vnd.jupyter.widget-view+json": {
       "model_id": "b1a706b5e4da4d81883771fe4082c47d",
       "version_major": 2,
       "version_minor": 0
      },
      "text/plain": [
       "Pandas Apply:   0%|          | 0/646021 [00:00<?, ?it/s]"
      ]
     },
     "metadata": {},
     "output_type": "display_data"
    }
   ],
   "source": [
    "df_failed_segmentation = df_filtered[df_filtered.swifter.apply(lambda x: len(x[\"name_list\"]) < 2, axis = 1)]\n",
    "df_failed_segmentation = df_failed_segmentation.reset_index(drop=True)\n",
    "df_failed_segmentation.to_csv('xandr_segments_failed_itemization.csv')"
   ]
  }
 ],
 "metadata": {
  "kernelspec": {
   "display_name": "Python 3",
   "language": "python",
   "name": "python3"
  },
  "language_info": {
   "codemirror_mode": {
    "name": "ipython",
    "version": 3
   },
   "file_extension": ".py",
   "mimetype": "text/x-python",
   "name": "python",
   "nbconvert_exporter": "python",
   "pygments_lexer": "ipython3",
   "version": "3.10.6"
  },
  "orig_nbformat": 4
 },
 "nbformat": 4,
 "nbformat_minor": 2
}
