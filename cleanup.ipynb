{
 "cells": [
  {
   "cell_type": "code",
   "execution_count": 1,
   "metadata": {},
   "outputs": [],
   "source": [
    "import csv\n",
    "import json\n",
    "import numpy as np\n",
    "import pandas as pd\n",
    "import re\n",
    "import utils"
   ]
  },
  {
   "cell_type": "code",
   "execution_count": 2,
   "metadata": {},
   "outputs": [],
   "source": [
    "df_orig = pd.read_csv(\"xandr_segments.csv\", sep=\",\") # load data\n",
    "# rename columns\n",
    "df_orig = df_orig.rename(columns={\"Segment Name\": \"name\", \"Data Provider Name\": \"provider_name\",\"Data Provider ID\": \"provider_id\",\"Segment ID\" : \"id\"})\n",
    "df_orig[\"name_list\"] = np.nan # introduce empty column for itemized segment name"
   ]
  },
  {
   "cell_type": "code",
   "execution_count": 3,
   "metadata": {},
   "outputs": [
    {
     "data": {
      "text/plain": [
       "array(['Nielsen Marketing Cloud', 'Datonics', 'AdAdvisor by Neustar',\n",
       "       'Lotame', 'Peer39', 'KBM Group', 'Grapeshot', 'DoubleVerify',\n",
       "       'Cross Pixel Media',\n",
       "       'Audiences by Oracle (BlueKai, Datalogix, AddThis)',\n",
       "       'Integral Ad Science - Display', 'Navegg', 'VisualDNA', 'Samba TV',\n",
       "       'Teletrax', 'Statiq Ltd', 'Factual Inc', 'Skimlinks, Inc.',\n",
       "       'Gourmet Ads Pty Limited', 'Qriously Ltd.', 'Retargetly',\n",
       "       'Chegg, Inc.', 'Roq.ad GmbH', 'WhiteOps, Inc.', 'Cardlytics, Inc.',\n",
       "       'comScore Inc.', 'Eyeota',\n",
       "       'Oracle Customs (1st, BlueKai, Datalogix, AddThis)',\n",
       "       'AppNexus Services Network', 'Epsilon Data Management, LLC.',\n",
       "       'LiveRamp Data Store', 'ShareThis Inc.', 'Sirdata SAS', 'El Toro',\n",
       "       'El Toro, LLC', 'ZeoTap', 'Audience Project Aps', 'Dstillery',\n",
       "       'Adsquare (Data Provider)', 'Bombora Inc.', 'dataXtrade GmbH',\n",
       "       'Tru Optik (CTV)', 'Audiens S.R.L.', 'PlaceIQ Inc.',\n",
       "       'ALLIANCE GRAVITY DATA MEDIA', 'OwnerIQ Inc.',\n",
       "       'Datmean (Data Provider)', 'The ADEX GmbH', 'Digiseg',\n",
       "       'Semasio GmbH (Data Provider)', 'Illuma Data', 'Adloox',\n",
       "       'Captify Technologies Ltd', 'Kochava', 'Emetriq GmbH',\n",
       "       'Skydeo, Inc.', 'Ignition One', 'Orange Private Data Marketplace',\n",
       "       'Alphonso Inc', 'YoCanna Inc.', 'Xandr', 'Signals s.r.l.',\n",
       "       'Accordant Media LLC', 'Greenhouse Group B.V.',\n",
       "       'AlikeAudience, Inc.', 'Crossix', 'digitalAudience',\n",
       "       'Avid Media Ltd',\n",
       "       'FNAC DARTY PARTICIPATIONS SERVICES (Data Provider)',\n",
       "       'The Weather Channel, LLC', 'Adstra, LLC',\n",
       "       'Integral Ad Science - Mobile', 'Acxiom', 'Scibids Technology SAS',\n",
       "       'Klox', 'Weborama SA (Data Provider)', 'CDiscount SA',\n",
       "       'Semcasting (Data Provider)', 'Tail Target (Data Provider)',\n",
       "       'Realytics', 'Inuvo', 'PLAYGROUND XYZ', 'Beemray OY',\n",
       "       'audienzz ag', 'Netsprint SA[(Data Provider)]', 'Meetrics GmbH',\n",
       "       'hyScore.io GmbH', 'Semasio (Contextual)', 'GroupM NL - GH 6924',\n",
       "       'Jellyfish France', 'whiteBULLET Solutions Ltd.', 'HYP PTY LTD',\n",
       "       'Emetriq GmbH RT'], dtype=object)"
      ]
     },
     "execution_count": 3,
     "metadata": {},
     "output_type": "execute_result"
    }
   ],
   "source": [
    "provider_ids = df_orig[\"provider_id\"].unique()\n",
    "provider_names = df_orig[\"provider_name\"].unique()\n",
    "\n",
    "provider_names"
   ]
  },
  {
   "cell_type": "code",
   "execution_count": 4,
   "metadata": {},
   "outputs": [],
   "source": [
    "utils.df_apply_function(df_orig, \"name\", utils.clean_segment_name) # clean all segment names"
   ]
  },
  {
   "cell_type": "code",
   "execution_count": 5,
   "metadata": {},
   "outputs": [],
   "source": [
    "# itemize all segment names\n",
    "\n",
    "for index,data in df_orig.iterrows():\n",
    "    data[\"name_list\"] = utils.itemize_segment_name(data[\"name\"])\n",
    "    df_orig.iloc[index] = data\n",
    "    "
   ]
  },
  {
   "cell_type": "code",
   "execution_count": 6,
   "metadata": {},
   "outputs": [],
   "source": [
    "with open('xandr_segments_itemized.json', \"w\") as f:\n",
    "    df_orig.to_json(f)"
   ]
  },
  {
   "attachments": {},
   "cell_type": "markdown",
   "metadata": {},
   "source": []
  }
 ],
 "metadata": {
  "kernelspec": {
   "display_name": "Python 3",
   "language": "python",
   "name": "python3"
  },
  "language_info": {
   "codemirror_mode": {
    "name": "ipython",
    "version": 3
   },
   "file_extension": ".py",
   "mimetype": "text/x-python",
   "name": "python",
   "nbconvert_exporter": "python",
   "pygments_lexer": "ipython3",
   "version": "3.10.6"
  },
  "orig_nbformat": 4
 },
 "nbformat": 4,
 "nbformat_minor": 2
}
